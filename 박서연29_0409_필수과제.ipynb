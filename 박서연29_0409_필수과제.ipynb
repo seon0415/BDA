{
  "nbformat": 4,
  "nbformat_minor": 0,
  "metadata": {
    "colab": {
      "provenance": [],
      "authorship_tag": "ABX9TyM4moUYcF+DHp1NhRsMpbUs",
      "include_colab_link": true
    },
    "kernelspec": {
      "name": "python3",
      "display_name": "Python 3"
    },
    "language_info": {
      "name": "python"
    }
  },
  "cells": [
    {
      "cell_type": "markdown",
      "metadata": {
        "id": "view-in-github",
        "colab_type": "text"
      },
      "source": [
        "<a href=\"https://colab.research.google.com/github/seon0415/BDA/blob/main/%EB%B0%95%EC%84%9C%EC%97%B029_0409_%ED%95%84%EC%88%98%EA%B3%BC%EC%A0%9C.ipynb\" target=\"_parent\"><img src=\"https://colab.research.google.com/assets/colab-badge.svg\" alt=\"Open In Colab\"/></a>"
      ]
    },
    {
      "cell_type": "markdown",
      "source": [
        "### 필수과제1\n",
        "- 도수분포표(hist)의 개념 설명과\n",
        "- 도수분포표의 예시 코드를 통해 시각화 설명하기!"
      ],
      "metadata": {
        "id": "hNaXQ-z8ARfu"
      }
    },
    {
      "cell_type": "markdown",
      "source": [
        "###필수과제2\n",
        "- mpg, 타이타닉 데이터를 groupby 등으로 깔끔하게 정리한 데이터를 비교 시각화 진행해 주세요.\n",
        "- 최소 시각화는 5개 이상을 해주시고 ( 우리가 배웠던 다양한 그래프는 필수적으로 1개 이상씩은 진행해 주셔야 합니다. )\n"
      ],
      "metadata": {
        "id": "QXPyKGng_9t1"
      }
    },
    {
      "cell_type": "markdown",
      "source": [
        "### 필수과제 3\n",
        "- 1차원에 대한 시각화인데\n",
        "- 2차원, 2x2 3x3 의 시각화를 그려주세요.\n",
        "- mpg, titanic을 이용해서 각 컬럼에 대한 정리 또는 raw 데이터를 시각화하여 \n",
        "- 4,9개 정도로 그림을 그려 주세요!\n",
        "- 필수적으로 2차원 2개이상 그려주셔야 합니다!"
      ],
      "metadata": {
        "id": "R5nZ7J32_xLN"
      }
    },
    {
      "cell_type": "markdown",
      "source": [
        "### 필수과제 4\n",
        "- 제공한 데이터를 가지고 시각화를 진행해 주세요!\n",
        "- 시각화의 경우는 하나의 그래프를 그리는 것이 아닌 \n",
        "- 문자열데이터와 수치형데이터를 나눠서 그래프를 그려주세요!\n",
        "- 학습이 목적이기 때문에 모든 컬럼을 다 그래프로 그려주세요!\n",
        "- 단 그래프로 그릴 때 설명할 수 있는 그래프로 만들어 주셔야 합니다.\n",
        "- 데이터가 많아지면 문자열 끼리 겹치는 경우가 있다. 그래프의 축에 내용들이 겹치지 않게 진행해 주세요. \n",
        "- x의 값을 각도를 조절해도 되고, x, y 축반전해도 된다. \n",
        "- 해당 그래프를 통해서 누구나 다 쉽게 이해할 수 있게 정리 부탁드립니다.\n",
        "\n",
        "\n",
        "- 시각화를 통한 비교 분석도 진행해 주세요!\n",
        "- 데이터를 드릴 때 class 또는 정답이 있을 것이다.\n",
        "- 이진 분류면 1, 0 등 class의 값에 따른 피처의 분포가 어떻게 되는지 시각화를 통해서 확인하고\n",
        "- 그걸 통해서 이진분류, 또는 다중분류의 경우 건 y 값의 따른 피처들의 분포가 어떻게 다른지를 꼭 정리해 주셔야 합니다.\n",
        "- 대충 글만 적고 소팅하고 개수만 말하는 건 인정하지 않습니다.(주관적이지만 성의없는 건 value_counts해서 몇 개가 많다 끝 이런 건 인정하지 않습니다.)\n",
        "- 비교분석과 y 값에 대한 패턴을 잘 나타내야 합니다.\n",
        "\n",
        "- 시각화를 통한 컬럼의 정규분포를 검정해주세요.\n",
        "- shapiro, 등을 통해 정규성을 검정하고 실제로 시각화 그래프와 실제 정규성 검정을 한 것이 어떻게 나오는지도 비교 분석 부탁드립니다."
      ],
      "metadata": {
        "id": "eJHXCpib_tWZ"
      }
    },
    {
      "cell_type": "markdown",
      "source": [
        "- 과제 데드라인 공유\n",
        "- 복습은 동일하게 적용 ( 예외가 없습니다. )\n",
        "- 이번 필수과제는 시험기간 끝난 후 ( 휴회기간 끝나고 첫 수업 진행 되기 전까지 ) 첫 수업 진행 전까지 제출\n",
        "- 팀으로 하셔도 되고, 개인 하셔도 됩니다. \n",
        "- 네이버카페에 올려주시는 (자율) 분은 동일하게 조별과제의 개념으로 점수 산정이 될 것"
      ],
      "metadata": {
        "id": "osh17ljG_50x"
      }
    }
  ]
}