{
  "cells": [
    {
      "cell_type": "markdown",
      "metadata": {
        "id": "view-in-github",
        "colab_type": "text"
      },
      "source": [
        "<a href=\"https://colab.research.google.com/github/seon0415/BPA-/blob/main/%EB%B0%95%EC%84%9C%EC%97%B029_0312_%ED%95%84%EC%88%98%EA%B3%BC%EC%A0%9C2.ipynb\" target=\"_parent\"><img src=\"https://colab.research.google.com/assets/colab-badge.svg\" alt=\"Open In Colab\"/></a>"
      ]
    },
    {
      "cell_type": "code",
      "execution_count": null,
      "metadata": {
        "id": "wouIVeGYQ1zO"
      },
      "outputs": [],
      "source": [
        "import seaborn as sns\n",
        "import pandas as pd\n",
        "import numpy as np"
      ]
    },
    {
      "cell_type": "markdown",
      "metadata": {
        "id": "E_rFm8d5bv-t"
      },
      "source": [
        "객실등급 Pclass\n",
        "탑승위치 Embarked\n",
        "형제자매, 배우자 SipSp"
      ]
    },
    {
      "cell_type": "code",
      "execution_count": null,
      "metadata": {
        "id": "9O3gSiJuT5Ou"
      },
      "outputs": [],
      "source": [
        "titanic=pd.read_csv('titanic.csv')\n",
        "titanic"
      ]
    },
    {
      "cell_type": "code",
      "source": [
        "#사용요금에 따른 생존율 비교 막대그래프\n",
        "titanic2=titanic.assign(wealth=np.where(titanic['fare']>80, 'tycoon',\\\n",
        "                                     np.where(titanic['fare']>40, 'rich',\\\n",
        "                                              np.where(titanic['fare']>20, 'fine',\\\n",
        "                                                       np.where(titanic['fare']<10, 'normal','poor')))))\n",
        "titanic2.query('survived==1').groupby('wealth')['survived'].sum().sort_values().plot.bar()"
      ],
      "metadata": {
        "id": "yf2oqGDTEFFg"
      },
      "execution_count": null,
      "outputs": []
    },
    {
      "cell_type": "code",
      "source": [
        "#10대 여자아이들과 남자아이들의 생존율 비교\n",
        "print(titanic.query('age<20 & sex==\"female\"')['survived'].mean()*100,\n",
        "      titanic.query('age<20 & sex==\"male\"')['survived'].mean()*100)"
      ],
      "metadata": {
        "colab": {
          "base_uri": "https://localhost:8080/"
        },
        "id": "JMhcdwpzCIm6",
        "outputId": "af99626d-e07c-42d1-ebc5-600ba9850bdf"
      },
      "execution_count": null,
      "outputs": [
        {
          "output_type": "stream",
          "name": "stdout",
          "text": [
            "70.66666666666667 29.213483146067414\n"
          ]
        }
      ]
    },
    {
      "cell_type": "code",
      "source": [
        "#alone에 따른 생존률\n",
        "titanic.groupby('alone')['survived'].mean()*100"
      ],
      "metadata": {
        "id": "bi2iOV_QBos-"
      },
      "execution_count": null,
      "outputs": []
    },
    {
      "cell_type": "code",
      "source": [
        "#survived에 따른 연령 분포(10대,20대,..)\n",
        "\n",
        "titanic2=titanic.assign(aged=np.where(titanic['age']<20, 'child',\\\n",
        "                                     np.where(titanic['age']<30, 'young',\\\n",
        "                                              np.where(titanic['age']<50, 'adult',\\\n",
        "                                                       np.where(titanic['age']<65, 'middle','senior')))))\n",
        "titanic2.query('survived==1').groupby('aged')['survived'].sum().sort_values().plot.bar()"
      ],
      "metadata": {
        "id": "WO1oTdCL9CWk"
      },
      "execution_count": null,
      "outputs": []
    },
    {
      "cell_type": "code",
      "source": [
        "#plcass에 따른 생존자 수\n",
        "titanic.query('alive==\"yes\"').groupby('pclass').count()['alive']"
      ],
      "metadata": {
        "id": "LuiqbhXu7-E2"
      },
      "execution_count": null,
      "outputs": []
    },
    {
      "cell_type": "code",
      "source": [
        "#pclass에 따른 생존률 막대그래프\n",
        "rate=titanic.groupby('pclass')['survived'].mean()*100\n",
        "rate.plot.bar()"
      ],
      "metadata": {
        "id": "PqifhF8Ttfkr"
      },
      "execution_count": null,
      "outputs": []
    },
    {
      "cell_type": "code",
      "source": [
        "#pclass에 따른 평균 사용요금\n",
        "titanic.groupby('pclass').agg(mean=('fare','mean'))"
      ],
      "metadata": {
        "id": "98ORCNtQ7ozf"
      },
      "execution_count": null,
      "outputs": []
    },
    {
      "cell_type": "code",
      "source": [
        "#embarked에 따른 생존자 수\n",
        "#titanic.groupby(['embarked','survived'])['survived'].count()\n",
        "titanic.query('survived==1').groupby('embarked').agg(count=('survived','count'))"
      ],
      "metadata": {
        "id": "6C9lsA0Fok7C"
      },
      "execution_count": null,
      "outputs": []
    },
    {
      "cell_type": "code",
      "source": [
        "#sex에 따른 생존률 막대그래프\n",
        "sex_survived = titanic.groupby('sex')['survived'].mean()*100\n",
        "sex_survived.plot.bar()"
      ],
      "metadata": {
        "id": "tjbx252gtgpA"
      },
      "execution_count": null,
      "outputs": []
    },
    {
      "cell_type": "code",
      "source": [
        "#3등급 객실에서 탑승위치 S에 있는 여자탑승객의 평균나이는 몇살인가?\n",
        "titanic.query('pclass==3 & embarked==\"S\" & sex==\"female\"')['age'].mean()"
      ],
      "metadata": {
        "id": "Con_BmGZ7Qcw"
      },
      "execution_count": null,
      "outputs": []
    }
  ],
  "metadata": {
    "colab": {
      "provenance": [],
      "include_colab_link": true
    },
    "kernelspec": {
      "display_name": "Python 3",
      "name": "python3"
    },
    "language_info": {
      "name": "python"
    }
  },
  "nbformat": 4,
  "nbformat_minor": 0
}