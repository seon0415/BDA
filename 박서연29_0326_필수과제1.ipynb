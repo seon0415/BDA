{
  "nbformat": 4,
  "nbformat_minor": 0,
  "metadata": {
    "colab": {
      "provenance": [],
      "authorship_tag": "ABX9TyOH+95yM4xbBnab8hVdsswm",
      "include_colab_link": true
    },
    "kernelspec": {
      "name": "python3",
      "display_name": "Python 3"
    },
    "language_info": {
      "name": "python"
    }
  },
  "cells": [
    {
      "cell_type": "markdown",
      "metadata": {
        "id": "view-in-github",
        "colab_type": "text"
      },
      "source": [
        "<a href=\"https://colab.research.google.com/github/seon0415/BPA-/blob/main/%EB%B0%95%EC%84%9C%EC%97%B029_0326_%ED%95%84%EC%88%98%EA%B3%BC%EC%A0%9C1.ipynb\" target=\"_parent\"><img src=\"https://colab.research.google.com/assets/colab-badge.svg\" alt=\"Open In Colab\"/></a>"
      ]
    },
    {
      "cell_type": "code",
      "execution_count": null,
      "metadata": {
        "id": "SvjcOBYeGZxK"
      },
      "outputs": [],
      "source": [
        "ebola = pd.read_csv('country_timeseries.csv')\n",
        "\n",
        "ebola.isna().sum()\n"
      ]
    },
    {
      "cell_type": "code",
      "source": [
        "#선형보간법(linear interpolation)\n",
        "#두 개의 점이 주어졌을 경우에 그 두 점을 지나는 함수를 직선의 방정식으로 나타내는 것. \n",
        "#점 사이의 간격이 작을수록 더욱 정확한 근사해를 얻을 수 있다.\n",
        "\n",
        "ebola.interpolate(method=\"linear\")[\"Cases_Liberia\"]\n",
        "ebola.interpolate(method=\"linear\")[\"Cases_Liberia\"].mean() #2774.4333333333334\n",
        "ebola.interpolate(method=\"linear\")[\"Cases_Liberia\"].plot()\n"
      ],
      "metadata": {
        "id": "dLaTF3G-Gd5_"
      },
      "execution_count": null,
      "outputs": []
    },
    {
      "cell_type": "code",
      "source": [
        "#Piecewise constant interpolation\n",
        "#특정 데이터 포인트를 기준으로 가장 가까운 값(nearest value)을 가져다가 사이값을 보간함.\n",
        "#다차원의 다변량 보간의 경우 속도와 단순성 측면에서 장점이 있음.\n",
        "\n",
        "ebola.interpolate(method=\"nearest\")[\"Cases_Liberia\"]\n",
        "ebola.interpolate(method=\"nearest\")[\"Cases_Liberia\"].mean() #2885.706896551724\n",
        "ebola.interpolate(method=\"nearest\")[\"Cases_Liberia\"].plot()"
      ],
      "metadata": {
        "id": "_1KT8wlaGfuS"
      },
      "execution_count": null,
      "outputs": []
    },
    {
      "cell_type": "code",
      "source": [
        "# quadratic 방법으로 보간법을 하고 시각화\n",
        "# 앞선 slinear 방법보다 약간 더 부드러운 모양을 하고 있는 것으로 보인다.\n",
        "\n",
        "ebola.interpolate(method='quadratic',order=5)['Cases_Liberia'].plot()"
      ],
      "metadata": {
        "id": "osbJkfsoJXVA"
      },
      "execution_count": null,
      "outputs": []
    },
    {
      "cell_type": "code",
      "source": [
        "#다항식 보간법(Poltnomial Interpolation)\n",
        "#선형 보간법을 일반화한 것. 보다 높은 차수의 다항식 함수를 사용하여 보간함. 보간 오차가 큰 선형 보간법의 한계를 극복한 보간법. \n",
        "#하지만 연산이 복잡하며 끝점에서 진동하며 변동성이 큰 값을 추정한다는 단점이 있음.\n",
        "\n",
        "ebola.interpolate(method=\"polynomial\", order=5)[\"Cases_Liberia\"]"
      ],
      "metadata": {
        "id": "XRet8DbjGoBH"
      },
      "execution_count": null,
      "outputs": []
    },
    {
      "cell_type": "code",
      "source": [
        "#cubic(3차 보간)\n",
        "#쌍3차(bicubic)이라는 방법을 통해 데이터 보간을 함. 대상이 되는 좌표의 근방 16개의 점 데이터를 이용해 3차 근사로 값을 구함.\n",
        "#method=\"polynomial\", order=3 일 때와 결과가 같음. # 2872.5428509163335\n",
        "#계단모형이 모이지 않고 다항식을 사용하였기 때문에 부드러운 곡선을 띈다.\n",
        "\n",
        "ebola.interpolate(method=\"cubic\")[\"Cases_Liberia\"]"
      ],
      "metadata": {
        "id": "ODC3t4btGtO9"
      },
      "execution_count": null,
      "outputs": []
    },
    {
      "cell_type": "code",
      "source": [
        "# slinear 방법으로 보간법을 하고 시각화. cubic 방법과 비슷한 그래프모양\n",
        "\n",
        "ebola.interpolate(method=\"slinear\")[\"Cases_Liberia\"]"
      ],
      "metadata": {
        "id": "IYfeNLybJpZ4"
      },
      "execution_count": null,
      "outputs": []
    },
    {
      "cell_type": "code",
      "source": [
        "#스플라인 보간법(Spline interpolation)\n",
        "#데이터 포인트 구간별로 낮은 수준의 다항식 보간을 사용함. 각 구간이 부드럽게 연결될 수 있도록 다항식을 선택함.\n",
        "#보간 오차가 작은 다항식 보간법의 장점은 유지되고, 고차 다항식 보간법에 비해 적은 연산량으로 더 매끄럽게 연결되는 곡선을 얻을 수 있음.\n",
        "\n",
        "ebola.interpolate(method=\"spline\", order=4)[\"Cases_Liberia\"]"
      ],
      "metadata": {
        "id": "hdKluuxDGwn8"
      },
      "execution_count": null,
      "outputs": []
    },
    {
      "cell_type": "code",
      "source": [
        "#barycentric interpolation(무게중심 활용 보간)\n",
        "#라그랑지 polynomial interpolation의 변형.\n",
        "#연산이 빠르고 안정성이 있음.\n",
        "\n",
        "ebola.interpolate(method=\"barycentric\")[\"Cases_Liberia\"]"
      ],
      "metadata": {
        "id": "c1zoyqYiG0VB"
      },
      "execution_count": null,
      "outputs": []
    },
    {
      "cell_type": "code",
      "source": [
        "#pchip interpolation(조각별 3차 에르미트 보간 다항식)\n",
        "#spline과 유사항 방식. \n",
        "#spline이 더 매끄럽고 정확한 결과를 만들어내지만, pchip은 매끄럽지 않은 데이터에 대해 overshoot를 방지하고 진동을 줄이는 장점을 지님.\n",
        "\n",
        "ebola.interpolate(method=\"pchip\")[\"Cases_Liberia\"]"
      ],
      "metadata": {
        "id": "t7abW10uG54z"
      },
      "execution_count": null,
      "outputs": []
    },
    {
      "cell_type": "code",
      "source": [
        "#시계열 보간법 time interpolation\n",
        "#시계열 자료에서 가능, 시계열 날짜(index) 기준\n",
        "#시간차를 고려해서 선형이 되도록 보간"
      ],
      "metadata": {
        "id": "vlpixiaLHS10"
      },
      "execution_count": null,
      "outputs": []
    },
    {
      "cell_type": "code",
      "source": [
        "#이웃보간법 nearest interpolation\n",
        "#가장 가까운 이웃 보간은 보간에 대한 가장 간단한 접근 방식\n",
        "#단순히 \"가장 가까운\" 인접 픽셀을 결정하고 픽셀의 강도 값을 가정"
      ],
      "metadata": {
        "id": "il9-i75CHy5Z"
      },
      "execution_count": null,
      "outputs": []
    },
    {
      "cell_type": "code",
      "source": [],
      "metadata": {
        "id": "IHBKjXvEJBpz"
      },
      "execution_count": null,
      "outputs": []
    }
  ]
}