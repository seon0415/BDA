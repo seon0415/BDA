{
  "cells": [
    {
      "cell_type": "markdown",
      "metadata": {
        "id": "view-in-github",
        "colab_type": "text"
      },
      "source": [
        "<a href=\"https://colab.research.google.com/github/seon0415/BPA-/blob/main/230305_6%EA%B8%B0_%EB%8D%B0%EC%9D%B4%ED%84%B0%EB%B6%84%EC%84%9D%EA%B8%B0%EC%B4%88%EB%B0%98_(%EC%B2%AB%EC%88%98%EC%97%85).ipynb\" target=\"_parent\"><img src=\"https://colab.research.google.com/assets/colab-badge.svg\" alt=\"Open In Colab\"/></a>"
      ]
    },
    {
      "cell_type": "markdown",
      "metadata": {
        "id": "F3Xu6DeF2K71"
      },
      "source": [
        "## 데이터 분석기초반\n",
        "- 데이터프레임에 대한 이해가 완벽해야 한다.\n",
        "- df\n",
        "- 2차원 / 2차원리스트 "
      ]
    },
    {
      "cell_type": "code",
      "execution_count": null,
      "metadata": {
        "id": "cyv6x0m22K73"
      },
      "outputs": [],
      "source": [
        "a = [[1,2],[4,5],[5,6]]"
      ]
    },
    {
      "cell_type": "code",
      "execution_count": null,
      "metadata": {
        "id": "cU2mO8PP2K74",
        "outputId": "9d5af320-9634-44ac-f757-fe3c8b304b6d"
      },
      "outputs": [
        {
          "data": {
            "text/plain": [
              "[[1, 2], [4, 5], [5, 6]]"
            ]
          },
          "execution_count": 2,
          "metadata": {},
          "output_type": "execute_result"
        }
      ],
      "source": [
        "a"
      ]
    },
    {
      "cell_type": "code",
      "execution_count": null,
      "metadata": {
        "id": "kJfwVZ3e2K75",
        "outputId": "c2659551-68ff-4e9b-fc07-37088c235d10"
      },
      "outputs": [
        {
          "data": {
            "text/plain": [
              "1"
            ]
          },
          "execution_count": 3,
          "metadata": {},
          "output_type": "execute_result"
        }
      ],
      "source": [
        "#2차원 리스트의 요소를 접근하기 위해서 index를 기준으로 접근\n",
        "a[0][0] #2차원"
      ]
    },
    {
      "cell_type": "markdown",
      "metadata": {
        "id": "-4F1XHbO2K75"
      },
      "source": [
        "- x,y 좌표평면 2차원\n",
        "- 데이터프레임은 행과 열로 행은 index, 열은 컬럼 column \n",
        "- 데이터 분석 전처리에 판다스는 필수, numpy 기본"
      ]
    },
    {
      "cell_type": "code",
      "execution_count": null,
      "metadata": {
        "id": "kAHeGnWp2K75"
      },
      "outputs": [],
      "source": [
        "import pandas as pd"
      ]
    },
    {
      "cell_type": "code",
      "source": [],
      "metadata": {
        "id": "PasdqjiV27qT"
      },
      "execution_count": null,
      "outputs": []
    },
    {
      "cell_type": "code",
      "execution_count": null,
      "metadata": {
        "id": "xtidQJrR2K76"
      },
      "outputs": [],
      "source": [
        "df = pd.DataFrame({'이름':['홍길동','김영희','김철수'],\n",
        "                  '성적':['A','B','A'],\n",
        "                  '점수':[10,20,30]})"
      ]
    },
    {
      "cell_type": "code",
      "execution_count": null,
      "metadata": {
        "id": "iBSWCakT2K76",
        "outputId": "baa09325-25b7-476f-ee56-de4c64e5f1cb"
      },
      "outputs": [
        {
          "data": {
            "text/html": [
              "<div>\n",
              "<style scoped>\n",
              "    .dataframe tbody tr th:only-of-type {\n",
              "        vertical-align: middle;\n",
              "    }\n",
              "\n",
              "    .dataframe tbody tr th {\n",
              "        vertical-align: top;\n",
              "    }\n",
              "\n",
              "    .dataframe thead th {\n",
              "        text-align: right;\n",
              "    }\n",
              "</style>\n",
              "<table border=\"1\" class=\"dataframe\">\n",
              "  <thead>\n",
              "    <tr style=\"text-align: right;\">\n",
              "      <th></th>\n",
              "      <th>이름</th>\n",
              "      <th>성적</th>\n",
              "      <th>점수</th>\n",
              "    </tr>\n",
              "  </thead>\n",
              "  <tbody>\n",
              "    <tr>\n",
              "      <th>0</th>\n",
              "      <td>홍길동</td>\n",
              "      <td>A</td>\n",
              "      <td>10</td>\n",
              "    </tr>\n",
              "    <tr>\n",
              "      <th>1</th>\n",
              "      <td>김영희</td>\n",
              "      <td>B</td>\n",
              "      <td>20</td>\n",
              "    </tr>\n",
              "    <tr>\n",
              "      <th>2</th>\n",
              "      <td>김철수</td>\n",
              "      <td>A</td>\n",
              "      <td>30</td>\n",
              "    </tr>\n",
              "  </tbody>\n",
              "</table>\n",
              "</div>"
            ],
            "text/plain": [
              "    이름 성적  점수\n",
              "0  홍길동  A  10\n",
              "1  김영희  B  20\n",
              "2  김철수  A  30"
            ]
          },
          "execution_count": 6,
          "metadata": {},
          "output_type": "execute_result"
        }
      ],
      "source": [
        "df"
      ]
    },
    {
      "cell_type": "markdown",
      "metadata": {
        "id": "99Lld6TH2K76"
      },
      "source": [
        "- 2차원라는 형태\n",
        "- 컬럼, 열, 이름, 성적, 점수\n",
        "- 0,1, 2 index의 개념은 열 \n",
        "\n",
        "- 데이터프레임은 행과 열로 이루어졌고, 데이터프레임을 추출하거나 조작할 때는 행과 열로 접근해야 한다!"
      ]
    },
    {
      "cell_type": "markdown",
      "metadata": {
        "id": "VT0p4CWl2K76"
      },
      "source": [
        "- 성적만 추출하고 싶어요!"
      ]
    },
    {
      "cell_type": "code",
      "execution_count": null,
      "metadata": {
        "id": "0_ARBAQ22K76",
        "outputId": "82b1aa3e-94c5-44fa-f50c-aaf44e89f0b5"
      },
      "outputs": [
        {
          "data": {
            "text/plain": [
              "0    A\n",
              "1    B\n",
              "2    A\n",
              "Name: 성적, dtype: object"
            ]
          },
          "execution_count": 7,
          "metadata": {},
          "output_type": "execute_result"
        }
      ],
      "source": [
        "df['성적'] #성적만 가지고 온다. #시리즈형태로 바뀐다.\n",
        "#시리즈 형태로 다양한 연산이 가능하고, numpy 에서도 제공하는 것을 이용할 수 있다.\n",
        "#연산하기 가장 좋은 형태 판다스 제공한다. "
      ]
    },
    {
      "cell_type": "markdown",
      "metadata": {
        "id": "6inlyV3h2K77"
      },
      "source": [
        "- 성적과 이름을 추출해줘!"
      ]
    },
    {
      "cell_type": "code",
      "execution_count": null,
      "metadata": {
        "id": "ibM2RvQW2K77"
      },
      "outputs": [],
      "source": [
        "df[['이름','성적']] #열을 기준으로 추출하는 것  컬럼을 기준으로 추출"
      ]
    },
    {
      "cell_type": "code",
      "execution_count": null,
      "metadata": {
        "id": "wTH2MzJ_2K77"
      },
      "outputs": [],
      "source": [
        "df[['이름','점수']]"
      ]
    },
    {
      "cell_type": "markdown",
      "metadata": {
        "id": "IIPuY_fK2K77"
      },
      "source": [
        "- 인덱스를 기준으로 추출 할 수 있다."
      ]
    },
    {
      "cell_type": "code",
      "execution_count": null,
      "metadata": {
        "id": "MpHjB5Ve2K77"
      },
      "outputs": [],
      "source": [
        "df['점수'].sum()"
      ]
    },
    {
      "cell_type": "code",
      "execution_count": null,
      "metadata": {
        "id": "3X3pgbgK2K77"
      },
      "outputs": [],
      "source": [
        "df['점수'].sum()"
      ]
    },
    {
      "cell_type": "code",
      "execution_count": null,
      "metadata": {
        "id": "Rtzk80iT2K78"
      },
      "outputs": [],
      "source": [
        "df[['이름','점수']].sum()"
      ]
    },
    {
      "cell_type": "code",
      "execution_count": null,
      "metadata": {
        "id": "Zb66Zblc2K78"
      },
      "outputs": [],
      "source": [
        "df.sum()"
      ]
    },
    {
      "cell_type": "markdown",
      "metadata": {
        "id": "Rx_irS952K78"
      },
      "source": [
        "- mpg데이터로 살펴보기!"
      ]
    },
    {
      "cell_type": "code",
      "execution_count": null,
      "metadata": {
        "id": "MoLqj12W2K78"
      },
      "outputs": [],
      "source": [
        "mpg = pd.read_csv('mpg.csv')"
      ]
    },
    {
      "cell_type": "code",
      "execution_count": null,
      "metadata": {
        "id": "NzgiRsF62K78"
      },
      "outputs": [],
      "source": [
        "mpg['manufacturer']"
      ]
    },
    {
      "cell_type": "code",
      "execution_count": null,
      "metadata": {
        "id": "axAbm_0O2K78"
      },
      "outputs": [],
      "source": [
        "mpg.columns"
      ]
    },
    {
      "cell_type": "code",
      "execution_count": null,
      "metadata": {
        "id": "_s3JHe562K79"
      },
      "outputs": [],
      "source": [
        "mpg_sp= mpg[['manufacturer', 'model', 'hwy']]"
      ]
    },
    {
      "cell_type": "markdown",
      "metadata": {
        "id": "7G09WZYn2K79"
      },
      "source": [
        "### 컬럼을 기준으로 데이터를 추출했는데 \n",
        "- model, hwy 는 데이터 타입이 다르다."
      ]
    },
    {
      "cell_type": "code",
      "execution_count": null,
      "metadata": {
        "id": "Wzz59TsG2K79"
      },
      "outputs": [],
      "source": [
        "#데이터타입을 보는 방법\n",
        "mpg.info()"
      ]
    },
    {
      "cell_type": "code",
      "execution_count": null,
      "metadata": {
        "id": "LZKeL2zU2K79"
      },
      "outputs": [],
      "source": [
        "mpg_sp"
      ]
    },
    {
      "cell_type": "markdown",
      "metadata": {
        "id": "B9ECkGzf2K79"
      },
      "source": [
        "- object는 어떤 식으로 접근해야 할까?\n",
        "- 문자열 데이터를 숫자로 변경해야 한다. \n",
        "- object 맞게 기술통계를 해야 한다.\n",
        "- 1. 빈도 , 2. 라벨링(인코딩)"
      ]
    },
    {
      "cell_type": "code",
      "execution_count": null,
      "metadata": {
        "scrolled": true,
        "id": "NrJzxJwi2K79"
      },
      "outputs": [],
      "source": [
        "# 아우디 차량은 몇 개가 있어? \n",
        "mpg_sp['manufacturer'].value_counts()#값의 개수를 세는 것"
      ]
    },
    {
      "cell_type": "code",
      "execution_count": null,
      "metadata": {
        "id": "DXzB7n_I2K79"
      },
      "outputs": [],
      "source": [
        "mpg_mc= mpg_sp['manufacturer'].value_counts()#값의 개수를 세는 것"
      ]
    },
    {
      "cell_type": "code",
      "execution_count": null,
      "metadata": {
        "id": "FYyz2Vtj2K7-"
      },
      "outputs": [],
      "source": [
        "mpg_mc= mpg_mc.to_frame()"
      ]
    },
    {
      "cell_type": "code",
      "execution_count": null,
      "metadata": {
        "id": "nLvmKJAK2K7-"
      },
      "outputs": [],
      "source": [
        "mpg_mc"
      ]
    },
    {
      "cell_type": "code",
      "execution_count": null,
      "metadata": {
        "id": "wlfiTEzb2K7-"
      },
      "outputs": [],
      "source": [
        "mpg"
      ]
    },
    {
      "cell_type": "code",
      "execution_count": null,
      "metadata": {
        "id": "uMMmopGr2K7-",
        "outputId": "a9dd3410-3067-4339-8070-0fe21507f86c"
      },
      "outputs": [
        {
          "data": {
            "text/plain": [
              "16.858974358974322"
            ]
          },
          "execution_count": 39,
          "metadata": {},
          "output_type": "execute_result"
        }
      ],
      "source": [
        "sum(mpg['cty']/len(mpg)) #데이터프레임에서 값을 추출하여 1차원으로 변경하면 계산 편하게 할 수 있다!"
      ]
    },
    {
      "cell_type": "code",
      "execution_count": null,
      "metadata": {
        "scrolled": true,
        "id": "-Taik4OB2K7-"
      },
      "outputs": [],
      "source": [
        "mpg.head(30) #앞의 데이터 살펴보는 것"
      ]
    },
    {
      "cell_type": "code",
      "execution_count": null,
      "metadata": {
        "id": "xuQHP5Jw2K7-"
      },
      "outputs": [],
      "source": [
        "mpg.tail() #뒤의 데이터 살펴보는 것"
      ]
    },
    {
      "cell_type": "code",
      "execution_count": null,
      "metadata": {
        "id": "8OKAJn722K7-"
      },
      "outputs": [],
      "source": [
        "mpg.shape #행과 열 234 행과 11개 컬럼 "
      ]
    },
    {
      "cell_type": "code",
      "execution_count": null,
      "metadata": {
        "id": "B1VK3M372K7_"
      },
      "outputs": [],
      "source": [
        "mpg.info()"
      ]
    },
    {
      "cell_type": "code",
      "execution_count": null,
      "metadata": {
        "id": "voL9-wCm2K7_"
      },
      "outputs": [],
      "source": [
        "mpg.describe() #요약통계치 제공 #수치형 데이터만 존재한다."
      ]
    },
    {
      "cell_type": "markdown",
      "metadata": {
        "id": "we1s-_Sh2K7_"
      },
      "source": [
        "- describe 데이터 대한 분포, 이상치 \n",
        "- how to \n",
        "- 데이터 분석기초반 전체 성적이 모두 50점 평균은 50점 / 데이터 분석기초반 전체 중 반은 0점 반은 100점이면 평균 50점/\n",
        "- 평균의 함정을 빠지지 않기 위해 산포도를 볼 수 있는 분산, 표준편차\n",
        "- 분산 표준편차는 평균에 기반으로 \n",
        "- 사분위수 25 50 75 % IQR 중앙값을 기준으로 한다. \n",
        "- 평균의 함정에 빠지지 않게 요약 통계를 보고 데이터의 개괄적인 분포를 이해한다.\n",
        "\n",
        "- 데이터 분포를 왜 볼까?\n",
        "- 이상치를 왜 봐야 하나?\n",
        "\n",
        "- 회귀분석, 분류, 머신러닝, 딥러닝, 통계분석 등등\n",
        "- 정규분포를 가정하고 진행한다. "
      ]
    },
    {
      "cell_type": "code",
      "execution_count": null,
      "metadata": {
        "id": "5U1UpUeM2K7_"
      },
      "outputs": [],
      "source": [
        "mpg['cty'].hist()"
      ]
    },
    {
      "cell_type": "code",
      "execution_count": null,
      "metadata": {
        "id": "cADaes-G2K7_"
      },
      "outputs": [],
      "source": [
        "mpg['hwy'].hist()"
      ]
    },
    {
      "cell_type": "code",
      "execution_count": null,
      "metadata": {
        "id": "giplhnER2K7_"
      },
      "outputs": [],
      "source": [
        "mpg_sp"
      ]
    },
    {
      "cell_type": "code",
      "execution_count": null,
      "metadata": {
        "id": "oLhbyOnQ2K7_"
      },
      "outputs": [],
      "source": [
        "mpg_mc.describe() "
      ]
    },
    {
      "cell_type": "code",
      "execution_count": null,
      "metadata": {
        "id": "GTy_D_Zv2K8A"
      },
      "outputs": [],
      "source": [
        "#cty, hwy 더하고 싶다.\n",
        "mpg['tot'] = mpg['cty'] + mpg['hwy']"
      ]
    },
    {
      "cell_type": "code",
      "execution_count": null,
      "metadata": {
        "id": "ofafVXXy2K8A"
      },
      "outputs": [],
      "source": [
        "mpg #파생변수로 만들수 있다 tot."
      ]
    },
    {
      "cell_type": "code",
      "execution_count": null,
      "metadata": {
        "id": "azbtWfoq2K8A"
      },
      "outputs": [],
      "source": [
        "import numpy as np"
      ]
    },
    {
      "cell_type": "code",
      "execution_count": null,
      "metadata": {
        "id": "aWsnU60z2K8A"
      },
      "outputs": [],
      "source": [
        "mpg['test']=np.where(mpg['tot'] >40,'good','bad')"
      ]
    },
    {
      "cell_type": "code",
      "execution_count": null,
      "metadata": {
        "id": "bqkUOrpF2K8A",
        "outputId": "b335ef06-f5c4-4585-eb53-217741fc17ac"
      },
      "outputs": [
        {
          "data": {
            "text/plain": [
              "good    123\n",
              "bad     111\n",
              "Name: test, dtype: int64"
            ]
          },
          "execution_count": 61,
          "metadata": {},
          "output_type": "execute_result"
        }
      ],
      "source": [
        "mpg.test.value_counts()"
      ]
    },
    {
      "cell_type": "code",
      "execution_count": null,
      "metadata": {
        "id": "TGUZpCIu2K8A"
      },
      "outputs": [],
      "source": [
        "test_ct =mpg['test'].value_counts()"
      ]
    },
    {
      "cell_type": "code",
      "execution_count": null,
      "metadata": {
        "id": "3zu36HI72K8A"
      },
      "outputs": [],
      "source": [
        "test_ct.plot.bar()"
      ]
    },
    {
      "cell_type": "markdown",
      "metadata": {
        "id": "6XfPOPZM2K8B"
      },
      "source": [
        "## 필수과제 1\n",
        "- mpg 데이터를 가지고 간단한 전처리를 진행해 주세요.\n",
        "- 데이터를 추출할 질문을 정하고 -> 코드를 작성하고 -> 주석을 작성하고 -> 결론을 도출!\n",
        "- ex) 아우디의 차량의 개수와, 아우디 차량의 고속도로 연비는? ( 먼저 데이터를 보고 본인이 질문을 하고 그걸 코드로 작성)\n",
        "- 질문은 최소 5개 \n",
        "- 구글링을 해도 좋습니다. 데이터프레임 전처리, 위에 적은 문법 내용을 구글링하면 기본적으로 다 나올 것 \n",
        "- 과제 노션에 제출할 수 없으니 노션 권한이 부여 받은 후 최소 2일 안에 \n",
        "- 과제 기한 ex) 다음 주 일요일 권한 부여되면 화요일 오후 11시 59분 안까지 과제 제출\n",
        "- 노션 권한 8일 예정 10일까지 진행해 주시면 됩니다!!"
      ]
    },
    {
      "cell_type": "code",
      "execution_count": null,
      "metadata": {
        "id": "0sLbOIXl2K8B"
      },
      "outputs": [],
      "source": []
    }
  ],
  "metadata": {
    "kernelspec": {
      "display_name": "Python 3",
      "language": "python",
      "name": "python3"
    },
    "language_info": {
      "codemirror_mode": {
        "name": "ipython",
        "version": 3
      },
      "file_extension": ".py",
      "mimetype": "text/x-python",
      "name": "python",
      "nbconvert_exporter": "python",
      "pygments_lexer": "ipython3",
      "version": "3.7.6"
    },
    "colab": {
      "provenance": [],
      "include_colab_link": true
    }
  },
  "nbformat": 4,
  "nbformat_minor": 0
}