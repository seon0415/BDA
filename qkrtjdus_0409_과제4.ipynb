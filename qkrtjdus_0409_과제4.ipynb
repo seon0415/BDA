{
  "nbformat": 4,
  "nbformat_minor": 0,
  "metadata": {
    "colab": {
      "provenance": [],
      "authorship_tag": "ABX9TyNehvm+nPbBA+M2vS3lGPCe",
      "include_colab_link": true
    },
    "kernelspec": {
      "name": "python3",
      "display_name": "Python 3"
    },
    "language_info": {
      "name": "python"
    }
  },
  "cells": [
    {
      "cell_type": "markdown",
      "metadata": {
        "id": "view-in-github",
        "colab_type": "text"
      },
      "source": [
        "<a href=\"https://colab.research.google.com/github/seon0415/BDA/blob/main/qkrtjdus_0409_%EA%B3%BC%EC%A0%9C4.ipynb\" target=\"_parent\"><img src=\"https://colab.research.google.com/assets/colab-badge.svg\" alt=\"Open In Colab\"/></a>"
      ]
    },
    {
      "cell_type": "code",
      "execution_count": null,
      "metadata": {
        "id": "1dmH9V1N2YbK"
      },
      "outputs": [],
      "source": []
    },
    {
      "cell_type": "code",
      "source": [
        "import numpy as np\n",
        "import pandas as pd \n",
        "import matplotlib.pyplot as plt"
      ],
      "metadata": {
        "id": "_SpyMkVV50l6"
      },
      "execution_count": 2,
      "outputs": []
    },
    {
      "cell_type": "code",
      "source": [
        "wine= pd.read_csv('wine_test.csv')"
      ],
      "metadata": {
        "id": "jqh-6JE-50l6"
      },
      "execution_count": 3,
      "outputs": []
    },
    {
      "cell_type": "code",
      "source": [
        "wine"
      ],
      "metadata": {
        "colab": {
          "base_uri": "https://localhost:8080/",
          "height": 505
        },
        "id": "g8yyODT_4c0_",
        "outputId": "1413b2b6-40e8-4410-971c-83ccd5912de4"
      },
      "execution_count": 4,
      "outputs": [
        {
          "output_type": "execute_result",
          "data": {
            "text/plain": [
              "     Unnamed: 0  alcohol  malic_acid   ash  alcalinity_of_ash  magnesium  \\\n",
              "0             0    14.23        1.71  2.43               15.6        127   \n",
              "1             1      NaN        1.78  2.14               11.2        100   \n",
              "2             2    13.16        2.36  2.67               18.6        101   \n",
              "3             3    14.37        1.95  2.50               16.8        113   \n",
              "4             4    13.24        2.59  2.87               21.0        118   \n",
              "..          ...      ...         ...   ...                ...        ...   \n",
              "173         173    13.71        5.65  2.45               20.5         95   \n",
              "174         174    13.40        3.91  2.48               23.0        102   \n",
              "175         175    13.27        4.28  2.26               20.0        120   \n",
              "176         176    13.17        2.59  2.37               20.0        120   \n",
              "177         177    14.13        4.10  2.74               24.5         96   \n",
              "\n",
              "     total_phenols  flavanoids  nonflavanoid_phenols  proanthocyanins  \\\n",
              "0             2.80        3.06                  0.28             2.29   \n",
              "1             2.65        2.76                  0.26             1.28   \n",
              "2             2.80        3.24                  0.30             2.81   \n",
              "3             3.85        3.49                  0.24             2.18   \n",
              "4             2.80        2.69                  0.39             1.82   \n",
              "..             ...         ...                   ...              ...   \n",
              "173           1.68        0.61                  0.52             1.06   \n",
              "174           1.80        0.75                  0.43             1.41   \n",
              "175           1.59        0.69                  0.43             1.35   \n",
              "176           1.65        0.68                  0.53             1.46   \n",
              "177           2.05        0.76                  0.56             1.35   \n",
              "\n",
              "     color_intensity   hue  od280/od315_of_diluted_wines  proline  class  \n",
              "0               5.64  1.04                          3.92     1065      0  \n",
              "1               4.38  1.05                          3.40     1050      0  \n",
              "2               5.68  1.03                          3.17     1185      0  \n",
              "3               7.80  0.86                          3.45     1480      0  \n",
              "4               4.32  1.04                          2.93      735      0  \n",
              "..               ...   ...                           ...      ...    ...  \n",
              "173             7.70  0.64                          1.74      740      2  \n",
              "174             7.30  0.70                          1.56      750      2  \n",
              "175            10.20  0.59                          1.56      835      2  \n",
              "176             9.30  0.60                          1.62      840      2  \n",
              "177             9.20  0.61                          1.60      560      2  \n",
              "\n",
              "[178 rows x 15 columns]"
            ],
            "text/html": [
              "\n",
              "  <div id=\"df-5a832d7f-e89d-4797-be48-086f3f14ad7d\">\n",
              "    <div class=\"colab-df-container\">\n",
              "      <div>\n",
              "<style scoped>\n",
              "    .dataframe tbody tr th:only-of-type {\n",
              "        vertical-align: middle;\n",
              "    }\n",
              "\n",
              "    .dataframe tbody tr th {\n",
              "        vertical-align: top;\n",
              "    }\n",
              "\n",
              "    .dataframe thead th {\n",
              "        text-align: right;\n",
              "    }\n",
              "</style>\n",
              "<table border=\"1\" class=\"dataframe\">\n",
              "  <thead>\n",
              "    <tr style=\"text-align: right;\">\n",
              "      <th></th>\n",
              "      <th>Unnamed: 0</th>\n",
              "      <th>alcohol</th>\n",
              "      <th>malic_acid</th>\n",
              "      <th>ash</th>\n",
              "      <th>alcalinity_of_ash</th>\n",
              "      <th>magnesium</th>\n",
              "      <th>total_phenols</th>\n",
              "      <th>flavanoids</th>\n",
              "      <th>nonflavanoid_phenols</th>\n",
              "      <th>proanthocyanins</th>\n",
              "      <th>color_intensity</th>\n",
              "      <th>hue</th>\n",
              "      <th>od280/od315_of_diluted_wines</th>\n",
              "      <th>proline</th>\n",
              "      <th>class</th>\n",
              "    </tr>\n",
              "  </thead>\n",
              "  <tbody>\n",
              "    <tr>\n",
              "      <th>0</th>\n",
              "      <td>0</td>\n",
              "      <td>14.23</td>\n",
              "      <td>1.71</td>\n",
              "      <td>2.43</td>\n",
              "      <td>15.6</td>\n",
              "      <td>127</td>\n",
              "      <td>2.80</td>\n",
              "      <td>3.06</td>\n",
              "      <td>0.28</td>\n",
              "      <td>2.29</td>\n",
              "      <td>5.64</td>\n",
              "      <td>1.04</td>\n",
              "      <td>3.92</td>\n",
              "      <td>1065</td>\n",
              "      <td>0</td>\n",
              "    </tr>\n",
              "    <tr>\n",
              "      <th>1</th>\n",
              "      <td>1</td>\n",
              "      <td>NaN</td>\n",
              "      <td>1.78</td>\n",
              "      <td>2.14</td>\n",
              "      <td>11.2</td>\n",
              "      <td>100</td>\n",
              "      <td>2.65</td>\n",
              "      <td>2.76</td>\n",
              "      <td>0.26</td>\n",
              "      <td>1.28</td>\n",
              "      <td>4.38</td>\n",
              "      <td>1.05</td>\n",
              "      <td>3.40</td>\n",
              "      <td>1050</td>\n",
              "      <td>0</td>\n",
              "    </tr>\n",
              "    <tr>\n",
              "      <th>2</th>\n",
              "      <td>2</td>\n",
              "      <td>13.16</td>\n",
              "      <td>2.36</td>\n",
              "      <td>2.67</td>\n",
              "      <td>18.6</td>\n",
              "      <td>101</td>\n",
              "      <td>2.80</td>\n",
              "      <td>3.24</td>\n",
              "      <td>0.30</td>\n",
              "      <td>2.81</td>\n",
              "      <td>5.68</td>\n",
              "      <td>1.03</td>\n",
              "      <td>3.17</td>\n",
              "      <td>1185</td>\n",
              "      <td>0</td>\n",
              "    </tr>\n",
              "    <tr>\n",
              "      <th>3</th>\n",
              "      <td>3</td>\n",
              "      <td>14.37</td>\n",
              "      <td>1.95</td>\n",
              "      <td>2.50</td>\n",
              "      <td>16.8</td>\n",
              "      <td>113</td>\n",
              "      <td>3.85</td>\n",
              "      <td>3.49</td>\n",
              "      <td>0.24</td>\n",
              "      <td>2.18</td>\n",
              "      <td>7.80</td>\n",
              "      <td>0.86</td>\n",
              "      <td>3.45</td>\n",
              "      <td>1480</td>\n",
              "      <td>0</td>\n",
              "    </tr>\n",
              "    <tr>\n",
              "      <th>4</th>\n",
              "      <td>4</td>\n",
              "      <td>13.24</td>\n",
              "      <td>2.59</td>\n",
              "      <td>2.87</td>\n",
              "      <td>21.0</td>\n",
              "      <td>118</td>\n",
              "      <td>2.80</td>\n",
              "      <td>2.69</td>\n",
              "      <td>0.39</td>\n",
              "      <td>1.82</td>\n",
              "      <td>4.32</td>\n",
              "      <td>1.04</td>\n",
              "      <td>2.93</td>\n",
              "      <td>735</td>\n",
              "      <td>0</td>\n",
              "    </tr>\n",
              "    <tr>\n",
              "      <th>...</th>\n",
              "      <td>...</td>\n",
              "      <td>...</td>\n",
              "      <td>...</td>\n",
              "      <td>...</td>\n",
              "      <td>...</td>\n",
              "      <td>...</td>\n",
              "      <td>...</td>\n",
              "      <td>...</td>\n",
              "      <td>...</td>\n",
              "      <td>...</td>\n",
              "      <td>...</td>\n",
              "      <td>...</td>\n",
              "      <td>...</td>\n",
              "      <td>...</td>\n",
              "      <td>...</td>\n",
              "    </tr>\n",
              "    <tr>\n",
              "      <th>173</th>\n",
              "      <td>173</td>\n",
              "      <td>13.71</td>\n",
              "      <td>5.65</td>\n",
              "      <td>2.45</td>\n",
              "      <td>20.5</td>\n",
              "      <td>95</td>\n",
              "      <td>1.68</td>\n",
              "      <td>0.61</td>\n",
              "      <td>0.52</td>\n",
              "      <td>1.06</td>\n",
              "      <td>7.70</td>\n",
              "      <td>0.64</td>\n",
              "      <td>1.74</td>\n",
              "      <td>740</td>\n",
              "      <td>2</td>\n",
              "    </tr>\n",
              "    <tr>\n",
              "      <th>174</th>\n",
              "      <td>174</td>\n",
              "      <td>13.40</td>\n",
              "      <td>3.91</td>\n",
              "      <td>2.48</td>\n",
              "      <td>23.0</td>\n",
              "      <td>102</td>\n",
              "      <td>1.80</td>\n",
              "      <td>0.75</td>\n",
              "      <td>0.43</td>\n",
              "      <td>1.41</td>\n",
              "      <td>7.30</td>\n",
              "      <td>0.70</td>\n",
              "      <td>1.56</td>\n",
              "      <td>750</td>\n",
              "      <td>2</td>\n",
              "    </tr>\n",
              "    <tr>\n",
              "      <th>175</th>\n",
              "      <td>175</td>\n",
              "      <td>13.27</td>\n",
              "      <td>4.28</td>\n",
              "      <td>2.26</td>\n",
              "      <td>20.0</td>\n",
              "      <td>120</td>\n",
              "      <td>1.59</td>\n",
              "      <td>0.69</td>\n",
              "      <td>0.43</td>\n",
              "      <td>1.35</td>\n",
              "      <td>10.20</td>\n",
              "      <td>0.59</td>\n",
              "      <td>1.56</td>\n",
              "      <td>835</td>\n",
              "      <td>2</td>\n",
              "    </tr>\n",
              "    <tr>\n",
              "      <th>176</th>\n",
              "      <td>176</td>\n",
              "      <td>13.17</td>\n",
              "      <td>2.59</td>\n",
              "      <td>2.37</td>\n",
              "      <td>20.0</td>\n",
              "      <td>120</td>\n",
              "      <td>1.65</td>\n",
              "      <td>0.68</td>\n",
              "      <td>0.53</td>\n",
              "      <td>1.46</td>\n",
              "      <td>9.30</td>\n",
              "      <td>0.60</td>\n",
              "      <td>1.62</td>\n",
              "      <td>840</td>\n",
              "      <td>2</td>\n",
              "    </tr>\n",
              "    <tr>\n",
              "      <th>177</th>\n",
              "      <td>177</td>\n",
              "      <td>14.13</td>\n",
              "      <td>4.10</td>\n",
              "      <td>2.74</td>\n",
              "      <td>24.5</td>\n",
              "      <td>96</td>\n",
              "      <td>2.05</td>\n",
              "      <td>0.76</td>\n",
              "      <td>0.56</td>\n",
              "      <td>1.35</td>\n",
              "      <td>9.20</td>\n",
              "      <td>0.61</td>\n",
              "      <td>1.60</td>\n",
              "      <td>560</td>\n",
              "      <td>2</td>\n",
              "    </tr>\n",
              "  </tbody>\n",
              "</table>\n",
              "<p>178 rows × 15 columns</p>\n",
              "</div>\n",
              "      <button class=\"colab-df-convert\" onclick=\"convertToInteractive('df-5a832d7f-e89d-4797-be48-086f3f14ad7d')\"\n",
              "              title=\"Convert this dataframe to an interactive table.\"\n",
              "              style=\"display:none;\">\n",
              "        \n",
              "  <svg xmlns=\"http://www.w3.org/2000/svg\" height=\"24px\"viewBox=\"0 0 24 24\"\n",
              "       width=\"24px\">\n",
              "    <path d=\"M0 0h24v24H0V0z\" fill=\"none\"/>\n",
              "    <path d=\"M18.56 5.44l.94 2.06.94-2.06 2.06-.94-2.06-.94-.94-2.06-.94 2.06-2.06.94zm-11 1L8.5 8.5l.94-2.06 2.06-.94-2.06-.94L8.5 2.5l-.94 2.06-2.06.94zm10 10l.94 2.06.94-2.06 2.06-.94-2.06-.94-.94-2.06-.94 2.06-2.06.94z\"/><path d=\"M17.41 7.96l-1.37-1.37c-.4-.4-.92-.59-1.43-.59-.52 0-1.04.2-1.43.59L10.3 9.45l-7.72 7.72c-.78.78-.78 2.05 0 2.83L4 21.41c.39.39.9.59 1.41.59.51 0 1.02-.2 1.41-.59l7.78-7.78 2.81-2.81c.8-.78.8-2.07 0-2.86zM5.41 20L4 18.59l7.72-7.72 1.47 1.35L5.41 20z\"/>\n",
              "  </svg>\n",
              "      </button>\n",
              "      \n",
              "  <style>\n",
              "    .colab-df-container {\n",
              "      display:flex;\n",
              "      flex-wrap:wrap;\n",
              "      gap: 12px;\n",
              "    }\n",
              "\n",
              "    .colab-df-convert {\n",
              "      background-color: #E8F0FE;\n",
              "      border: none;\n",
              "      border-radius: 50%;\n",
              "      cursor: pointer;\n",
              "      display: none;\n",
              "      fill: #1967D2;\n",
              "      height: 32px;\n",
              "      padding: 0 0 0 0;\n",
              "      width: 32px;\n",
              "    }\n",
              "\n",
              "    .colab-df-convert:hover {\n",
              "      background-color: #E2EBFA;\n",
              "      box-shadow: 0px 1px 2px rgba(60, 64, 67, 0.3), 0px 1px 3px 1px rgba(60, 64, 67, 0.15);\n",
              "      fill: #174EA6;\n",
              "    }\n",
              "\n",
              "    [theme=dark] .colab-df-convert {\n",
              "      background-color: #3B4455;\n",
              "      fill: #D2E3FC;\n",
              "    }\n",
              "\n",
              "    [theme=dark] .colab-df-convert:hover {\n",
              "      background-color: #434B5C;\n",
              "      box-shadow: 0px 1px 3px 1px rgba(0, 0, 0, 0.15);\n",
              "      filter: drop-shadow(0px 1px 2px rgba(0, 0, 0, 0.3));\n",
              "      fill: #FFFFFF;\n",
              "    }\n",
              "  </style>\n",
              "\n",
              "      <script>\n",
              "        const buttonEl =\n",
              "          document.querySelector('#df-5a832d7f-e89d-4797-be48-086f3f14ad7d button.colab-df-convert');\n",
              "        buttonEl.style.display =\n",
              "          google.colab.kernel.accessAllowed ? 'block' : 'none';\n",
              "\n",
              "        async function convertToInteractive(key) {\n",
              "          const element = document.querySelector('#df-5a832d7f-e89d-4797-be48-086f3f14ad7d');\n",
              "          const dataTable =\n",
              "            await google.colab.kernel.invokeFunction('convertToInteractive',\n",
              "                                                     [key], {});\n",
              "          if (!dataTable) return;\n",
              "\n",
              "          const docLinkHtml = 'Like what you see? Visit the ' +\n",
              "            '<a target=\"_blank\" href=https://colab.research.google.com/notebooks/data_table.ipynb>data table notebook</a>'\n",
              "            + ' to learn more about interactive tables.';\n",
              "          element.innerHTML = '';\n",
              "          dataTable['output_type'] = 'display_data';\n",
              "          await google.colab.output.renderOutput(dataTable, element);\n",
              "          const docLink = document.createElement('div');\n",
              "          docLink.innerHTML = docLinkHtml;\n",
              "          element.appendChild(docLink);\n",
              "        }\n",
              "      </script>\n",
              "    </div>\n",
              "  </div>\n",
              "  "
            ]
          },
          "metadata": {},
          "execution_count": 4
        }
      ]
    },
    {
      "cell_type": "code",
      "source": [],
      "metadata": {
        "id": "NIprQGUz3F34"
      },
      "execution_count": null,
      "outputs": []
    },
    {
      "cell_type": "code",
      "source": [
        "# 클래스 당 몇개의 와인이 있을까\n",
        "\n",
        "plt.bar(wine['class'].value_counts().index, wine['class'].value_counts().values)\n",
        "\n",
        "plt.xlabel('class')\n",
        "plt.ylabel('Count')\n",
        "plt.title('Wine xLaa Distribution')\n",
        "plt.show()"
      ],
      "metadata": {
        "colab": {
          "base_uri": "https://localhost:8080/",
          "height": 472
        },
        "id": "9X4BYYoQE1s4",
        "outputId": "85a7bcda-39c1-4406-c398-49099f285bc5"
      },
      "execution_count": 5,
      "outputs": [
        {
          "output_type": "display_data",
          "data": {
            "text/plain": [
              "<Figure size 640x480 with 1 Axes>"
            ],
            "image/png": "[encoded data removed]"
          },
          "metadata": {}
        }
      ]
    },
    {
      "cell_type": "code",
      "source": [
        "# class별 색상강도 평균\n",
        "data=wine.groupby(\"class\")['color_intensity'].mean()\n",
        "\n",
        "data.plot(kind='bar')\n",
        "\n",
        "plt.xlabel('class')\n",
        "plt.ylabel('color_intensity')"
      ],
      "metadata": {
        "colab": {
          "base_uri": "https://localhost:8080/",
          "height": 462
        },
        "id": "2SW_Cwpr3Oba",
        "outputId": "ac263b4d-8759-4533-f41a-0fc4365c8870"
      },
      "execution_count": 11,
      "outputs": [
        {
          "output_type": "execute_result",
          "data": {
            "text/plain": [
              "Text(0, 0.5, 'color_intensity')"
            ]
          },
          "metadata": {},
          "execution_count": 11
        },
        {
          "output_type": "display_data",
          "data": {
            "text/plain": [
              "<Figure size 640x480 with 1 Axes>"
            ],
            "image/png": "[encoded data removed]"
          },
          "metadata": {}
        }
      ]
    },
    {
      "cell_type": "markdown",
      "source": [
        "##class-색상강도"
      ],
      "metadata": {
        "id": "r0bZIhZeChD0"
      }
    },
    {
      "cell_type": "code",
      "source": [
        "data0=wine.query('`class`==0')['color_intensity']\n",
        "data1=wine.query('`class`==1')['color_intensity']\n",
        "data2=wine.query('`class`==2')['color_intensity']"
      ],
      "metadata": {
        "id": "KQgumMCjE_Dr"
      },
      "execution_count": 91,
      "outputs": []
    },
    {
      "cell_type": "code",
      "source": [
        "##**class** 별 색상강도 분포\n",
        "\n",
        "import matplotlib.pyplot as plt\n",
        "\n",
        "fig, ax=plt.subplots(nrows=2, ncols=3, figsize=(5,5))\n",
        "\n",
        "#class0\n",
        "ax[0][0].hist(data0, bins=10, range=(0, 10), rwidth=0.8)\n",
        "ax[0][0].set_title('class0')\n",
        "\n",
        "#class1\n",
        "ax[0][1].hist(data1, bins=10, range=(0, 10), rwidth=0.8)\n",
        "ax[0][1].set_title('class0')\n",
        "\n",
        "#class2\n",
        "ax[0][2].hist(data2, bins=10, range=(0, 10), rwidth=0.8)\n",
        "ax[0][2].set_title('class0')\n",
        "\n",
        "#class0 정규분포 시각화\n",
        "mu=data0.mean()\n",
        "sigma = data0.std()\n",
        "x = np.linspace(mu - 3*sigma, mu + 3*sigma, 100)\n",
        "\n",
        "dist = norm(mu, sigma)\n",
        "pdf = dist.pdf(x)\n",
        "\n",
        "ax[1][0].plot(x, pdf, color='blue')\n",
        "\n",
        "#class1 정규분포 시각화\n",
        "mu=data1.mean()\n",
        "sigma = data1.std()\n",
        "x = np.linspace(mu - 3*sigma, mu + 3*sigma, 100)\n",
        "\n",
        "dist = norm(mu, sigma)\n",
        "pdf = dist.pdf(x)\n",
        "\n",
        "ax[1][1].plot(x, pdf, color='blue')\n",
        "\n",
        "#class2 정규분포 시각화\n",
        "mu=data2.mean()\n",
        "sigma = data2.std()\n",
        "x = np.linspace(mu - 3*sigma, mu + 3*sigma, 100)\n",
        "\n",
        "dist = norm(mu, sigma)\n",
        "pdf = dist.pdf(x)\n",
        "\n",
        "ax[1][2].plot(x, pdf, color='blue')\n",
        "\n",
        "plt.subplots_adjust(wspace= 0.5, hspace= 0.4)\n",
        "plt.show()"
      ],
      "metadata": {
        "colab": {
          "base_uri": "https://localhost:8080/",
          "height": 468
        },
        "id": "tyU7ivFa63dB",
        "outputId": "03f39267-27a3-4fab-cbc6-83cd52f06c9f"
      },
      "execution_count": 90,
      "outputs": [
        {
          "output_type": "display_data",
          "data": {
            "text/plain": [
              "<Figure size 500x500 with 6 Axes>"
            ],
            "image/png": "[encoded data removed]"
          },
          "metadata": {}
        }
      ]
    },
    {
      "cell_type": "markdown",
      "source": [
        "####클라스 별 색상강도 t검정"
      ],
      "metadata": {
        "id": "73N6hIGoFXb2"
      }
    },
    {
      "cell_type": "code",
      "source": [
        "from scipy import stats"
      ],
      "metadata": {
        "id": "s1IztdmcAO8g"
      },
      "execution_count": 77,
      "outputs": []
    },
    {
      "cell_type": "code",
      "source": [
        "stats.ttest_ind(data0, data2, equal_var=True)\n",
        "# 유의수준 0.05보다 훨씬 작으므로, 귀무가설을 기각하고 대립가설을 채택할 수 있습니다. "
      ],
      "metadata": {
        "colab": {
          "base_uri": "https://localhost:8080/"
        },
        "outputId": "b886b3de-1781-4c86-d649-3e243aadc818",
        "id": "wG-yZnrNFQ92"
      },
      "execution_count": 92,
      "outputs": [
        {
          "output_type": "execute_result",
          "data": {
            "text/plain": [
              "Ttest_indResult(statistic=-5.340583483187493, pvalue=5.402431422199361e-07)"
            ]
          },
          "metadata": {},
          "execution_count": 92
        }
      ]
    },
    {
      "cell_type": "code",
      "source": [
        "stats.ttest_ind(data0, data1, equal_var=True)\n",
        "# 유의수준 0.05보다 훨씬 작으므로, 귀무가설을 기각하고 대립가설을 채택할 수 있습니다. "
      ],
      "metadata": {
        "colab": {
          "base_uri": "https://localhost:8080/"
        },
        "outputId": "c9a8bfda-00b2-45a4-f937-e1d9ba58a26f",
        "id": "KpBB4Vj-FQ92"
      },
      "execution_count": 93,
      "outputs": [
        {
          "output_type": "execute_result",
          "data": {
            "text/plain": [
              "Ttest_indResult(statistic=12.852536979361243, pvalue=8.582794060323507e-25)"
            ]
          },
          "metadata": {},
          "execution_count": 93
        }
      ]
    },
    {
      "cell_type": "code",
      "source": [
        "stats.ttest_ind(data1, data2, equal_var=True)\n",
        "# 유의수준 0.05보다 훨씬 작으므로, 귀무가설을 기각하고 대립가설을 채택할 수 있습니다. "
      ],
      "metadata": {
        "colab": {
          "base_uri": "https://localhost:8080/"
        },
        "outputId": "c4757ee6-f4c4-4db9-9d47-acb3b378376d",
        "id": "DLTya5PbFQ93"
      },
      "execution_count": 94,
      "outputs": [
        {
          "output_type": "execute_result",
          "data": {
            "text/plain": [
              "Ttest_indResult(statistic=-14.148445833386669, pvalue=4.239911922737719e-27)"
            ]
          },
          "metadata": {},
          "execution_count": 94
        }
      ]
    },
    {
      "cell_type": "markdown",
      "source": [
        "####클라스별 색상강도 shapiro 검정"
      ],
      "metadata": {
        "id": "ttMGrP9MFbmu"
      }
    },
    {
      "cell_type": "code",
      "source": [
        "##클라스 1 색상강도 shapiro 검정\n",
        "from scipy.stats import shapiro\n",
        "\n",
        "stat, p = shapiro(data0)\n",
        "print('stat=%.3f, p=%.3f' % (stat, p))\n",
        "\n",
        "alpha = 0.05\n",
        "if p > alpha:\n",
        "    print('클라스0은 정규분포를 따르는 것으로 나타났습니다 (p > alpha)')\n",
        "else:\n",
        "    print('클라스0은 정규분포를 따르지 않는 것으로 나타났습니다 (p <= alpha)')"
      ],
      "metadata": {
        "colab": {
          "base_uri": "https://localhost:8080/"
        },
        "id": "3MwTZl8NBZqF",
        "outputId": "1641a7b2-ebd7-40ce-d4cc-e999c3c06175"
      },
      "execution_count": 74,
      "outputs": [
        {
          "output_type": "stream",
          "name": "stdout",
          "text": [
            "stat=0.968, p=0.125\n",
            "샘플이 정규분포를 따르는 것으로 나타났습니다 (p > alpha)\n"
          ]
        }
      ]
    },
    {
      "cell_type": "code",
      "source": [
        "##클라스 1 색상강도 shapiro 검정\n",
        "from scipy.stats import shapiro\n",
        "\n",
        "stat, p = shapiro(data1)\n",
        "print('stat=%.3f, p=%.3f' % (stat, p))\n",
        "\n",
        "alpha = 0.05\n",
        "if p > alpha:\n",
        "    print('클라스1는 정규분포를 따르는 것으로 나타났습니다 (p > alpha)')\n",
        "else:\n",
        "    print('클라스1는 정규분포를 따르지 않는 것으로 나타났습니다 (p <= alpha)')"
      ],
      "metadata": {
        "colab": {
          "base_uri": "https://localhost:8080/"
        },
        "id": "8HMdn81-Bv1D",
        "outputId": "1c69929d-5c33-4e1f-d195-db5706ba0770"
      },
      "execution_count": 73,
      "outputs": [
        {
          "output_type": "stream",
          "name": "stdout",
          "text": [
            "stat=0.932, p=0.001\n",
            "샘플이 정규분포를 따르지 않는 것으로 나타났습니다 (p <= alpha)\n"
          ]
        }
      ]
    },
    {
      "cell_type": "code",
      "source": [
        "##클라스 2 색상강도 shapiro 검정\n",
        "from scipy.stats import shapiro\n",
        "\n",
        "stat, p = shapiro(data2)\n",
        "print('stat=%.3f, p=%.3f' % (stat, p))\n",
        "\n",
        "alpha = 0.05\n",
        "if p > alpha:\n",
        "    print('클라스2는 정규분포를 따르는 것으로 나타났습니다 (p > alpha)')\n",
        "else:\n",
        "    print('클라스2는 정규분포를 따르지 않는 것으로 나타났습니다 (p <= alpha)')"
      ],
      "metadata": {
        "colab": {
          "base_uri": "https://localhost:8080/"
        },
        "id": "H_F8BxSZCDZJ",
        "outputId": "bce0addb-45f0-4b03-e093-6df4c4e0c3c0"
      },
      "execution_count": 76,
      "outputs": [
        {
          "output_type": "stream",
          "name": "stdout",
          "text": [
            "stat=0.958, p=0.088\n",
            "샘플이 정규분포를 따르는 것으로 나타났습니다 (p > alpha)\n"
          ]
        }
      ]
    },
    {
      "cell_type": "markdown",
      "source": [
        "##class-hue"
      ],
      "metadata": {
        "id": "VjYWwVMTCo9G"
      }
    },
    {
      "cell_type": "markdown",
      "source": [
        "##class-hue"
      ],
      "metadata": {
        "id": "LVr0oQD4H3Z1"
      }
    },
    {
      "cell_type": "code",
      "source": [
        "hue0=wine.query('`class`==0')['hue']\n",
        "hue1=wine.query('`class`==1')['hue']\n",
        "hue2=wine.query('`class`==2')['hue']"
      ],
      "metadata": {
        "id": "nFRWr3pJH3Z9"
      },
      "execution_count": 98,
      "outputs": []
    },
    {
      "cell_type": "code",
      "source": [
        "##**class** 별 hue 분포\n",
        "\n",
        "import matplotlib.pyplot as plt\n",
        "\n",
        "fig, ax=plt.subplots(nrows=2, ncols=3, figsize=(5,5))\n",
        "\n",
        "#class0\n",
        "ax[0][0].hist(hue0, bins=10, range=(0, 2), rwidth=0.8)\n",
        "ax[0][0].set_title('class0')\n",
        "\n",
        "#class1\n",
        "ax[0][1].hist(hue1, bins=10, range=(0, 2), rwidth=0.8)\n",
        "ax[0][1].set_title('class1')\n",
        "\n",
        "#class2\n",
        "ax[0][2].hist(hue2, bins=10, range=(0, 1), rwidth=0.8)\n",
        "ax[0][2].set_title('class2')\n",
        "\n",
        "#class0 정규분포 시각화\n",
        "mu=hue0.mean()\n",
        "sigma = data0.std()\n",
        "x = np.linspace(mu - 3*sigma, mu + 3*sigma, 100)\n",
        "\n",
        "dist = norm(mu, sigma)\n",
        "pdf = dist.pdf(x)\n",
        "\n",
        "ax[1][0].plot(x, pdf, color='blue')\n",
        "\n",
        "#class1 정규분포 시각화\n",
        "mu=hue1.mean()\n",
        "sigma = data1.std()\n",
        "x = np.linspace(mu - 3*sigma, mu + 3*sigma, 100)\n",
        "\n",
        "dist = norm(mu, sigma)\n",
        "pdf = dist.pdf(x)\n",
        "\n",
        "ax[1][1].plot(x, pdf, color='blue')\n",
        "\n",
        "#class2 정규분포 시각화\n",
        "mu=hue2.mean()\n",
        "sigma = data2.std()\n",
        "x = np.linspace(mu - 3*sigma, mu + 3*sigma, 100)\n",
        "\n",
        "dist = norm(mu, sigma)\n",
        "pdf = dist.pdf(x)\n",
        "\n",
        "ax[1][2].plot(x, pdf, color='blue')\n",
        "\n",
        "plt.subplots_adjust(wspace= 0.5, hspace= 0.4)\n",
        "plt.show()"
      ],
      "metadata": {
        "colab": {
          "base_uri": "https://localhost:8080/",
          "height": 468
        },
        "id": "MUSQmlgDIZe4",
        "outputId": "22498f7b-6a93-4530-bea0-70c52b6c773a"
      },
      "execution_count": 99,
      "outputs": [
        {
          "output_type": "display_data",
          "data": {
            "text/plain": [
              "<Figure size 500x500 with 6 Axes>"
            ],
            "image/png": "[encoded data removed]"
          },
          "metadata": {}
        }
      ]
    },
    {
      "cell_type": "markdown",
      "source": [
        "####클라스 별 색상강도 t검정"
      ],
      "metadata": {
        "id": "JwHfsFw5H3Z-"
      }
    },
    {
      "cell_type": "code",
      "source": [
        "from scipy import stats"
      ],
      "metadata": {
        "id": "pv5xlojMH3Z-"
      },
      "execution_count": null,
      "outputs": []
    },
    {
      "cell_type": "code",
      "source": [
        "stats.ttest_ind(data0, data2, equal_var=True)\n",
        "# 유의수준 0.05보다 훨씬 작으므로, 귀무가설을 기각하고 대립가설을 채택할 수 있습니다. "
      ],
      "metadata": {
        "colab": {
          "base_uri": "https://localhost:8080/"
        },
        "outputId": "b886b3de-1781-4c86-d649-3e243aadc818",
        "id": "0nVY36e9H3Z-"
      },
      "execution_count": null,
      "outputs": [
        {
          "output_type": "execute_result",
          "data": {
            "text/plain": [
              "Ttest_indResult(statistic=-5.340583483187493, pvalue=5.402431422199361e-07)"
            ]
          },
          "metadata": {},
          "execution_count": 92
        }
      ]
    },
    {
      "cell_type": "code",
      "source": [
        "stats.ttest_ind(data0, data1, equal_var=True)\n",
        "# 유의수준 0.05보다 훨씬 작으므로, 귀무가설을 기각하고 대립가설을 채택할 수 있습니다. "
      ],
      "metadata": {
        "colab": {
          "base_uri": "https://localhost:8080/"
        },
        "outputId": "c9a8bfda-00b2-45a4-f937-e1d9ba58a26f",
        "id": "HM78BpNQH3Z-"
      },
      "execution_count": null,
      "outputs": [
        {
          "output_type": "execute_result",
          "data": {
            "text/plain": [
              "Ttest_indResult(statistic=12.852536979361243, pvalue=8.582794060323507e-25)"
            ]
          },
          "metadata": {},
          "execution_count": 93
        }
      ]
    },
    {
      "cell_type": "code",
      "source": [
        "stats.ttest_ind(data1, data2, equal_var=True)\n",
        "# 유의수준 0.05보다 훨씬 작으므로, 귀무가설을 기각하고 대립가설을 채택할 수 있습니다. "
      ],
      "metadata": {
        "colab": {
          "base_uri": "https://localhost:8080/"
        },
        "outputId": "c4757ee6-f4c4-4db9-9d47-acb3b378376d",
        "id": "3YlaHt4gH3Z-"
      },
      "execution_count": null,
      "outputs": [
        {
          "output_type": "execute_result",
          "data": {
            "text/plain": [
              "Ttest_indResult(statistic=-14.148445833386669, pvalue=4.239911922737719e-27)"
            ]
          },
          "metadata": {},
          "execution_count": 94
        }
      ]
    },
    {
      "cell_type": "markdown",
      "source": [
        "####클라스별 색상강도 shapiro 검정"
      ],
      "metadata": {
        "id": "v8fzdfkkH3Z-"
      }
    },
    {
      "cell_type": "code",
      "source": [
        "##클라스 1 색상강도 shapiro 검정\n",
        "from scipy.stats import shapiro\n",
        "\n",
        "stat, p = shapiro(data0)\n",
        "print('stat=%.3f, p=%.3f' % (stat, p))\n",
        "\n",
        "alpha = 0.05\n",
        "if p > alpha:\n",
        "    print('클라스0은 정규분포를 따르는 것으로 나타났습니다 (p > alpha)')\n",
        "else:\n",
        "    print('클라스0은 정규분포를 따르지 않는 것으로 나타났습니다 (p <= alpha)')"
      ],
      "metadata": {
        "colab": {
          "base_uri": "https://localhost:8080/"
        },
        "outputId": "1641a7b2-ebd7-40ce-d4cc-e999c3c06175",
        "id": "KMGhYdWKH3Z-"
      },
      "execution_count": null,
      "outputs": [
        {
          "output_type": "stream",
          "name": "stdout",
          "text": [
            "stat=0.968, p=0.125\n",
            "샘플이 정규분포를 따르는 것으로 나타났습니다 (p > alpha)\n"
          ]
        }
      ]
    },
    {
      "cell_type": "code",
      "source": [
        "##클라스 1 색상강도 shapiro 검정\n",
        "from scipy.stats import shapiro\n",
        "\n",
        "stat, p = shapiro(data1)\n",
        "print('stat=%.3f, p=%.3f' % (stat, p))\n",
        "\n",
        "alpha = 0.05\n",
        "if p > alpha:\n",
        "    print('클라스1는 정규분포를 따르는 것으로 나타났습니다 (p > alpha)')\n",
        "else:\n",
        "    print('클라스1는 정규분포를 따르지 않는 것으로 나타났습니다 (p <= alpha)')"
      ],
      "metadata": {
        "colab": {
          "base_uri": "https://localhost:8080/"
        },
        "outputId": "1c69929d-5c33-4e1f-d195-db5706ba0770",
        "id": "Y3QMhQCVH3Z_"
      },
      "execution_count": null,
      "outputs": [
        {
          "output_type": "stream",
          "name": "stdout",
          "text": [
            "stat=0.932, p=0.001\n",
            "샘플이 정규분포를 따르지 않는 것으로 나타났습니다 (p <= alpha)\n"
          ]
        }
      ]
    },
    {
      "cell_type": "code",
      "source": [
        "##클라스 2 색상강도 shapiro 검정\n",
        "from scipy.stats import shapiro\n",
        "\n",
        "stat, p = shapiro(data2)\n",
        "print('stat=%.3f, p=%.3f' % (stat, p))\n",
        "\n",
        "alpha = 0.05\n",
        "if p > alpha:\n",
        "    print('클라스2는 정규분포를 따르는 것으로 나타났습니다 (p > alpha)')\n",
        "else:\n",
        "    print('클라스2는 정규분포를 따르지 않는 것으로 나타났습니다 (p <= alpha)')"
      ],
      "metadata": {
        "colab": {
          "base_uri": "https://localhost:8080/"
        },
        "outputId": "bce0addb-45f0-4b03-e093-6df4c4e0c3c0",
        "id": "He8b_xrFH3Z_"
      },
      "execution_count": null,
      "outputs": [
        {
          "output_type": "stream",
          "name": "stdout",
          "text": [
            "stat=0.958, p=0.088\n",
            "샘플이 정규분포를 따르는 것으로 나타났습니다 (p > alpha)\n"
          ]
        }
      ]
    },
    {
      "cell_type": "code",
      "source": [
        "#클라스 별 hue t검정\n",
        "from scipy import stats"
      ],
      "metadata": {
        "id": "hjTc1OdJCo9I"
      },
      "execution_count": null,
      "outputs": []
    },
    {
      "cell_type": "code",
      "source": [
        "stats.ttest_ind(data0, data2, equal_var=True)\n",
        "# 유의수준 0.05보다 훨씬 작으므로, 귀무가설을 기각하고 대립가설을 채택할 수 있습니다. "
      ],
      "metadata": {
        "colab": {
          "base_uri": "https://localhost:8080/"
        },
        "outputId": "a57b1a79-96a1-4909-faa8-47fd2b96d78e",
        "id": "4ddpibqNCo9J"
      },
      "execution_count": 79,
      "outputs": [
        {
          "output_type": "execute_result",
          "data": {
            "text/plain": [
              "Ttest_indResult(statistic=-5.340583483187493, pvalue=5.402431422199361e-07)"
            ]
          },
          "metadata": {},
          "execution_count": 79
        }
      ]
    },
    {
      "cell_type": "code",
      "source": [
        "stats.ttest_ind(data0, data1, equal_var=True)\n",
        "# 유의수준 0.05보다 훨씬 작으므로, 귀무가설을 기각하고 대립가설을 채택할 수 있습니다. "
      ],
      "metadata": {
        "colab": {
          "base_uri": "https://localhost:8080/"
        },
        "outputId": "cd9efe7a-cc1e-4804-b961-c0428b941cf8",
        "id": "SfFtA_e6Co9J"
      },
      "execution_count": 80,
      "outputs": [
        {
          "output_type": "execute_result",
          "data": {
            "text/plain": [
              "Ttest_indResult(statistic=12.852536979361243, pvalue=8.582794060323507e-25)"
            ]
          },
          "metadata": {},
          "execution_count": 80
        }
      ]
    },
    {
      "cell_type": "code",
      "source": [
        "stats.ttest_ind(data1, data2, equal_var=True)\n",
        "# 유의수준 0.05보다 훨씬 작으므로, 귀무가설을 기각하고 대립가설을 채택할 수 있습니다. "
      ],
      "metadata": {
        "colab": {
          "base_uri": "https://localhost:8080/"
        },
        "outputId": "589d1119-9289-454f-c828-6ecc5a7620ee",
        "id": "RCH6hK8kCo9J"
      },
      "execution_count": 81,
      "outputs": [
        {
          "output_type": "execute_result",
          "data": {
            "text/plain": [
              "Ttest_indResult(statistic=-14.148445833386669, pvalue=4.239911922737719e-27)"
            ]
          },
          "metadata": {},
          "execution_count": 81
        }
      ]
    },
    {
      "cell_type": "code",
      "source": [
        "##클라스 0 hue shapiro 검정\n",
        "from scipy.stats import shapiro\n",
        "\n",
        "stat, p = shapiro(data0)\n",
        "print('stat=%.3f, p=%.3f' % (stat, p))\n",
        "\n",
        "alpha = 0.05\n",
        "if p > alpha:\n",
        "    print('샘플이 정규분포를 따르는 것으로 나타났습니다 (p > alpha)')\n",
        "else:\n",
        "    print('샘플이 정규분포를 따르지 않는 것으로 나타났습니다 (p <= alpha)')"
      ],
      "metadata": {
        "colab": {
          "base_uri": "https://localhost:8080/"
        },
        "outputId": "28862f7c-8a4e-4c37-94cf-3e5ad8bd4440",
        "id": "84GSKLwCCo9K"
      },
      "execution_count": 82,
      "outputs": [
        {
          "output_type": "stream",
          "name": "stdout",
          "text": [
            "stat=0.968, p=0.125\n",
            "샘플이 정규분포를 따르는 것으로 나타났습니다 (p > alpha)\n"
          ]
        }
      ]
    },
    {
      "cell_type": "code",
      "source": [
        "##클라스 1 hue shapiro 검정\n",
        "from scipy.stats import shapiro\n",
        "\n",
        "stat, p = shapiro(data1)\n",
        "print('stat=%.3f, p=%.3f' % (stat, p))\n",
        "\n",
        "alpha = 0.05\n",
        "if p > alpha:\n",
        "    print('샘플이 정규분포를 따르는 것으로 나타났습니다 (p > alpha)')\n",
        "else:\n",
        "    print('샘플이 정규분포를 따르지 않는 것으로 나타났습니다 (p <= alpha)')"
      ],
      "metadata": {
        "colab": {
          "base_uri": "https://localhost:8080/"
        },
        "outputId": "e0989331-1696-47db-dec5-070216272df4",
        "id": "_8hLbd7fCo9K"
      },
      "execution_count": 88,
      "outputs": [
        {
          "output_type": "stream",
          "name": "stdout",
          "text": [
            "stat=0.977, p=0.225\n",
            "샘플이 정규분포를 따르는 것으로 나타났습니다 (p > alpha)\n"
          ]
        }
      ]
    },
    {
      "cell_type": "code",
      "source": [
        "##클라스 2 색상강도 hue 검정\n",
        "from scipy.stats import shapiro\n",
        "\n",
        "stat, p = shapiro(data2)\n",
        "print('stat=%.3f, p=%.3f' % (stat, p))\n",
        "\n",
        "alpha = 0.05\n",
        "if p > alpha:\n",
        "    print('샘플이 정규분포를 따르는 것으로 나타났습니다 (p > alpha)')\n",
        "else:\n",
        "    print('샘플이 정규분포를 따르지 않는 것으로 나타났습니다 (p <= alpha)')"
      ],
      "metadata": {
        "colab": {
          "base_uri": "https://localhost:8080/"
        },
        "outputId": "5c309cb1-df94-402e-bdaf-67782c8d47c7",
        "id": "eTfKfa21Co9K"
      },
      "execution_count": 89,
      "outputs": [
        {
          "output_type": "stream",
          "name": "stdout",
          "text": [
            "stat=0.946, p=0.028\n",
            "샘플이 정규분포를 따르지 않는 것으로 나타났습니다 (p <= alpha)\n"
          ]
        }
      ]
    }
  ]
}