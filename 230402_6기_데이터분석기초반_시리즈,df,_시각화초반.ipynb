{
  "cells": [
    {
      "cell_type": "markdown",
      "metadata": {
        "id": "view-in-github",
        "colab_type": "text"
      },
      "source": [
        "<a href=\"https://colab.research.google.com/github/seon0415/BPA-/blob/main/230402_6%E1%84%80%E1%85%B5_%E1%84%83%E1%85%A6%E1%84%8B%E1%85%B5%E1%84%90%E1%85%A5%E1%84%87%E1%85%AE%E1%86%AB%E1%84%89%E1%85%A5%E1%86%A8%E1%84%80%E1%85%B5%E1%84%8E%E1%85%A9%E1%84%87%E1%85%A1%E1%86%AB_%E1%84%89%E1%85%B5%E1%84%85%E1%85%B5%E1%84%8C%E1%85%B3%2Cdf%2C_%E1%84%89%E1%85%B5%E1%84%80%E1%85%A1%E1%86%A8%E1%84%92%E1%85%AA%E1%84%8E%E1%85%A9%E1%84%87%E1%85%A1%E1%86%AB.ipynb\" target=\"_parent\"><img src=\"https://colab.research.google.com/assets/colab-badge.svg\" alt=\"Open In Colab\"/></a>"
      ]
    },
    {
      "cell_type": "markdown",
      "metadata": {
        "id": "LIV1Uooee_fC"
      },
      "source": [
        "### 데이터프레임과 시리즈에 대한 이해\n",
        "- 데이터프레임과 시리즈가 어떤 식으로 작동하고 다른 것인가?"
      ]
    },
    {
      "cell_type": "code",
      "execution_count": null,
      "metadata": {
        "id": "xnSEwHAye_fF"
      },
      "outputs": [],
      "source": [
        "import pandas as pd"
      ]
    },
    {
      "cell_type": "code",
      "execution_count": null,
      "metadata": {
        "id": "Nr-DWaz6e_fH"
      },
      "outputs": [],
      "source": [
        "mpg = pd.read_csv('mpg.csv')"
      ]
    },
    {
      "cell_type": "code",
      "execution_count": null,
      "metadata": {
        "id": "DbjY0mDMe_fH",
        "outputId": "68ede01e-ee90-4dfd-d056-549177d4b18f"
      },
      "outputs": [
        {
          "data": {
            "text/html": [
              "<div>\n",
              "<style scoped>\n",
              "    .dataframe tbody tr th:only-of-type {\n",
              "        vertical-align: middle;\n",
              "    }\n",
              "\n",
              "    .dataframe tbody tr th {\n",
              "        vertical-align: top;\n",
              "    }\n",
              "\n",
              "    .dataframe thead th {\n",
              "        text-align: right;\n",
              "    }\n",
              "</style>\n",
              "<table border=\"1\" class=\"dataframe\">\n",
              "  <thead>\n",
              "    <tr style=\"text-align: right;\">\n",
              "      <th></th>\n",
              "      <th>manufacturer</th>\n",
              "      <th>model</th>\n",
              "      <th>displ</th>\n",
              "      <th>year</th>\n",
              "      <th>cyl</th>\n",
              "      <th>trans</th>\n",
              "      <th>drv</th>\n",
              "      <th>cty</th>\n",
              "      <th>hwy</th>\n",
              "      <th>fl</th>\n",
              "      <th>category</th>\n",
              "    </tr>\n",
              "  </thead>\n",
              "  <tbody>\n",
              "    <tr>\n",
              "      <th>0</th>\n",
              "      <td>audi</td>\n",
              "      <td>a4</td>\n",
              "      <td>1.8</td>\n",
              "      <td>1999</td>\n",
              "      <td>4</td>\n",
              "      <td>auto(l5)</td>\n",
              "      <td>f</td>\n",
              "      <td>18</td>\n",
              "      <td>29</td>\n",
              "      <td>p</td>\n",
              "      <td>compact</td>\n",
              "    </tr>\n",
              "    <tr>\n",
              "      <th>1</th>\n",
              "      <td>audi</td>\n",
              "      <td>a4</td>\n",
              "      <td>1.8</td>\n",
              "      <td>1999</td>\n",
              "      <td>4</td>\n",
              "      <td>manual(m5)</td>\n",
              "      <td>f</td>\n",
              "      <td>21</td>\n",
              "      <td>29</td>\n",
              "      <td>p</td>\n",
              "      <td>compact</td>\n",
              "    </tr>\n",
              "    <tr>\n",
              "      <th>2</th>\n",
              "      <td>audi</td>\n",
              "      <td>a4</td>\n",
              "      <td>2.0</td>\n",
              "      <td>2008</td>\n",
              "      <td>4</td>\n",
              "      <td>manual(m6)</td>\n",
              "      <td>f</td>\n",
              "      <td>20</td>\n",
              "      <td>31</td>\n",
              "      <td>p</td>\n",
              "      <td>compact</td>\n",
              "    </tr>\n",
              "    <tr>\n",
              "      <th>3</th>\n",
              "      <td>audi</td>\n",
              "      <td>a4</td>\n",
              "      <td>2.0</td>\n",
              "      <td>2008</td>\n",
              "      <td>4</td>\n",
              "      <td>auto(av)</td>\n",
              "      <td>f</td>\n",
              "      <td>21</td>\n",
              "      <td>30</td>\n",
              "      <td>p</td>\n",
              "      <td>compact</td>\n",
              "    </tr>\n",
              "    <tr>\n",
              "      <th>4</th>\n",
              "      <td>audi</td>\n",
              "      <td>a4</td>\n",
              "      <td>2.8</td>\n",
              "      <td>1999</td>\n",
              "      <td>6</td>\n",
              "      <td>auto(l5)</td>\n",
              "      <td>f</td>\n",
              "      <td>16</td>\n",
              "      <td>26</td>\n",
              "      <td>p</td>\n",
              "      <td>compact</td>\n",
              "    </tr>\n",
              "    <tr>\n",
              "      <th>...</th>\n",
              "      <td>...</td>\n",
              "      <td>...</td>\n",
              "      <td>...</td>\n",
              "      <td>...</td>\n",
              "      <td>...</td>\n",
              "      <td>...</td>\n",
              "      <td>...</td>\n",
              "      <td>...</td>\n",
              "      <td>...</td>\n",
              "      <td>...</td>\n",
              "      <td>...</td>\n",
              "    </tr>\n",
              "    <tr>\n",
              "      <th>229</th>\n",
              "      <td>volkswagen</td>\n",
              "      <td>passat</td>\n",
              "      <td>2.0</td>\n",
              "      <td>2008</td>\n",
              "      <td>4</td>\n",
              "      <td>auto(s6)</td>\n",
              "      <td>f</td>\n",
              "      <td>19</td>\n",
              "      <td>28</td>\n",
              "      <td>p</td>\n",
              "      <td>midsize</td>\n",
              "    </tr>\n",
              "    <tr>\n",
              "      <th>230</th>\n",
              "      <td>volkswagen</td>\n",
              "      <td>passat</td>\n",
              "      <td>2.0</td>\n",
              "      <td>2008</td>\n",
              "      <td>4</td>\n",
              "      <td>manual(m6)</td>\n",
              "      <td>f</td>\n",
              "      <td>21</td>\n",
              "      <td>29</td>\n",
              "      <td>p</td>\n",
              "      <td>midsize</td>\n",
              "    </tr>\n",
              "    <tr>\n",
              "      <th>231</th>\n",
              "      <td>volkswagen</td>\n",
              "      <td>passat</td>\n",
              "      <td>2.8</td>\n",
              "      <td>1999</td>\n",
              "      <td>6</td>\n",
              "      <td>auto(l5)</td>\n",
              "      <td>f</td>\n",
              "      <td>16</td>\n",
              "      <td>26</td>\n",
              "      <td>p</td>\n",
              "      <td>midsize</td>\n",
              "    </tr>\n",
              "    <tr>\n",
              "      <th>232</th>\n",
              "      <td>volkswagen</td>\n",
              "      <td>passat</td>\n",
              "      <td>2.8</td>\n",
              "      <td>1999</td>\n",
              "      <td>6</td>\n",
              "      <td>manual(m5)</td>\n",
              "      <td>f</td>\n",
              "      <td>18</td>\n",
              "      <td>26</td>\n",
              "      <td>p</td>\n",
              "      <td>midsize</td>\n",
              "    </tr>\n",
              "    <tr>\n",
              "      <th>233</th>\n",
              "      <td>volkswagen</td>\n",
              "      <td>passat</td>\n",
              "      <td>3.6</td>\n",
              "      <td>2008</td>\n",
              "      <td>6</td>\n",
              "      <td>auto(s6)</td>\n",
              "      <td>f</td>\n",
              "      <td>17</td>\n",
              "      <td>26</td>\n",
              "      <td>p</td>\n",
              "      <td>midsize</td>\n",
              "    </tr>\n",
              "  </tbody>\n",
              "</table>\n",
              "<p>234 rows × 11 columns</p>\n",
              "</div>"
            ],
            "text/plain": [
              "    manufacturer   model  displ  year  cyl       trans drv  cty  hwy fl  \\\n",
              "0           audi      a4    1.8  1999    4    auto(l5)   f   18   29  p   \n",
              "1           audi      a4    1.8  1999    4  manual(m5)   f   21   29  p   \n",
              "2           audi      a4    2.0  2008    4  manual(m6)   f   20   31  p   \n",
              "3           audi      a4    2.0  2008    4    auto(av)   f   21   30  p   \n",
              "4           audi      a4    2.8  1999    6    auto(l5)   f   16   26  p   \n",
              "..           ...     ...    ...   ...  ...         ...  ..  ...  ... ..   \n",
              "229   volkswagen  passat    2.0  2008    4    auto(s6)   f   19   28  p   \n",
              "230   volkswagen  passat    2.0  2008    4  manual(m6)   f   21   29  p   \n",
              "231   volkswagen  passat    2.8  1999    6    auto(l5)   f   16   26  p   \n",
              "232   volkswagen  passat    2.8  1999    6  manual(m5)   f   18   26  p   \n",
              "233   volkswagen  passat    3.6  2008    6    auto(s6)   f   17   26  p   \n",
              "\n",
              "    category  \n",
              "0    compact  \n",
              "1    compact  \n",
              "2    compact  \n",
              "3    compact  \n",
              "4    compact  \n",
              "..       ...  \n",
              "229  midsize  \n",
              "230  midsize  \n",
              "231  midsize  \n",
              "232  midsize  \n",
              "233  midsize  \n",
              "\n",
              "[234 rows x 11 columns]"
            ]
          },
          "execution_count": 3,
          "metadata": {},
          "output_type": "execute_result"
        }
      ],
      "source": [
        "mpg # 컬럼 2개 이상이 되어서 형태가 데이터프레임으로 "
      ]
    },
    {
      "cell_type": "code",
      "execution_count": null,
      "metadata": {
        "id": "_BwVMiEGe_fI",
        "outputId": "36568c31-771d-4c39-86fa-f14f945c4ac7"
      },
      "outputs": [
        {
          "data": {
            "text/plain": [
              "0          a4\n",
              "1          a4\n",
              "2          a4\n",
              "3          a4\n",
              "4          a4\n",
              "        ...  \n",
              "229    passat\n",
              "230    passat\n",
              "231    passat\n",
              "232    passat\n",
              "233    passat\n",
              "Name: model, Length: 234, dtype: object"
            ]
          },
          "execution_count": 4,
          "metadata": {},
          "output_type": "execute_result"
        }
      ],
      "source": [
        "mpg['model']"
      ]
    },
    {
      "cell_type": "markdown",
      "metadata": {
        "id": "2SkdZtbje_fI"
      },
      "source": [
        "- 시리즈를 형태도 만들 수 있다."
      ]
    },
    {
      "cell_type": "code",
      "execution_count": null,
      "metadata": {
        "id": "jIWKlD73e_fJ"
      },
      "outputs": [],
      "source": [
        "\n",
        "a=pd.Series(['홍길동',15])"
      ]
    },
    {
      "cell_type": "code",
      "execution_count": null,
      "metadata": {
        "id": "3zKR1DFce_fJ",
        "outputId": "c6fd7248-1679-4d1e-ec38-505c8b42dab5"
      },
      "outputs": [
        {
          "data": {
            "text/plain": [
              "0    홍길동\n",
              "1     15\n",
              "dtype: object"
            ]
          },
          "execution_count": 8,
          "metadata": {},
          "output_type": "execute_result"
        }
      ],
      "source": [
        "a #인덱스가 없는 경우는 디폴트가 0,1"
      ]
    },
    {
      "cell_type": "code",
      "execution_count": null,
      "metadata": {
        "id": "FrvjkilLe_fK"
      },
      "outputs": [],
      "source": [
        "a=pd.Series(['홍길동',15], index=['name','age']) #인덱스가 필요한 경우 선언하면"
      ]
    },
    {
      "cell_type": "code",
      "execution_count": null,
      "metadata": {
        "id": "m6AE2Inne_fK",
        "outputId": "b3b05a53-7a8f-48e9-d583-826e5fe589d3"
      },
      "outputs": [
        {
          "data": {
            "text/plain": [
              "name    홍길동\n",
              "age      15\n",
              "dtype: object"
            ]
          },
          "execution_count": 10,
          "metadata": {},
          "output_type": "execute_result"
        }
      ],
      "source": [
        "a # name, age로 바뀜"
      ]
    },
    {
      "cell_type": "markdown",
      "metadata": {
        "id": "RhVxM10ie_fL"
      },
      "source": [
        "- 데이터프레임도 만들 수 있다."
      ]
    },
    {
      "cell_type": "code",
      "execution_count": null,
      "metadata": {
        "id": "ZZZyMkkMe_fL"
      },
      "outputs": [],
      "source": [
        "st = pd.DataFrame({'name':['홍길동','김영희'],\n",
        "                  'age':[15,18]})"
      ]
    },
    {
      "cell_type": "code",
      "execution_count": null,
      "metadata": {
        "id": "brNagixwe_fL",
        "outputId": "e11ee3ca-797d-4329-e6d9-4fe084e4b2ed"
      },
      "outputs": [
        {
          "data": {
            "text/html": [
              "<div>\n",
              "<style scoped>\n",
              "    .dataframe tbody tr th:only-of-type {\n",
              "        vertical-align: middle;\n",
              "    }\n",
              "\n",
              "    .dataframe tbody tr th {\n",
              "        vertical-align: top;\n",
              "    }\n",
              "\n",
              "    .dataframe thead th {\n",
              "        text-align: right;\n",
              "    }\n",
              "</style>\n",
              "<table border=\"1\" class=\"dataframe\">\n",
              "  <thead>\n",
              "    <tr style=\"text-align: right;\">\n",
              "      <th></th>\n",
              "      <th>name</th>\n",
              "      <th>age</th>\n",
              "    </tr>\n",
              "  </thead>\n",
              "  <tbody>\n",
              "    <tr>\n",
              "      <th>0</th>\n",
              "      <td>홍길동</td>\n",
              "      <td>15</td>\n",
              "    </tr>\n",
              "    <tr>\n",
              "      <th>1</th>\n",
              "      <td>김영희</td>\n",
              "      <td>18</td>\n",
              "    </tr>\n",
              "  </tbody>\n",
              "</table>\n",
              "</div>"
            ],
            "text/plain": [
              "  name  age\n",
              "0  홍길동   15\n",
              "1  김영희   18"
            ]
          },
          "execution_count": 12,
          "metadata": {},
          "output_type": "execute_result"
        }
      ],
      "source": [
        "st"
      ]
    },
    {
      "cell_type": "code",
      "execution_count": null,
      "metadata": {
        "id": "1Kzr7OU9e_fL"
      },
      "outputs": [],
      "source": [
        "st = pd.DataFrame({'name':['홍길동','김영희'],\n",
        "                  'age':[15,18]},\n",
        "                 index=['1반','2반'])"
      ]
    },
    {
      "cell_type": "code",
      "execution_count": null,
      "metadata": {
        "id": "y7d7ruUQe_fM",
        "outputId": "46132133-c774-49ff-9490-e2998379bcc4"
      },
      "outputs": [
        {
          "data": {
            "text/html": [
              "<div>\n",
              "<style scoped>\n",
              "    .dataframe tbody tr th:only-of-type {\n",
              "        vertical-align: middle;\n",
              "    }\n",
              "\n",
              "    .dataframe tbody tr th {\n",
              "        vertical-align: top;\n",
              "    }\n",
              "\n",
              "    .dataframe thead th {\n",
              "        text-align: right;\n",
              "    }\n",
              "</style>\n",
              "<table border=\"1\" class=\"dataframe\">\n",
              "  <thead>\n",
              "    <tr style=\"text-align: right;\">\n",
              "      <th></th>\n",
              "      <th>name</th>\n",
              "      <th>age</th>\n",
              "    </tr>\n",
              "  </thead>\n",
              "  <tbody>\n",
              "    <tr>\n",
              "      <th>1반</th>\n",
              "      <td>홍길동</td>\n",
              "      <td>15</td>\n",
              "    </tr>\n",
              "    <tr>\n",
              "      <th>2반</th>\n",
              "      <td>김영희</td>\n",
              "      <td>18</td>\n",
              "    </tr>\n",
              "  </tbody>\n",
              "</table>\n",
              "</div>"
            ],
            "text/plain": [
              "   name  age\n",
              "1반  홍길동   15\n",
              "2반  김영희   18"
            ]
          },
          "execution_count": 14,
          "metadata": {},
          "output_type": "execute_result"
        }
      ],
      "source": [
        "st"
      ]
    },
    {
      "cell_type": "markdown",
      "metadata": {
        "id": "8HC43b8se_fM"
      },
      "source": [
        "- 인덱스도 본인이 조정하고 만들 수 있다."
      ]
    },
    {
      "cell_type": "markdown",
      "metadata": {
        "id": "ZVGQppu6e_fM"
      },
      "source": [
        "- 시리즈의 살펴보자!"
      ]
    },
    {
      "cell_type": "code",
      "execution_count": null,
      "metadata": {
        "id": "D_xKDzwVe_fM",
        "outputId": "34ed2dda-7e5d-455d-86ea-471f4d946bc3"
      },
      "outputs": [
        {
          "data": {
            "text/plain": [
              "Index(['name', 'age'], dtype='object')"
            ]
          },
          "execution_count": 15,
          "metadata": {},
          "output_type": "execute_result"
        }
      ],
      "source": [
        "a.index #인덱스만 추출도 가능하다"
      ]
    },
    {
      "cell_type": "code",
      "execution_count": null,
      "metadata": {
        "id": "16Gp1HVre_fM",
        "outputId": "ffbe750a-621b-469e-ffd6-81c7d9f2f7df"
      },
      "outputs": [
        {
          "data": {
            "text/plain": [
              "array(['홍길동', 15], dtype=object)"
            ]
          },
          "execution_count": 16,
          "metadata": {},
          "output_type": "execute_result"
        }
      ],
      "source": [
        "a.values"
      ]
    },
    {
      "cell_type": "code",
      "execution_count": null,
      "metadata": {
        "id": "2o7lN0vze_fN"
      },
      "outputs": [],
      "source": [
        "mpg_sp=mpg['model']"
      ]
    },
    {
      "cell_type": "code",
      "execution_count": null,
      "metadata": {
        "id": "DlPneAWQe_fN",
        "outputId": "148d781f-4e9d-4a13-acc5-0a5e8c74d460"
      },
      "outputs": [
        {
          "data": {
            "text/plain": [
              "0                          a4\n",
              "7                  a4 quattro\n",
              "15                 a6 quattro\n",
              "18         c1500 suburban 2wd\n",
              "23                   corvette\n",
              "28            k1500 tahoe 4wd\n",
              "32                     malibu\n",
              "37                caravan 2wd\n",
              "48          dakota pickup 4wd\n",
              "57                durango 4wd\n",
              "64        ram 1500 pickup 4wd\n",
              "74             expedition 2wd\n",
              "77               explorer 4wd\n",
              "83            f150 pickup 4wd\n",
              "90                    mustang\n",
              "99                      civic\n",
              "108                    sonata\n",
              "115                   tiburon\n",
              "122        grand cherokee 4wd\n",
              "130               range rover\n",
              "134             navigator 2wd\n",
              "137           mountaineer 4wd\n",
              "141                    altima\n",
              "147                    maxima\n",
              "150            pathfinder 4wd\n",
              "154                grand prix\n",
              "159              forester awd\n",
              "165               impreza awd\n",
              "173               4runner 4wd\n",
              "179                     camry\n",
              "186              camry solara\n",
              "193                   corolla\n",
              "198    land cruiser wagon 4wd\n",
              "200         toyota tacoma 4wd\n",
              "207                       gti\n",
              "212                     jetta\n",
              "221                new beetle\n",
              "227                    passat\n",
              "Name: model, dtype: object"
            ]
          },
          "execution_count": 31,
          "metadata": {},
          "output_type": "execute_result"
        }
      ],
      "source": [
        "mpg['model'].drop_duplicates() #중복제거 "
      ]
    },
    {
      "cell_type": "code",
      "execution_count": null,
      "metadata": {
        "scrolled": true,
        "id": "_ol5MRxNe_fN",
        "outputId": "7f5674d0-6b5e-471b-96d0-beb0f99868e5"
      },
      "outputs": [
        {
          "data": {
            "text/plain": [
              "array(['a4', 'a4', 'a4', 'a4', 'a4', 'a4', 'a4', 'a4 quattro',\n",
              "       'a4 quattro', 'a4 quattro', 'a4 quattro', 'a4 quattro',\n",
              "       'a4 quattro', 'a4 quattro', 'a4 quattro', 'a6 quattro',\n",
              "       'a6 quattro', 'a6 quattro', 'c1500 suburban 2wd',\n",
              "       'c1500 suburban 2wd', 'c1500 suburban 2wd', 'c1500 suburban 2wd',\n",
              "       'c1500 suburban 2wd', 'corvette', 'corvette', 'corvette',\n",
              "       'corvette', 'corvette', 'k1500 tahoe 4wd', 'k1500 tahoe 4wd',\n",
              "       'k1500 tahoe 4wd', 'k1500 tahoe 4wd', 'malibu', 'malibu', 'malibu',\n",
              "       'malibu', 'malibu', 'caravan 2wd', 'caravan 2wd', 'caravan 2wd',\n",
              "       'caravan 2wd', 'caravan 2wd', 'caravan 2wd', 'caravan 2wd',\n",
              "       'caravan 2wd', 'caravan 2wd', 'caravan 2wd', 'caravan 2wd',\n",
              "       'dakota pickup 4wd', 'dakota pickup 4wd', 'dakota pickup 4wd',\n",
              "       'dakota pickup 4wd', 'dakota pickup 4wd', 'dakota pickup 4wd',\n",
              "       'dakota pickup 4wd', 'dakota pickup 4wd', 'dakota pickup 4wd',\n",
              "       'durango 4wd', 'durango 4wd', 'durango 4wd', 'durango 4wd',\n",
              "       'durango 4wd', 'durango 4wd', 'durango 4wd', 'ram 1500 pickup 4wd',\n",
              "       'ram 1500 pickup 4wd', 'ram 1500 pickup 4wd',\n",
              "       'ram 1500 pickup 4wd', 'ram 1500 pickup 4wd',\n",
              "       'ram 1500 pickup 4wd', 'ram 1500 pickup 4wd',\n",
              "       'ram 1500 pickup 4wd', 'ram 1500 pickup 4wd',\n",
              "       'ram 1500 pickup 4wd', 'expedition 2wd', 'expedition 2wd',\n",
              "       'expedition 2wd', 'explorer 4wd', 'explorer 4wd', 'explorer 4wd',\n",
              "       'explorer 4wd', 'explorer 4wd', 'explorer 4wd', 'f150 pickup 4wd',\n",
              "       'f150 pickup 4wd', 'f150 pickup 4wd', 'f150 pickup 4wd',\n",
              "       'f150 pickup 4wd', 'f150 pickup 4wd', 'f150 pickup 4wd', 'mustang',\n",
              "       'mustang', 'mustang', 'mustang', 'mustang', 'mustang', 'mustang',\n",
              "       'mustang', 'mustang', 'civic', 'civic', 'civic', 'civic', 'civic',\n",
              "       'civic', 'civic', 'civic', 'civic', 'sonata', 'sonata', 'sonata',\n",
              "       'sonata', 'sonata', 'sonata', 'sonata', 'tiburon', 'tiburon',\n",
              "       'tiburon', 'tiburon', 'tiburon', 'tiburon', 'tiburon',\n",
              "       'grand cherokee 4wd', 'grand cherokee 4wd', 'grand cherokee 4wd',\n",
              "       'grand cherokee 4wd', 'grand cherokee 4wd', 'grand cherokee 4wd',\n",
              "       'grand cherokee 4wd', 'grand cherokee 4wd', 'range rover',\n",
              "       'range rover', 'range rover', 'range rover', 'navigator 2wd',\n",
              "       'navigator 2wd', 'navigator 2wd', 'mountaineer 4wd',\n",
              "       'mountaineer 4wd', 'mountaineer 4wd', 'mountaineer 4wd', 'altima',\n",
              "       'altima', 'altima', 'altima', 'altima', 'altima', 'maxima',\n",
              "       'maxima', 'maxima', 'pathfinder 4wd', 'pathfinder 4wd',\n",
              "       'pathfinder 4wd', 'pathfinder 4wd', 'grand prix', 'grand prix',\n",
              "       'grand prix', 'grand prix', 'grand prix', 'forester awd',\n",
              "       'forester awd', 'forester awd', 'forester awd', 'forester awd',\n",
              "       'forester awd', 'impreza awd', 'impreza awd', 'impreza awd',\n",
              "       'impreza awd', 'impreza awd', 'impreza awd', 'impreza awd',\n",
              "       'impreza awd', '4runner 4wd', '4runner 4wd', '4runner 4wd',\n",
              "       '4runner 4wd', '4runner 4wd', '4runner 4wd', 'camry', 'camry',\n",
              "       'camry', 'camry', 'camry', 'camry', 'camry', 'camry solara',\n",
              "       'camry solara', 'camry solara', 'camry solara', 'camry solara',\n",
              "       'camry solara', 'camry solara', 'corolla', 'corolla', 'corolla',\n",
              "       'corolla', 'corolla', 'land cruiser wagon 4wd',\n",
              "       'land cruiser wagon 4wd', 'toyota tacoma 4wd', 'toyota tacoma 4wd',\n",
              "       'toyota tacoma 4wd', 'toyota tacoma 4wd', 'toyota tacoma 4wd',\n",
              "       'toyota tacoma 4wd', 'toyota tacoma 4wd', 'gti', 'gti', 'gti',\n",
              "       'gti', 'gti', 'jetta', 'jetta', 'jetta', 'jetta', 'jetta', 'jetta',\n",
              "       'jetta', 'jetta', 'jetta', 'new beetle', 'new beetle',\n",
              "       'new beetle', 'new beetle', 'new beetle', 'new beetle', 'passat',\n",
              "       'passat', 'passat', 'passat', 'passat', 'passat', 'passat'],\n",
              "      dtype=object)"
            ]
          },
          "execution_count": 19,
          "metadata": {},
          "output_type": "execute_result"
        }
      ],
      "source": [
        "mpg_sp.values #배열형태로 만들어진다."
      ]
    },
    {
      "cell_type": "code",
      "execution_count": null,
      "metadata": {
        "id": "9WMBKxV6e_fN"
      },
      "outputs": [],
      "source": [
        "mpg_sp_lt=list(mpg_sp.values) #배열형태로 만들어진다."
      ]
    },
    {
      "cell_type": "code",
      "execution_count": null,
      "metadata": {
        "id": "QSW03daFe_fN",
        "outputId": "85b0dec8-93e3-488e-ab23-9d7a8c2994e3"
      },
      "outputs": [
        {
          "data": {
            "text/plain": [
              "['a4',\n",
              " 'a4',\n",
              " 'a4',\n",
              " 'a4',\n",
              " 'a4',\n",
              " 'a4',\n",
              " 'a4',\n",
              " 'a4 quattro',\n",
              " 'a4 quattro',\n",
              " 'a4 quattro',\n",
              " 'a4 quattro',\n",
              " 'a4 quattro',\n",
              " 'a4 quattro',\n",
              " 'a4 quattro',\n",
              " 'a4 quattro',\n",
              " 'a6 quattro',\n",
              " 'a6 quattro',\n",
              " 'a6 quattro',\n",
              " 'c1500 suburban 2wd',\n",
              " 'c1500 suburban 2wd',\n",
              " 'c1500 suburban 2wd',\n",
              " 'c1500 suburban 2wd',\n",
              " 'c1500 suburban 2wd',\n",
              " 'corvette',\n",
              " 'corvette',\n",
              " 'corvette',\n",
              " 'corvette',\n",
              " 'corvette',\n",
              " 'k1500 tahoe 4wd',\n",
              " 'k1500 tahoe 4wd',\n",
              " 'k1500 tahoe 4wd',\n",
              " 'k1500 tahoe 4wd',\n",
              " 'malibu',\n",
              " 'malibu',\n",
              " 'malibu',\n",
              " 'malibu',\n",
              " 'malibu',\n",
              " 'caravan 2wd',\n",
              " 'caravan 2wd',\n",
              " 'caravan 2wd',\n",
              " 'caravan 2wd',\n",
              " 'caravan 2wd',\n",
              " 'caravan 2wd',\n",
              " 'caravan 2wd',\n",
              " 'caravan 2wd',\n",
              " 'caravan 2wd',\n",
              " 'caravan 2wd',\n",
              " 'caravan 2wd',\n",
              " 'dakota pickup 4wd',\n",
              " 'dakota pickup 4wd',\n",
              " 'dakota pickup 4wd',\n",
              " 'dakota pickup 4wd',\n",
              " 'dakota pickup 4wd',\n",
              " 'dakota pickup 4wd',\n",
              " 'dakota pickup 4wd',\n",
              " 'dakota pickup 4wd',\n",
              " 'dakota pickup 4wd',\n",
              " 'durango 4wd',\n",
              " 'durango 4wd',\n",
              " 'durango 4wd',\n",
              " 'durango 4wd',\n",
              " 'durango 4wd',\n",
              " 'durango 4wd',\n",
              " 'durango 4wd',\n",
              " 'ram 1500 pickup 4wd',\n",
              " 'ram 1500 pickup 4wd',\n",
              " 'ram 1500 pickup 4wd',\n",
              " 'ram 1500 pickup 4wd',\n",
              " 'ram 1500 pickup 4wd',\n",
              " 'ram 1500 pickup 4wd',\n",
              " 'ram 1500 pickup 4wd',\n",
              " 'ram 1500 pickup 4wd',\n",
              " 'ram 1500 pickup 4wd',\n",
              " 'ram 1500 pickup 4wd',\n",
              " 'expedition 2wd',\n",
              " 'expedition 2wd',\n",
              " 'expedition 2wd',\n",
              " 'explorer 4wd',\n",
              " 'explorer 4wd',\n",
              " 'explorer 4wd',\n",
              " 'explorer 4wd',\n",
              " 'explorer 4wd',\n",
              " 'explorer 4wd',\n",
              " 'f150 pickup 4wd',\n",
              " 'f150 pickup 4wd',\n",
              " 'f150 pickup 4wd',\n",
              " 'f150 pickup 4wd',\n",
              " 'f150 pickup 4wd',\n",
              " 'f150 pickup 4wd',\n",
              " 'f150 pickup 4wd',\n",
              " 'mustang',\n",
              " 'mustang',\n",
              " 'mustang',\n",
              " 'mustang',\n",
              " 'mustang',\n",
              " 'mustang',\n",
              " 'mustang',\n",
              " 'mustang',\n",
              " 'mustang',\n",
              " 'civic',\n",
              " 'civic',\n",
              " 'civic',\n",
              " 'civic',\n",
              " 'civic',\n",
              " 'civic',\n",
              " 'civic',\n",
              " 'civic',\n",
              " 'civic',\n",
              " 'sonata',\n",
              " 'sonata',\n",
              " 'sonata',\n",
              " 'sonata',\n",
              " 'sonata',\n",
              " 'sonata',\n",
              " 'sonata',\n",
              " 'tiburon',\n",
              " 'tiburon',\n",
              " 'tiburon',\n",
              " 'tiburon',\n",
              " 'tiburon',\n",
              " 'tiburon',\n",
              " 'tiburon',\n",
              " 'grand cherokee 4wd',\n",
              " 'grand cherokee 4wd',\n",
              " 'grand cherokee 4wd',\n",
              " 'grand cherokee 4wd',\n",
              " 'grand cherokee 4wd',\n",
              " 'grand cherokee 4wd',\n",
              " 'grand cherokee 4wd',\n",
              " 'grand cherokee 4wd',\n",
              " 'range rover',\n",
              " 'range rover',\n",
              " 'range rover',\n",
              " 'range rover',\n",
              " 'navigator 2wd',\n",
              " 'navigator 2wd',\n",
              " 'navigator 2wd',\n",
              " 'mountaineer 4wd',\n",
              " 'mountaineer 4wd',\n",
              " 'mountaineer 4wd',\n",
              " 'mountaineer 4wd',\n",
              " 'altima',\n",
              " 'altima',\n",
              " 'altima',\n",
              " 'altima',\n",
              " 'altima',\n",
              " 'altima',\n",
              " 'maxima',\n",
              " 'maxima',\n",
              " 'maxima',\n",
              " 'pathfinder 4wd',\n",
              " 'pathfinder 4wd',\n",
              " 'pathfinder 4wd',\n",
              " 'pathfinder 4wd',\n",
              " 'grand prix',\n",
              " 'grand prix',\n",
              " 'grand prix',\n",
              " 'grand prix',\n",
              " 'grand prix',\n",
              " 'forester awd',\n",
              " 'forester awd',\n",
              " 'forester awd',\n",
              " 'forester awd',\n",
              " 'forester awd',\n",
              " 'forester awd',\n",
              " 'impreza awd',\n",
              " 'impreza awd',\n",
              " 'impreza awd',\n",
              " 'impreza awd',\n",
              " 'impreza awd',\n",
              " 'impreza awd',\n",
              " 'impreza awd',\n",
              " 'impreza awd',\n",
              " '4runner 4wd',\n",
              " '4runner 4wd',\n",
              " '4runner 4wd',\n",
              " '4runner 4wd',\n",
              " '4runner 4wd',\n",
              " '4runner 4wd',\n",
              " 'camry',\n",
              " 'camry',\n",
              " 'camry',\n",
              " 'camry',\n",
              " 'camry',\n",
              " 'camry',\n",
              " 'camry',\n",
              " 'camry solara',\n",
              " 'camry solara',\n",
              " 'camry solara',\n",
              " 'camry solara',\n",
              " 'camry solara',\n",
              " 'camry solara',\n",
              " 'camry solara',\n",
              " 'corolla',\n",
              " 'corolla',\n",
              " 'corolla',\n",
              " 'corolla',\n",
              " 'corolla',\n",
              " 'land cruiser wagon 4wd',\n",
              " 'land cruiser wagon 4wd',\n",
              " 'toyota tacoma 4wd',\n",
              " 'toyota tacoma 4wd',\n",
              " 'toyota tacoma 4wd',\n",
              " 'toyota tacoma 4wd',\n",
              " 'toyota tacoma 4wd',\n",
              " 'toyota tacoma 4wd',\n",
              " 'toyota tacoma 4wd',\n",
              " 'gti',\n",
              " 'gti',\n",
              " 'gti',\n",
              " 'gti',\n",
              " 'gti',\n",
              " 'jetta',\n",
              " 'jetta',\n",
              " 'jetta',\n",
              " 'jetta',\n",
              " 'jetta',\n",
              " 'jetta',\n",
              " 'jetta',\n",
              " 'jetta',\n",
              " 'jetta',\n",
              " 'new beetle',\n",
              " 'new beetle',\n",
              " 'new beetle',\n",
              " 'new beetle',\n",
              " 'new beetle',\n",
              " 'new beetle',\n",
              " 'passat',\n",
              " 'passat',\n",
              " 'passat',\n",
              " 'passat',\n",
              " 'passat',\n",
              " 'passat',\n",
              " 'passat']"
            ]
          },
          "execution_count": 30,
          "metadata": {},
          "output_type": "execute_result"
        }
      ],
      "source": [
        "mpg_sp_lt"
      ]
    },
    {
      "cell_type": "code",
      "execution_count": null,
      "metadata": {
        "id": "l_twR3xde_fN",
        "outputId": "def84400-40f8-4985-a420-2e9b803030e7"
      },
      "outputs": [
        {
          "name": "stdout",
          "output_type": "stream",
          "text": [
            "a4\n",
            "a4\n",
            "a4\n",
            "a4\n",
            "a4\n",
            "a4\n",
            "a4\n",
            "a4 quattro\n",
            "a4 quattro\n",
            "a4 quattro\n",
            "a4 quattro\n",
            "a4 quattro\n",
            "a4 quattro\n",
            "a4 quattro\n",
            "a4 quattro\n",
            "a6 quattro\n",
            "a6 quattro\n",
            "a6 quattro\n",
            "c1500 suburban 2wd\n",
            "c1500 suburban 2wd\n",
            "c1500 suburban 2wd\n",
            "c1500 suburban 2wd\n",
            "c1500 suburban 2wd\n",
            "corvette\n",
            "corvette\n",
            "corvette\n",
            "corvette\n",
            "corvette\n",
            "k1500 tahoe 4wd\n",
            "k1500 tahoe 4wd\n",
            "k1500 tahoe 4wd\n",
            "k1500 tahoe 4wd\n",
            "malibu\n",
            "malibu\n",
            "malibu\n",
            "malibu\n",
            "malibu\n",
            "caravan 2wd\n",
            "caravan 2wd\n",
            "caravan 2wd\n",
            "caravan 2wd\n",
            "caravan 2wd\n",
            "caravan 2wd\n",
            "caravan 2wd\n",
            "caravan 2wd\n",
            "caravan 2wd\n",
            "caravan 2wd\n",
            "caravan 2wd\n",
            "dakota pickup 4wd\n",
            "dakota pickup 4wd\n",
            "dakota pickup 4wd\n",
            "dakota pickup 4wd\n",
            "dakota pickup 4wd\n",
            "dakota pickup 4wd\n",
            "dakota pickup 4wd\n",
            "dakota pickup 4wd\n",
            "dakota pickup 4wd\n",
            "durango 4wd\n",
            "durango 4wd\n",
            "durango 4wd\n",
            "durango 4wd\n",
            "durango 4wd\n",
            "durango 4wd\n",
            "durango 4wd\n",
            "ram 1500 pickup 4wd\n",
            "ram 1500 pickup 4wd\n",
            "ram 1500 pickup 4wd\n",
            "ram 1500 pickup 4wd\n",
            "ram 1500 pickup 4wd\n",
            "ram 1500 pickup 4wd\n",
            "ram 1500 pickup 4wd\n",
            "ram 1500 pickup 4wd\n",
            "ram 1500 pickup 4wd\n",
            "ram 1500 pickup 4wd\n",
            "expedition 2wd\n",
            "expedition 2wd\n",
            "expedition 2wd\n",
            "explorer 4wd\n",
            "explorer 4wd\n",
            "explorer 4wd\n",
            "explorer 4wd\n",
            "explorer 4wd\n",
            "explorer 4wd\n",
            "f150 pickup 4wd\n",
            "f150 pickup 4wd\n",
            "f150 pickup 4wd\n",
            "f150 pickup 4wd\n",
            "f150 pickup 4wd\n",
            "f150 pickup 4wd\n",
            "f150 pickup 4wd\n",
            "mustang\n",
            "mustang\n",
            "mustang\n",
            "mustang\n",
            "mustang\n",
            "mustang\n",
            "mustang\n",
            "mustang\n",
            "mustang\n",
            "civic\n",
            "civic\n",
            "civic\n",
            "civic\n",
            "civic\n",
            "civic\n",
            "civic\n",
            "civic\n",
            "civic\n",
            "sonata\n",
            "sonata\n",
            "sonata\n",
            "sonata\n",
            "sonata\n",
            "sonata\n",
            "sonata\n",
            "tiburon\n",
            "tiburon\n",
            "tiburon\n",
            "tiburon\n",
            "tiburon\n",
            "tiburon\n",
            "tiburon\n",
            "grand cherokee 4wd\n",
            "grand cherokee 4wd\n",
            "grand cherokee 4wd\n",
            "grand cherokee 4wd\n",
            "grand cherokee 4wd\n",
            "grand cherokee 4wd\n",
            "grand cherokee 4wd\n",
            "grand cherokee 4wd\n",
            "range rover\n",
            "range rover\n",
            "range rover\n",
            "range rover\n",
            "navigator 2wd\n",
            "navigator 2wd\n",
            "navigator 2wd\n",
            "mountaineer 4wd\n",
            "mountaineer 4wd\n",
            "mountaineer 4wd\n",
            "mountaineer 4wd\n",
            "altima\n",
            "altima\n",
            "altima\n",
            "altima\n",
            "altima\n",
            "altima\n",
            "maxima\n",
            "maxima\n",
            "maxima\n",
            "pathfinder 4wd\n",
            "pathfinder 4wd\n",
            "pathfinder 4wd\n",
            "pathfinder 4wd\n",
            "grand prix\n",
            "grand prix\n",
            "grand prix\n",
            "grand prix\n",
            "grand prix\n",
            "forester awd\n",
            "forester awd\n",
            "forester awd\n",
            "forester awd\n",
            "forester awd\n",
            "forester awd\n",
            "impreza awd\n",
            "impreza awd\n",
            "impreza awd\n",
            "impreza awd\n",
            "impreza awd\n",
            "impreza awd\n",
            "impreza awd\n",
            "impreza awd\n",
            "4runner 4wd\n",
            "4runner 4wd\n",
            "4runner 4wd\n",
            "4runner 4wd\n",
            "4runner 4wd\n",
            "4runner 4wd\n",
            "camry\n",
            "camry\n",
            "camry\n",
            "camry\n",
            "camry\n",
            "camry\n",
            "camry\n",
            "camry solara\n",
            "camry solara\n",
            "camry solara\n",
            "camry solara\n",
            "camry solara\n",
            "camry solara\n",
            "camry solara\n",
            "corolla\n",
            "corolla\n",
            "corolla\n",
            "corolla\n",
            "corolla\n",
            "land cruiser wagon 4wd\n",
            "land cruiser wagon 4wd\n",
            "toyota tacoma 4wd\n",
            "toyota tacoma 4wd\n",
            "toyota tacoma 4wd\n",
            "toyota tacoma 4wd\n",
            "toyota tacoma 4wd\n",
            "toyota tacoma 4wd\n",
            "toyota tacoma 4wd\n",
            "gti\n",
            "gti\n",
            "gti\n",
            "gti\n",
            "gti\n",
            "jetta\n",
            "jetta\n",
            "jetta\n",
            "jetta\n",
            "jetta\n",
            "jetta\n",
            "jetta\n",
            "jetta\n",
            "jetta\n",
            "new beetle\n",
            "new beetle\n",
            "new beetle\n",
            "new beetle\n",
            "new beetle\n",
            "new beetle\n",
            "passat\n",
            "passat\n",
            "passat\n",
            "passat\n",
            "passat\n",
            "passat\n",
            "passat\n"
          ]
        }
      ],
      "source": [
        "for i in mpg_sp_lt:\n",
        "    print(i)"
      ]
    },
    {
      "cell_type": "code",
      "execution_count": null,
      "metadata": {
        "id": "nfGv2R42e_fO",
        "outputId": "92e9b6b3-8024-40b8-9691-511a4093533c"
      },
      "outputs": [
        {
          "data": {
            "text/plain": [
              "Index(['name', 'age'], dtype='object')"
            ]
          },
          "execution_count": 32,
          "metadata": {},
          "output_type": "execute_result"
        }
      ],
      "source": [
        "a.keys() #키값을 가지고 오는 것"
      ]
    },
    {
      "cell_type": "code",
      "execution_count": null,
      "metadata": {
        "id": "A14IcK1We_fO",
        "outputId": "6194303f-b957-4489-f864-308ece321ea7"
      },
      "outputs": [
        {
          "data": {
            "text/plain": [
              "name    홍길동\n",
              "age      15\n",
              "dtype: object"
            ]
          },
          "execution_count": 34,
          "metadata": {},
          "output_type": "execute_result"
        }
      ],
      "source": [
        "a"
      ]
    },
    {
      "cell_type": "code",
      "execution_count": null,
      "metadata": {
        "id": "f67mWpWve_fO",
        "outputId": "45463695-376c-4e49-8714-a1ad5eb64557"
      },
      "outputs": [
        {
          "data": {
            "text/plain": [
              "'age'"
            ]
          },
          "execution_count": 36,
          "metadata": {},
          "output_type": "execute_result"
        }
      ],
      "source": [
        "a.index[1]"
      ]
    },
    {
      "cell_type": "code",
      "execution_count": null,
      "metadata": {
        "id": "QLtM6fhWe_fO",
        "outputId": "442f24be-fac4-49f8-94ed-8e544cd9b8c1"
      },
      "outputs": [
        {
          "data": {
            "text/plain": [
              "16.858974358974358"
            ]
          },
          "execution_count": 40,
          "metadata": {},
          "output_type": "execute_result"
        }
      ],
      "source": [
        "#시리즈의 연산 \n",
        "#시리즈는 다양한 연산이 가능하다. \n",
        "#데이터프레임은 바로 값을 계산하는데 한계가 있는데 시리즈로 하게 되면 자유자재로 array로 계산이 가능하다. 브로드캐스팅도 가능하다.\n",
        "mpg.cty.mean()"
      ]
    },
    {
      "cell_type": "code",
      "execution_count": null,
      "metadata": {
        "id": "0S_xQQwxe_fO",
        "outputId": "989f1fe0-14c1-4dfc-f2ab-4e32cf929ed1"
      },
      "outputs": [
        {
          "data": {
            "text/plain": [
              "35"
            ]
          },
          "execution_count": 41,
          "metadata": {},
          "output_type": "execute_result"
        }
      ],
      "source": [
        "mpg.cty.max()"
      ]
    },
    {
      "cell_type": "code",
      "execution_count": null,
      "metadata": {
        "scrolled": true,
        "id": "-2jQVFIle_fO",
        "outputId": "e0af5448-7be5-4e7b-958e-94f4e16e1d7f"
      },
      "outputs": [
        {
          "data": {
            "text/plain": [
              "33.717948717948715"
            ]
          },
          "execution_count": 43,
          "metadata": {},
          "output_type": "execute_result"
        }
      ],
      "source": [
        "mpg.cty.mean()*2"
      ]
    },
    {
      "cell_type": "code",
      "execution_count": null,
      "metadata": {
        "id": "WTXl4wmFe_fP",
        "outputId": "8dc33441-1bae-488f-9b0f-7807bf0f9719"
      },
      "outputs": [
        {
          "data": {
            "text/plain": [
              "284.2250164365549"
            ]
          },
          "execution_count": 45,
          "metadata": {},
          "output_type": "execute_result"
        }
      ],
      "source": [
        "mpg.cty.mean()*mpg.cty.mean() # 코드 한 줄로 연산이 가능하다"
      ]
    },
    {
      "cell_type": "markdown",
      "metadata": {
        "id": "hY6Sutkoe_fP"
      },
      "source": [
        "## 필수과제1\n",
        "- 해당 시리즈 메서드를 사용하고 주석처리를 통해 원리를 설명해 주세요!\n",
        "- 추가적으로 살펴볼 메서드\n",
        "- append\n",
        "- describe\n",
        "- drop_duplicates\n",
        "- get_values\n",
        "- isin\n",
        "- mean~ 기초통계 다 가능함\n",
        "- equals\n",
        "- sort_values\n",
        "- to_frame\n",
        "\n"
      ]
    },
    {
      "cell_type": "code",
      "execution_count": null,
      "metadata": {
        "id": "GX_Ui6eue_fP",
        "outputId": "6d7f159d-6685-4585-943f-3f7f96d6809f"
      },
      "outputs": [
        {
          "data": {
            "text/plain": [
              "0      36\n",
              "1      42\n",
              "2      40\n",
              "3      42\n",
              "4      32\n",
              "       ..\n",
              "229    38\n",
              "230    42\n",
              "231    32\n",
              "232    36\n",
              "233    34\n",
              "Name: cty, Length: 234, dtype: int64"
            ]
          },
          "execution_count": 48,
          "metadata": {},
          "output_type": "execute_result"
        }
      ],
      "source": [
        "mpg.cty + mpg.cty # 바로바로 계산이 되는 것"
      ]
    },
    {
      "cell_type": "code",
      "execution_count": null,
      "metadata": {
        "id": "dvUNhfPje_fP",
        "outputId": "7213825b-4341-425d-e9c4-a152fefdd2b1"
      },
      "outputs": [
        {
          "data": {
            "text/plain": [
              "233    17\n",
              "232    18\n",
              "231    16\n",
              "230    21\n",
              "229    19\n",
              "       ..\n",
              "4      16\n",
              "3      21\n",
              "2      20\n",
              "1      21\n",
              "0      18\n",
              "Name: cty, Length: 234, dtype: int64"
            ]
          },
          "execution_count": 50,
          "metadata": {},
          "output_type": "execute_result"
        }
      ],
      "source": [
        "mpg.cty.sort_index(ascending=False) # 인덱스 기반 내림차순도 가능하다."
      ]
    },
    {
      "cell_type": "markdown",
      "metadata": {
        "id": "sHlGlB9ze_fP"
      },
      "source": [
        "### 데이터프레임\n",
        "- 불린 추출을 통해서 값을 추출할 수 있다. 참 거짓을 통해서"
      ]
    },
    {
      "cell_type": "code",
      "execution_count": null,
      "metadata": {
        "id": "7joZCuqke_fP",
        "outputId": "f3f69647-0873-41db-d04d-3a8f3ba7f202"
      },
      "outputs": [
        {
          "data": {
            "text/html": [
              "<div>\n",
              "<style scoped>\n",
              "    .dataframe tbody tr th:only-of-type {\n",
              "        vertical-align: middle;\n",
              "    }\n",
              "\n",
              "    .dataframe tbody tr th {\n",
              "        vertical-align: top;\n",
              "    }\n",
              "\n",
              "    .dataframe thead th {\n",
              "        text-align: right;\n",
              "    }\n",
              "</style>\n",
              "<table border=\"1\" class=\"dataframe\">\n",
              "  <thead>\n",
              "    <tr style=\"text-align: right;\">\n",
              "      <th></th>\n",
              "      <th>manufacturer</th>\n",
              "      <th>model</th>\n",
              "      <th>displ</th>\n",
              "      <th>year</th>\n",
              "      <th>cyl</th>\n",
              "      <th>trans</th>\n",
              "      <th>drv</th>\n",
              "      <th>cty</th>\n",
              "      <th>hwy</th>\n",
              "      <th>fl</th>\n",
              "      <th>category</th>\n",
              "    </tr>\n",
              "  </thead>\n",
              "  <tbody>\n",
              "    <tr>\n",
              "      <th>0</th>\n",
              "      <td>audi</td>\n",
              "      <td>a4</td>\n",
              "      <td>1.8</td>\n",
              "      <td>1999</td>\n",
              "      <td>4</td>\n",
              "      <td>auto(l5)</td>\n",
              "      <td>f</td>\n",
              "      <td>18</td>\n",
              "      <td>29</td>\n",
              "      <td>p</td>\n",
              "      <td>compact</td>\n",
              "    </tr>\n",
              "    <tr>\n",
              "      <th>1</th>\n",
              "      <td>audi</td>\n",
              "      <td>a4</td>\n",
              "      <td>1.8</td>\n",
              "      <td>1999</td>\n",
              "      <td>4</td>\n",
              "      <td>manual(m5)</td>\n",
              "      <td>f</td>\n",
              "      <td>21</td>\n",
              "      <td>29</td>\n",
              "      <td>p</td>\n",
              "      <td>compact</td>\n",
              "    </tr>\n",
              "    <tr>\n",
              "      <th>2</th>\n",
              "      <td>audi</td>\n",
              "      <td>a4</td>\n",
              "      <td>2.0</td>\n",
              "      <td>2008</td>\n",
              "      <td>4</td>\n",
              "      <td>manual(m6)</td>\n",
              "      <td>f</td>\n",
              "      <td>20</td>\n",
              "      <td>31</td>\n",
              "      <td>p</td>\n",
              "      <td>compact</td>\n",
              "    </tr>\n",
              "    <tr>\n",
              "      <th>3</th>\n",
              "      <td>audi</td>\n",
              "      <td>a4</td>\n",
              "      <td>2.0</td>\n",
              "      <td>2008</td>\n",
              "      <td>4</td>\n",
              "      <td>auto(av)</td>\n",
              "      <td>f</td>\n",
              "      <td>21</td>\n",
              "      <td>30</td>\n",
              "      <td>p</td>\n",
              "      <td>compact</td>\n",
              "    </tr>\n",
              "    <tr>\n",
              "      <th>5</th>\n",
              "      <td>audi</td>\n",
              "      <td>a4</td>\n",
              "      <td>2.8</td>\n",
              "      <td>1999</td>\n",
              "      <td>6</td>\n",
              "      <td>manual(m5)</td>\n",
              "      <td>f</td>\n",
              "      <td>18</td>\n",
              "      <td>26</td>\n",
              "      <td>p</td>\n",
              "      <td>compact</td>\n",
              "    </tr>\n",
              "    <tr>\n",
              "      <th>...</th>\n",
              "      <td>...</td>\n",
              "      <td>...</td>\n",
              "      <td>...</td>\n",
              "      <td>...</td>\n",
              "      <td>...</td>\n",
              "      <td>...</td>\n",
              "      <td>...</td>\n",
              "      <td>...</td>\n",
              "      <td>...</td>\n",
              "      <td>...</td>\n",
              "      <td>...</td>\n",
              "    </tr>\n",
              "    <tr>\n",
              "      <th>228</th>\n",
              "      <td>volkswagen</td>\n",
              "      <td>passat</td>\n",
              "      <td>1.8</td>\n",
              "      <td>1999</td>\n",
              "      <td>4</td>\n",
              "      <td>auto(l5)</td>\n",
              "      <td>f</td>\n",
              "      <td>18</td>\n",
              "      <td>29</td>\n",
              "      <td>p</td>\n",
              "      <td>midsize</td>\n",
              "    </tr>\n",
              "    <tr>\n",
              "      <th>229</th>\n",
              "      <td>volkswagen</td>\n",
              "      <td>passat</td>\n",
              "      <td>2.0</td>\n",
              "      <td>2008</td>\n",
              "      <td>4</td>\n",
              "      <td>auto(s6)</td>\n",
              "      <td>f</td>\n",
              "      <td>19</td>\n",
              "      <td>28</td>\n",
              "      <td>p</td>\n",
              "      <td>midsize</td>\n",
              "    </tr>\n",
              "    <tr>\n",
              "      <th>230</th>\n",
              "      <td>volkswagen</td>\n",
              "      <td>passat</td>\n",
              "      <td>2.0</td>\n",
              "      <td>2008</td>\n",
              "      <td>4</td>\n",
              "      <td>manual(m6)</td>\n",
              "      <td>f</td>\n",
              "      <td>21</td>\n",
              "      <td>29</td>\n",
              "      <td>p</td>\n",
              "      <td>midsize</td>\n",
              "    </tr>\n",
              "    <tr>\n",
              "      <th>232</th>\n",
              "      <td>volkswagen</td>\n",
              "      <td>passat</td>\n",
              "      <td>2.8</td>\n",
              "      <td>1999</td>\n",
              "      <td>6</td>\n",
              "      <td>manual(m5)</td>\n",
              "      <td>f</td>\n",
              "      <td>18</td>\n",
              "      <td>26</td>\n",
              "      <td>p</td>\n",
              "      <td>midsize</td>\n",
              "    </tr>\n",
              "    <tr>\n",
              "      <th>233</th>\n",
              "      <td>volkswagen</td>\n",
              "      <td>passat</td>\n",
              "      <td>3.6</td>\n",
              "      <td>2008</td>\n",
              "      <td>6</td>\n",
              "      <td>auto(s6)</td>\n",
              "      <td>f</td>\n",
              "      <td>17</td>\n",
              "      <td>26</td>\n",
              "      <td>p</td>\n",
              "      <td>midsize</td>\n",
              "    </tr>\n",
              "  </tbody>\n",
              "</table>\n",
              "<p>118 rows × 11 columns</p>\n",
              "</div>"
            ],
            "text/plain": [
              "    manufacturer   model  displ  year  cyl       trans drv  cty  hwy fl  \\\n",
              "0           audi      a4    1.8  1999    4    auto(l5)   f   18   29  p   \n",
              "1           audi      a4    1.8  1999    4  manual(m5)   f   21   29  p   \n",
              "2           audi      a4    2.0  2008    4  manual(m6)   f   20   31  p   \n",
              "3           audi      a4    2.0  2008    4    auto(av)   f   21   30  p   \n",
              "5           audi      a4    2.8  1999    6  manual(m5)   f   18   26  p   \n",
              "..           ...     ...    ...   ...  ...         ...  ..  ...  ... ..   \n",
              "228   volkswagen  passat    1.8  1999    4    auto(l5)   f   18   29  p   \n",
              "229   volkswagen  passat    2.0  2008    4    auto(s6)   f   19   28  p   \n",
              "230   volkswagen  passat    2.0  2008    4  manual(m6)   f   21   29  p   \n",
              "232   volkswagen  passat    2.8  1999    6  manual(m5)   f   18   26  p   \n",
              "233   volkswagen  passat    3.6  2008    6    auto(s6)   f   17   26  p   \n",
              "\n",
              "    category  \n",
              "0    compact  \n",
              "1    compact  \n",
              "2    compact  \n",
              "3    compact  \n",
              "5    compact  \n",
              "..       ...  \n",
              "228  midsize  \n",
              "229  midsize  \n",
              "230  midsize  \n",
              "232  midsize  \n",
              "233  midsize  \n",
              "\n",
              "[118 rows x 11 columns]"
            ]
          },
          "execution_count": 51,
          "metadata": {},
          "output_type": "execute_result"
        }
      ],
      "source": [
        "mpg[mpg['cty']> mpg['cty'].mean()] # 참이되는 값만 추출하는 것도 가능하다"
      ]
    },
    {
      "cell_type": "code",
      "execution_count": null,
      "metadata": {
        "id": "sNH65swFe_fQ",
        "outputId": "b4f2414c-50c2-498b-cfc8-c620b1488a47"
      },
      "outputs": [
        {
          "data": {
            "text/html": [
              "<div>\n",
              "<style scoped>\n",
              "    .dataframe tbody tr th:only-of-type {\n",
              "        vertical-align: middle;\n",
              "    }\n",
              "\n",
              "    .dataframe tbody tr th {\n",
              "        vertical-align: top;\n",
              "    }\n",
              "\n",
              "    .dataframe thead th {\n",
              "        text-align: right;\n",
              "    }\n",
              "</style>\n",
              "<table border=\"1\" class=\"dataframe\">\n",
              "  <thead>\n",
              "    <tr style=\"text-align: right;\">\n",
              "      <th></th>\n",
              "      <th>manufacturer</th>\n",
              "      <th>model</th>\n",
              "      <th>displ</th>\n",
              "      <th>year</th>\n",
              "      <th>cyl</th>\n",
              "      <th>trans</th>\n",
              "      <th>drv</th>\n",
              "      <th>cty</th>\n",
              "      <th>hwy</th>\n",
              "      <th>fl</th>\n",
              "      <th>category</th>\n",
              "    </tr>\n",
              "  </thead>\n",
              "  <tbody>\n",
              "  </tbody>\n",
              "</table>\n",
              "</div>"
            ],
            "text/plain": [
              "Empty DataFrame\n",
              "Columns: [manufacturer, model, displ, year, cyl, trans, drv, cty, hwy, fl, category]\n",
              "Index: []"
            ]
          },
          "execution_count": 52,
          "metadata": {},
          "output_type": "execute_result"
        }
      ],
      "source": [
        "mpg[mpg['cty']> (mpg['cty']+mpg['hwy'])/2] # 참이되는 값만 추출하는 것도 가능하다"
      ]
    },
    {
      "cell_type": "code",
      "execution_count": null,
      "metadata": {
        "id": "vVkbvsUie_fQ",
        "outputId": "0c26b97d-4b5d-4fea-bdee-ca57b9871ec0"
      },
      "outputs": [
        {
          "data": {
            "text/plain": [
              "dtype('int64')"
            ]
          },
          "execution_count": 53,
          "metadata": {},
          "output_type": "execute_result"
        }
      ],
      "source": [
        "mpg.cty.dtype #데이터 타입도 확인 가능하다."
      ]
    },
    {
      "cell_type": "code",
      "execution_count": null,
      "metadata": {
        "id": "gnTiI-Hfe_fQ",
        "outputId": "e170b63a-5ade-423f-fc5c-debeb63cd210"
      },
      "outputs": [
        {
          "data": {
            "text/plain": [
              "dtype('O')"
            ]
          },
          "execution_count": 54,
          "metadata": {},
          "output_type": "execute_result"
        }
      ],
      "source": [
        "mpg.manufacturer.dtype"
      ]
    },
    {
      "cell_type": "code",
      "execution_count": null,
      "metadata": {
        "id": "_57FC0a7e_fQ",
        "outputId": "f8a8d9f2-2444-40fa-8b8d-f09a024d11ec"
      },
      "outputs": [
        {
          "data": {
            "text/plain": [
              "dtype('O')"
            ]
          },
          "execution_count": 55,
          "metadata": {},
          "output_type": "execute_result"
        }
      ],
      "source": [
        "mpg['manufacturer'].dtype"
      ]
    },
    {
      "cell_type": "markdown",
      "metadata": {
        "id": "-ZEcGSrCe_fQ"
      },
      "source": [
        "- 컬럼만 추출하고 싶은 경우 "
      ]
    },
    {
      "cell_type": "code",
      "execution_count": null,
      "metadata": {
        "id": "hDTQ8Zaie_fQ",
        "outputId": "ac7083e1-4bf9-4f3e-aaf7-6d42f6958335"
      },
      "outputs": [
        {
          "data": {
            "text/plain": [
              "Index(['manufacturer', 'model', 'displ', 'year', 'cyl', 'trans', 'drv', 'cty',\n",
              "       'hwy', 'fl', 'category'],\n",
              "      dtype='object')"
            ]
          },
          "execution_count": 57,
          "metadata": {},
          "output_type": "execute_result"
        }
      ],
      "source": [
        "mpg.columns #컬럼만 추출 할 수 있다."
      ]
    },
    {
      "cell_type": "code",
      "execution_count": null,
      "metadata": {
        "id": "APCNrwvwe_fQ"
      },
      "outputs": [],
      "source": [
        "a =list(mpg.columns) #컬럼만 추출 할 수 있다."
      ]
    },
    {
      "cell_type": "code",
      "execution_count": null,
      "metadata": {
        "id": "ALNVyQYle_fR",
        "outputId": "c5546a0f-9ee6-48db-baa7-87ed48871faf"
      },
      "outputs": [
        {
          "name": "stdout",
          "output_type": "stream",
          "text": [
            "0            audi\n",
            "1            audi\n",
            "2            audi\n",
            "3            audi\n",
            "4            audi\n",
            "          ...    \n",
            "229    volkswagen\n",
            "230    volkswagen\n",
            "231    volkswagen\n",
            "232    volkswagen\n",
            "233    volkswagen\n",
            "Name: manufacturer, Length: 234, dtype: object\n",
            "0          a4\n",
            "1          a4\n",
            "2          a4\n",
            "3          a4\n",
            "4          a4\n",
            "        ...  \n",
            "229    passat\n",
            "230    passat\n",
            "231    passat\n",
            "232    passat\n",
            "233    passat\n",
            "Name: model, Length: 234, dtype: object\n",
            "0      1.8\n",
            "1      1.8\n",
            "2      2.0\n",
            "3      2.0\n",
            "4      2.8\n",
            "      ... \n",
            "229    2.0\n",
            "230    2.0\n",
            "231    2.8\n",
            "232    2.8\n",
            "233    3.6\n",
            "Name: displ, Length: 234, dtype: float64\n",
            "0      1999\n",
            "1      1999\n",
            "2      2008\n",
            "3      2008\n",
            "4      1999\n",
            "       ... \n",
            "229    2008\n",
            "230    2008\n",
            "231    1999\n",
            "232    1999\n",
            "233    2008\n",
            "Name: year, Length: 234, dtype: int64\n",
            "0      4\n",
            "1      4\n",
            "2      4\n",
            "3      4\n",
            "4      6\n",
            "      ..\n",
            "229    4\n",
            "230    4\n",
            "231    6\n",
            "232    6\n",
            "233    6\n",
            "Name: cyl, Length: 234, dtype: int64\n",
            "0        auto(l5)\n",
            "1      manual(m5)\n",
            "2      manual(m6)\n",
            "3        auto(av)\n",
            "4        auto(l5)\n",
            "          ...    \n",
            "229      auto(s6)\n",
            "230    manual(m6)\n",
            "231      auto(l5)\n",
            "232    manual(m5)\n",
            "233      auto(s6)\n",
            "Name: trans, Length: 234, dtype: object\n",
            "0      f\n",
            "1      f\n",
            "2      f\n",
            "3      f\n",
            "4      f\n",
            "      ..\n",
            "229    f\n",
            "230    f\n",
            "231    f\n",
            "232    f\n",
            "233    f\n",
            "Name: drv, Length: 234, dtype: object\n",
            "0      18\n",
            "1      21\n",
            "2      20\n",
            "3      21\n",
            "4      16\n",
            "       ..\n",
            "229    19\n",
            "230    21\n",
            "231    16\n",
            "232    18\n",
            "233    17\n",
            "Name: cty, Length: 234, dtype: int64\n",
            "0      29\n",
            "1      29\n",
            "2      31\n",
            "3      30\n",
            "4      26\n",
            "       ..\n",
            "229    28\n",
            "230    29\n",
            "231    26\n",
            "232    26\n",
            "233    26\n",
            "Name: hwy, Length: 234, dtype: int64\n",
            "0      p\n",
            "1      p\n",
            "2      p\n",
            "3      p\n",
            "4      p\n",
            "      ..\n",
            "229    p\n",
            "230    p\n",
            "231    p\n",
            "232    p\n",
            "233    p\n",
            "Name: fl, Length: 234, dtype: object\n",
            "0      compact\n",
            "1      compact\n",
            "2      compact\n",
            "3      compact\n",
            "4      compact\n",
            "        ...   \n",
            "229    midsize\n",
            "230    midsize\n",
            "231    midsize\n",
            "232    midsize\n",
            "233    midsize\n",
            "Name: category, Length: 234, dtype: object\n"
          ]
        }
      ],
      "source": [
        "for i in a:\n",
        "    print(mpg[i])"
      ]
    },
    {
      "cell_type": "markdown",
      "metadata": {
        "id": "oFwKQQxfe_fR"
      },
      "source": [
        "## 시각화 진행하기 "
      ]
    },
    {
      "cell_type": "markdown",
      "metadata": {
        "id": "OPSMB-aJe_fR"
      },
      "source": [
        "- 시각화를 하는 이유? \n",
        "- 왜 시각화를 할까요?\n",
        "- 데이터 시각화 EDA 왜 하는 것일까요?\n",
        "\n",
        "- 시각화를 하는 이유는 패턴을 찾고, 경향을 보고, 분석의 시작, 설명하기 위해서고\n",
        "- 이 모든 시각화를 하는 이유는 나의 주장을 더 단단하게 만들기 위한 것\n",
        "- 데이터 분석가가 분석을 하고 그 분석에 대한 근거를 제시하기 위해서 데이터 분석을 잘 모르는 사람들에게 시각화를 통해서 더욱 쉽고 빠르게 이해 시키는 것\n",
        "- 데이터 분석을 모르는 사람에게 시각화를 통해서 알려주는 것  ( 현업에서는 중요한 포인트 )\n",
        "- 3차원에 정말 멋있는 시각화들 사실 그걸 통해서 무엇을 알 수 있는지 명확해야 한다.\n",
        "\n",
        "- 시각화를 할 때 데이터 타입에 따라 다르게 표현한다.\n",
        "- 산점도, 히스토그램, 막대그래프, 박스플랏 \n",
        "- 해당 그래프에 값은 어떤 값을 넣어야 하나요?\n",
        "- object ,int, float랑 다 다릅니다.\n",
        "- 데이터 타입을 보고 어떤 그래프를 그릴지 정해야 한다."
      ]
    },
    {
      "cell_type": "markdown",
      "metadata": {
        "id": "kCDoKjKje_fR"
      },
      "source": [
        "### 시각화에 필요한 라이브러리 \n",
        "matplotlib\n",
        "seaborn \n",
        "\n",
        "가장 대표적으로 많이 사용하고 모든 인자를 다 외울 수 없어서 구글링해서 필요한 것들을 넣으면 된다."
      ]
    },
    {
      "cell_type": "code",
      "execution_count": null,
      "metadata": {
        "id": "PV2ZZMIWe_fR"
      },
      "outputs": [],
      "source": [
        "from matplotlib import pyplot as plt"
      ]
    },
    {
      "cell_type": "code",
      "execution_count": null,
      "metadata": {
        "id": "jIu7SxJIe_fS"
      },
      "outputs": [],
      "source": [
        "import matplotlib.pyplot as plt \n",
        "%matplotlib inline #매직커맨드 show함수 사용하지 않아도 바로 그래프가 나오는 것"
      ]
    },
    {
      "cell_type": "code",
      "execution_count": null,
      "metadata": {
        "id": "xX0RFPWie_fS",
        "outputId": "8ab202d0-fa0f-4576-fb69-fcc46f7e5178"
      },
      "outputs": [
        {
          "data": {
            "image/png": "[encoded data removed]",
            "text/plain": [
              "<Figure size 432x288 with 1 Axes>"
            ]
          },
          "metadata": {
            "needs_background": "light"
          },
          "output_type": "display_data"
        }
      ],
      "source": [
        "#산점도를 그려보자\n",
        "plt.scatter([1,2,3],[4,5,6])\n",
        "plt.show()"
      ]
    },
    {
      "cell_type": "code",
      "execution_count": null,
      "metadata": {
        "id": "AjVNw8MAe_fS",
        "outputId": "ef9b9aad-257d-4e91-bd97-d9544a75ab60"
      },
      "outputs": [
        {
          "data": {
            "image/png": "[encoded data removed]",
            "text/plain": [
              "<Figure size 432x288 with 1 Axes>"
            ]
          },
          "metadata": {
            "needs_background": "light"
          },
          "output_type": "display_data"
        }
      ],
      "source": [
        "#두 개를 그리면 자동으로 합쳐진다.\n",
        "plt.scatter([1,2,3],[4,5,6])\n",
        "plt.scatter([5,6,7],[10,5,6])\n",
        "plt.scatter([2,4,8],[1,2,5])\n",
        "\n",
        "plt.show()"
      ]
    },
    {
      "cell_type": "markdown",
      "metadata": {
        "id": "GSeWILw7e_fS"
      },
      "source": [
        "### 그래프의 축과 이름을 설정해 보기!"
      ]
    },
    {
      "cell_type": "code",
      "execution_count": null,
      "metadata": {
        "id": "bPcbzihle_fS",
        "outputId": "7ab71486-1e96-4c60-a352-7e21fec72f25"
      },
      "outputs": [
        {
          "data": {
            "text/plain": [
              "Text(0, 0.5, 'mpg.cty')"
            ]
          },
          "execution_count": 71,
          "metadata": {},
          "output_type": "execute_result"
        },
        {
          "data": {
            "image/png": "[encoded data removed]",
            "text/plain": [
              "<Figure size 432x288 with 1 Axes>"
            ]
          },
          "metadata": {
            "needs_background": "light"
          },
          "output_type": "display_data"
        }
      ],
      "source": [
        "plt.scatter([1,2,3],[4,5,6])\n",
        "plt.title('mpg.cty') #제목\n",
        "plt.xlabel('mpg.hwy') # x축에 대한 설명\n",
        "plt.ylabel('mpg.cty') # y축에 대한 설명 "
      ]
    },
    {
      "cell_type": "code",
      "execution_count": null,
      "metadata": {
        "id": "ghfU_pH9e_fS",
        "outputId": "a530cbc0-23f9-462d-f2e7-99e9f2946702"
      },
      "outputs": [
        {
          "data": {
            "text/plain": [
              "Text(0, 0.5, 'mpg.cty')"
            ]
          },
          "execution_count": 73,
          "metadata": {},
          "output_type": "execute_result"
        },
        {
          "data": {
            "image/png": "[encoded data removed]",
            "text/plain": [
              "<Figure size 432x288 with 1 Axes>"
            ]
          },
          "metadata": {
            "needs_background": "light"
          },
          "output_type": "display_data"
        }
      ],
      "source": [
        "plt.scatter([1,2,3],[4,5,6])\n",
        "plt.title('mpg') #제목\n",
        "plt.xlabel('mpg.hwy') # x축에 대한 설명\n",
        "plt.ylabel('mpg.cty') # y축에 대한 설명 "
      ]
    },
    {
      "cell_type": "markdown",
      "metadata": {
        "id": "GUfDu1pze_fT"
      },
      "source": [
        "### 축의 범위 설정\n",
        "- xlim, ylim을 이용해서 축 범위를 설정할 수 있다."
      ]
    },
    {
      "cell_type": "code",
      "execution_count": null,
      "metadata": {
        "id": "H4dUiPgQe_fT",
        "outputId": "302aa675-4f5c-47c8-e772-88e2ddc90366"
      },
      "outputs": [
        {
          "data": {
            "text/plain": [
              "(30, 50)"
            ]
          },
          "execution_count": 77,
          "metadata": {},
          "output_type": "execute_result"
        },
        {
          "data": {
            "image/png": "[encoded data removed]",
            "text/plain": [
              "<Figure size 432x288 with 1 Axes>"
            ]
          },
          "metadata": {
            "needs_background": "light"
          },
          "output_type": "display_data"
        }
      ],
      "source": [
        "plt.scatter([1,2,3],[4,5,6])\n",
        "plt.xlim(0,200)\n",
        "plt.ylim(30,50)\n",
        "#축도 조정이 가능하다."
      ]
    },
    {
      "cell_type": "markdown",
      "metadata": {
        "id": "Z_7tdwADe_fT"
      },
      "source": [
        "- 축에 대한 아래 눈금값도 조절이 가능하다!\n",
        "### 눈금값 및 범례 조절\n",
        "- xticks , yticks"
      ]
    },
    {
      "cell_type": "code",
      "execution_count": null,
      "metadata": {
        "id": "RBOz1rPVe_fT",
        "outputId": "85c99fa4-b8fc-470b-aa10-325d0af7165d"
      },
      "outputs": [
        {
          "data": {
            "text/plain": [
              "([<matplotlib.axis.XTick at 0x7ff271149790>,\n",
              "  <matplotlib.axis.XTick at 0x7ff27113b790>,\n",
              "  <matplotlib.axis.XTick at 0x7ff2711023d0>],\n",
              " <a list of 3 Text xticklabel objects>)"
            ]
          },
          "execution_count": 78,
          "metadata": {},
          "output_type": "execute_result"
        },
        {
          "data": {
            "image/png": "[encoded data removed]",
            "text/plain": [
              "<Figure size 432x288 with 1 Axes>"
            ]
          },
          "metadata": {
            "needs_background": "light"
          },
          "output_type": "display_data"
        }
      ],
      "source": [
        "plt.scatter([1,2,3],[4,5,6])\n",
        "plt.xticks([1,2,3],['A','B','C'])"
      ]
    },
    {
      "cell_type": "markdown",
      "metadata": {
        "id": "gw5VD9HZe_fT"
      },
      "source": [
        "### 범례 \n",
        "- legend 함수를 이용해서 \n",
        "- label 범례를 출력한다."
      ]
    },
    {
      "cell_type": "code",
      "execution_count": null,
      "metadata": {
        "id": "8cllL5Xge_fT",
        "outputId": "4bbf3841-2d94-4a14-c627-d9626d42f4cf"
      },
      "outputs": [
        {
          "data": {
            "text/plain": [
              "<matplotlib.legend.Legend at 0x7ff2707dda50>"
            ]
          },
          "execution_count": 80,
          "metadata": {},
          "output_type": "execute_result"
        },
        {
          "data": {
            "image/png": "[encoded data removed]",
            "text/plain": [
              "<Figure size 432x288 with 1 Axes>"
            ]
          },
          "metadata": {
            "needs_background": "light"
          },
          "output_type": "display_data"
        }
      ],
      "source": [
        "plt.scatter([1,2,3],[4,5,6],label='mpg.cty')\n",
        "plt.scatter([6,7,8],[3,2,5],label='mpg.hwy')\n",
        "plt.legend()"
      ]
    },
    {
      "cell_type": "code",
      "execution_count": null,
      "metadata": {
        "id": "2PiSEPbte_fT",
        "outputId": "9cf7bfcd-dbbe-407a-b724-9ccbdcdb2e4f"
      },
      "outputs": [
        {
          "data": {
            "text/plain": [
              "<matplotlib.legend.Legend at 0x7ff2705eb5d0>"
            ]
          },
          "execution_count": 81,
          "metadata": {},
          "output_type": "execute_result"
        },
        {
          "data": {
            "image/png": "[encoded data removed]",
            "text/plain": [
              "<Figure size 432x288 with 1 Axes>"
            ]
          },
          "metadata": {
            "needs_background": "light"
          },
          "output_type": "display_data"
        }
      ],
      "source": [
        "plt.scatter([1,2,3],[4,5,6],label='mpg.cty')\n",
        "plt.scatter([6,7,8],[3,2,5],label='mpg.hwy')\n",
        "plt.legend(loc='center')"
      ]
    },
    {
      "cell_type": "markdown",
      "metadata": {
        "id": "AG-Ms-8Ue_fU"
      },
      "source": [
        "### 필수과제 2\n",
        "- 범례 값 만들어서 비교해 보기!\n",
        "- left\n",
        "- center\n",
        "- right\n",
        "- upper left , right, center\n",
        "- lower left, right, center\n"
      ]
    },
    {
      "cell_type": "markdown",
      "metadata": {
        "id": "mkV4X22oe_fU"
      },
      "source": [
        "### 그래프 크기 조절\n",
        "- 크기를 조절하려면 도화지 사이즈를 만들 수 있다. \n",
        "- figure 함수의 figsize 도화지의 크기를 만들어 준다. x,y 10, 5 x 10 y 5"
      ]
    },
    {
      "cell_type": "code",
      "execution_count": null,
      "metadata": {
        "id": "PrEkXsA6e_fU",
        "outputId": "483b00c9-dfea-4f00-debc-1bfa379d8d1a"
      },
      "outputs": [
        {
          "data": {
            "text/plain": [
              "<matplotlib.collections.PathCollection at 0x7ff270ca92d0>"
            ]
          },
          "execution_count": 87,
          "metadata": {},
          "output_type": "execute_result"
        },
        {
          "data": {
            "image/png": "[encoded data removed]",
            "text/plain": [
              "<Figure size 720x360 with 1 Axes>"
            ]
          },
          "metadata": {
            "needs_background": "light"
          },
          "output_type": "display_data"
        }
      ],
      "source": [
        "plt.figure(figsize=(10,5))\n",
        "plt.scatter([1,2,3],[4,5,6],label='mpg.cty')"
      ]
    },
    {
      "cell_type": "code",
      "execution_count": null,
      "metadata": {
        "id": "ROoO4to-e_fU",
        "outputId": "bc4fb09d-d4e9-43c6-a653-19f2fa99ff86"
      },
      "outputs": [
        {
          "data": {
            "text/plain": [
              "<matplotlib.collections.PathCollection at 0x7ff270d5d190>"
            ]
          },
          "execution_count": 84,
          "metadata": {},
          "output_type": "execute_result"
        },
        {
          "data": {
            "image/png": "[encoded data removed]",
            "text/plain": [
              "<Figure size 432x288 with 1 Axes>"
            ]
          },
          "metadata": {
            "needs_background": "light"
          },
          "output_type": "display_data"
        }
      ],
      "source": [
        "plt.scatter([1,2,3],[4,5,6],label='mpg.cty')"
      ]
    },
    {
      "cell_type": "code",
      "execution_count": null,
      "metadata": {
        "id": "NUSlcaJse_fU"
      },
      "outputs": [],
      "source": [
        "import seaborn as sns"
      ]
    },
    {
      "cell_type": "code",
      "execution_count": null,
      "metadata": {
        "id": "exWCywZhe_fU",
        "outputId": "4b93d0bc-da89-4086-aecb-dfadcbc3ad89"
      },
      "outputs": [
        {
          "data": {
            "text/plain": [
              "<matplotlib.collections.PathCollection at 0x7ff2721db310>"
            ]
          },
          "execution_count": 90,
          "metadata": {},
          "output_type": "execute_result"
        },
        {
          "data": {
            "image/png": "[encoded data removed]",
            "text/plain": [
              "<Figure size 432x288 with 1 Axes>"
            ]
          },
          "metadata": {},
          "output_type": "display_data"
        }
      ],
      "source": [
        "sns.set() #기본값이 grid\n",
        "plt.scatter([1,2,3],[4,5,6]) #그래프가 바뀌어진다."
      ]
    },
    {
      "cell_type": "code",
      "execution_count": null,
      "metadata": {
        "id": "P3VMvzgae_fU",
        "outputId": "053d9041-780a-4d10-ec68-748e71cc75d3"
      },
      "outputs": [
        {
          "data": {
            "text/plain": [
              "<matplotlib.collections.PathCollection at 0x7ff2721db1d0>"
            ]
          },
          "execution_count": 91,
          "metadata": {},
          "output_type": "execute_result"
        },
        {
          "data": {
            "image/png": "[encoded data removed]",
            "text/plain": [
              "<Figure size 432x288 with 1 Axes>"
            ]
          },
          "metadata": {},
          "output_type": "display_data"
        }
      ],
      "source": [
        "sns.set(style = 'whitegrid') #기본값이 grid\n",
        "plt.scatter([1,2,3],[4,5,6]) #그래프가 바뀌어진다."
      ]
    },
    {
      "cell_type": "code",
      "execution_count": null,
      "metadata": {
        "id": "Jos8mKI4e_fV",
        "outputId": "aa299486-e450-46f4-846d-f5247798278a"
      },
      "outputs": [
        {
          "data": {
            "text/plain": [
              "<matplotlib.collections.PathCollection at 0x7ff272211450>"
            ]
          },
          "execution_count": 93,
          "metadata": {},
          "output_type": "execute_result"
        },
        {
          "data": {
            "image/png": "[encoded data removed]",
            "text/plain": [
              "<Figure size 432x288 with 1 Axes>"
            ]
          },
          "metadata": {},
          "output_type": "display_data"
        }
      ],
      "source": [
        "sns.set(style = 'dark') #기본값이 grid\n",
        "plt.scatter([1,2,3],[4,5,6]) #그래프가 바뀌어진다."
      ]
    },
    {
      "cell_type": "code",
      "execution_count": null,
      "metadata": {
        "id": "6OyJFsyqe_fV",
        "outputId": "6c327b24-d96d-4e11-b099-59d20dd13aea"
      },
      "outputs": [
        {
          "ename": "ValueError",
          "evalue": "style must be one of white, dark, whitegrid, darkgrid, ticks",
          "output_type": "error",
          "traceback": [
            "\u001b[0;31m---------------------------------------------------------------------------\u001b[0m",
            "\u001b[0;31mValueError\u001b[0m                                Traceback (most recent call last)",
            "\u001b[0;32m<ipython-input-95-112ac6541dc9>\u001b[0m in \u001b[0;36m<module>\u001b[0;34m\u001b[0m\n\u001b[0;32m----> 1\u001b[0;31m \u001b[0msns\u001b[0m\u001b[0;34m.\u001b[0m\u001b[0mset\u001b[0m\u001b[0;34m(\u001b[0m\u001b[0mstyle\u001b[0m \u001b[0;34m=\u001b[0m \u001b[0;34m'a'\u001b[0m\u001b[0;34m)\u001b[0m \u001b[0;31m#기본값이 grid\u001b[0m\u001b[0;34m\u001b[0m\u001b[0;34m\u001b[0m\u001b[0m\n\u001b[0m\u001b[1;32m      2\u001b[0m \u001b[0mplt\u001b[0m\u001b[0;34m.\u001b[0m\u001b[0mscatter\u001b[0m\u001b[0;34m(\u001b[0m\u001b[0;34m[\u001b[0m\u001b[0;36m1\u001b[0m\u001b[0;34m,\u001b[0m\u001b[0;36m2\u001b[0m\u001b[0;34m,\u001b[0m\u001b[0;36m3\u001b[0m\u001b[0;34m]\u001b[0m\u001b[0;34m,\u001b[0m\u001b[0;34m[\u001b[0m\u001b[0;36m4\u001b[0m\u001b[0;34m,\u001b[0m\u001b[0;36m5\u001b[0m\u001b[0;34m,\u001b[0m\u001b[0;36m6\u001b[0m\u001b[0;34m]\u001b[0m\u001b[0;34m)\u001b[0m \u001b[0;31m#그래프가 바뀌어진다.\u001b[0m\u001b[0;34m\u001b[0m\u001b[0;34m\u001b[0m\u001b[0m\n",
            "\u001b[0;32m/opt/anaconda3/lib/python3.7/site-packages/seaborn/rcmod.py\u001b[0m in \u001b[0;36mset\u001b[0;34m(context, style, palette, font, font_scale, color_codes, rc)\u001b[0m\n\u001b[1;32m    119\u001b[0m     \"\"\"\n\u001b[1;32m    120\u001b[0m     \u001b[0mset_context\u001b[0m\u001b[0;34m(\u001b[0m\u001b[0mcontext\u001b[0m\u001b[0;34m,\u001b[0m \u001b[0mfont_scale\u001b[0m\u001b[0;34m)\u001b[0m\u001b[0;34m\u001b[0m\u001b[0;34m\u001b[0m\u001b[0m\n\u001b[0;32m--> 121\u001b[0;31m     \u001b[0mset_style\u001b[0m\u001b[0;34m(\u001b[0m\u001b[0mstyle\u001b[0m\u001b[0;34m,\u001b[0m \u001b[0mrc\u001b[0m\u001b[0;34m=\u001b[0m\u001b[0;34m{\u001b[0m\u001b[0;34m\"font.family\"\u001b[0m\u001b[0;34m:\u001b[0m \u001b[0mfont\u001b[0m\u001b[0;34m}\u001b[0m\u001b[0;34m)\u001b[0m\u001b[0;34m\u001b[0m\u001b[0;34m\u001b[0m\u001b[0m\n\u001b[0m\u001b[1;32m    122\u001b[0m     \u001b[0mset_palette\u001b[0m\u001b[0;34m(\u001b[0m\u001b[0mpalette\u001b[0m\u001b[0;34m,\u001b[0m \u001b[0mcolor_codes\u001b[0m\u001b[0;34m=\u001b[0m\u001b[0mcolor_codes\u001b[0m\u001b[0;34m)\u001b[0m\u001b[0;34m\u001b[0m\u001b[0;34m\u001b[0m\u001b[0m\n\u001b[1;32m    123\u001b[0m     \u001b[0;32mif\u001b[0m \u001b[0mrc\u001b[0m \u001b[0;32mis\u001b[0m \u001b[0;32mnot\u001b[0m \u001b[0;32mNone\u001b[0m\u001b[0;34m:\u001b[0m\u001b[0;34m\u001b[0m\u001b[0;34m\u001b[0m\u001b[0m\n",
            "\u001b[0;32m/opt/anaconda3/lib/python3.7/site-packages/seaborn/rcmod.py\u001b[0m in \u001b[0;36mset_style\u001b[0;34m(style, rc)\u001b[0m\n\u001b[1;32m    329\u001b[0m \u001b[0;34m\u001b[0m\u001b[0m\n\u001b[1;32m    330\u001b[0m     \"\"\"\n\u001b[0;32m--> 331\u001b[0;31m     \u001b[0mstyle_object\u001b[0m \u001b[0;34m=\u001b[0m \u001b[0maxes_style\u001b[0m\u001b[0;34m(\u001b[0m\u001b[0mstyle\u001b[0m\u001b[0;34m,\u001b[0m \u001b[0mrc\u001b[0m\u001b[0;34m)\u001b[0m\u001b[0;34m\u001b[0m\u001b[0;34m\u001b[0m\u001b[0m\n\u001b[0m\u001b[1;32m    332\u001b[0m     \u001b[0mmpl\u001b[0m\u001b[0;34m.\u001b[0m\u001b[0mrcParams\u001b[0m\u001b[0;34m.\u001b[0m\u001b[0mupdate\u001b[0m\u001b[0;34m(\u001b[0m\u001b[0mstyle_object\u001b[0m\u001b[0;34m)\u001b[0m\u001b[0;34m\u001b[0m\u001b[0;34m\u001b[0m\u001b[0m\n\u001b[1;32m    333\u001b[0m \u001b[0;34m\u001b[0m\u001b[0m\n",
            "\u001b[0;32m/opt/anaconda3/lib/python3.7/site-packages/seaborn/rcmod.py\u001b[0m in \u001b[0;36maxes_style\u001b[0;34m(style, rc)\u001b[0m\n\u001b[1;32m    182\u001b[0m         \u001b[0mstyles\u001b[0m \u001b[0;34m=\u001b[0m \u001b[0;34m[\u001b[0m\u001b[0;34m\"white\"\u001b[0m\u001b[0;34m,\u001b[0m \u001b[0;34m\"dark\"\u001b[0m\u001b[0;34m,\u001b[0m \u001b[0;34m\"whitegrid\"\u001b[0m\u001b[0;34m,\u001b[0m \u001b[0;34m\"darkgrid\"\u001b[0m\u001b[0;34m,\u001b[0m \u001b[0;34m\"ticks\"\u001b[0m\u001b[0;34m]\u001b[0m\u001b[0;34m\u001b[0m\u001b[0;34m\u001b[0m\u001b[0m\n\u001b[1;32m    183\u001b[0m         \u001b[0;32mif\u001b[0m \u001b[0mstyle\u001b[0m \u001b[0;32mnot\u001b[0m \u001b[0;32min\u001b[0m \u001b[0mstyles\u001b[0m\u001b[0;34m:\u001b[0m\u001b[0;34m\u001b[0m\u001b[0;34m\u001b[0m\u001b[0m\n\u001b[0;32m--> 184\u001b[0;31m             \u001b[0;32mraise\u001b[0m \u001b[0mValueError\u001b[0m\u001b[0;34m(\u001b[0m\u001b[0;34m\"style must be one of %s\"\u001b[0m \u001b[0;34m%\u001b[0m \u001b[0;34m\", \"\u001b[0m\u001b[0;34m.\u001b[0m\u001b[0mjoin\u001b[0m\u001b[0;34m(\u001b[0m\u001b[0mstyles\u001b[0m\u001b[0;34m)\u001b[0m\u001b[0;34m)\u001b[0m\u001b[0;34m\u001b[0m\u001b[0;34m\u001b[0m\u001b[0m\n\u001b[0m\u001b[1;32m    185\u001b[0m \u001b[0;34m\u001b[0m\u001b[0m\n\u001b[1;32m    186\u001b[0m         \u001b[0;31m# Define colors here\u001b[0m\u001b[0;34m\u001b[0m\u001b[0;34m\u001b[0m\u001b[0;34m\u001b[0m\u001b[0m\n",
            "\u001b[0;31mValueError\u001b[0m: style must be one of white, dark, whitegrid, darkgrid, ticks"
          ]
        }
      ],
      "source": [
        "sns.set(style = 'a') #기본값이 grid\n",
        "plt.scatter([1,2,3],[4,5,6]) #그래프가 바뀌어진다."
      ]
    },
    {
      "cell_type": "markdown",
      "metadata": {
        "id": "ZSO0eSsee_fV"
      },
      "source": [
        "## 다양한 그래프를 그려보자!"
      ]
    },
    {
      "cell_type": "markdown",
      "metadata": {
        "id": "CgY0OOe8e_fV"
      },
      "source": [
        "- 선그래프 그려보기!\n",
        "- plot 함수를 이용해서 그래프를 그린다.\n",
        "- x와 y좌표는 수치형 데이터"
      ]
    },
    {
      "cell_type": "code",
      "execution_count": null,
      "metadata": {
        "id": "dKjvQPgye_fV",
        "outputId": "3f0fcea5-a5b7-438f-962a-997acc56e59d"
      },
      "outputs": [
        {
          "data": {
            "text/plain": [
              "<matplotlib.legend.Legend at 0x7ff2727f9dd0>"
            ]
          },
          "execution_count": 98,
          "metadata": {},
          "output_type": "execute_result"
        },
        {
          "data": {
            "image/png": "[encoded data removed]",
            "text/plain": [
              "<Figure size 432x288 with 1 Axes>"
            ]
          },
          "metadata": {},
          "output_type": "display_data"
        }
      ],
      "source": [
        "sns.set(style = 'whitegrid')\n",
        "plt.plot([1,2,3],[4,5,6],label='mpg.cty')\n",
        "plt.plot([6,7,8],[3,2,5],label='mpg.hwy')\n",
        "plt.legend()"
      ]
    },
    {
      "cell_type": "markdown",
      "metadata": {
        "id": "5QGQENkWe_fV"
      },
      "source": [
        "### 다양한 색상 설정\n",
        "- color 다양함, black, gray, yellow ,navy 등등 "
      ]
    },
    {
      "cell_type": "code",
      "execution_count": null,
      "metadata": {
        "id": "Iv07wmJ9e_fV",
        "outputId": "535d4d1a-ebff-4ca7-e8bd-6578bac89433"
      },
      "outputs": [
        {
          "data": {
            "text/plain": [
              "<matplotlib.legend.Legend at 0x7ff2728f3510>"
            ]
          },
          "execution_count": 99,
          "metadata": {},
          "output_type": "execute_result"
        },
        {
          "data": {
            "image/png": "[encoded data removed]",
            "text/plain": [
              "<Figure size 432x288 with 1 Axes>"
            ]
          },
          "metadata": {},
          "output_type": "display_data"
        }
      ],
      "source": [
        "sns.set(style = 'whitegrid')\n",
        "plt.plot([1,2,3],[4,5,6],label='mpg.cty',color='red')\n",
        "plt.plot([6,7,8],[3,2,5],label='mpg.hwy',color='blue')\n",
        "plt.legend()"
      ]
    },
    {
      "cell_type": "markdown",
      "metadata": {
        "id": "1RaBelL6e_fW"
      },
      "source": [
        "### 선 스타일과 두께 설정 가능하다.\n",
        "- 선 형태 기본값에 dashed, dotted, dashdot, solid기본 등등 \n",
        "- 선 두께는 linewidth 선 두께 조절 가능하다."
      ]
    },
    {
      "cell_type": "code",
      "execution_count": null,
      "metadata": {
        "id": "Ce-roiFre_fW",
        "outputId": "aa1bc5d5-1110-4e37-d4a9-0cf80c18f8ba"
      },
      "outputs": [
        {
          "data": {
            "text/plain": [
              "<matplotlib.legend.Legend at 0x7ff272a22b10>"
            ]
          },
          "execution_count": 101,
          "metadata": {},
          "output_type": "execute_result"
        },
        {
          "data": {
            "image/png": "[encoded data removed]",
            "text/plain": [
              "<Figure size 432x288 with 1 Axes>"
            ]
          },
          "metadata": {},
          "output_type": "display_data"
        }
      ],
      "source": [
        "sns.set(style = 'whitegrid')\n",
        "plt.plot([1,2,3],[4,5,6],label='mpg.cty',color='red',linestyle='dashed', linewidth=10)\n",
        "plt.plot([6,7,8],[3,2,5],label='mpg.hwy',color='blue',linestyle='dotted', linewidth=5)\n",
        "plt.legend()"
      ]
    },
    {
      "cell_type": "markdown",
      "metadata": {
        "id": "gLIqZwI9e_fW"
      },
      "source": [
        "### 마커 설정도 가능하다\n",
        "- 값에 대한 포인트를 지정해서 해당 값이 어디에 위치하는지를 찍어준다.\n",
        "- marker \n",
        "- '.' 점, 'o'원, '*'별 \n",
        "\n",
        "### 필수과제3 \n",
        "- 다양한 마커들을 구글링으로 찾아서 정리해 주세요!"
      ]
    },
    {
      "cell_type": "code",
      "execution_count": null,
      "metadata": {
        "id": "JNefkJ2Re_fW",
        "outputId": "6c916aa7-6ae4-465e-cdb5-7673c13fca53"
      },
      "outputs": [
        {
          "data": {
            "text/plain": [
              "<matplotlib.legend.Legend at 0x7ff272da4a50>"
            ]
          },
          "execution_count": 104,
          "metadata": {},
          "output_type": "execute_result"
        },
        {
          "data": {
            "image/png": "[encoded data removed]",
            "text/plain": [
              "<Figure size 432x288 with 1 Axes>"
            ]
          },
          "metadata": {},
          "output_type": "display_data"
        }
      ],
      "source": [
        "plt.plot([1,2,3],[4,5,6],marker='s',label='mpg.cty',color='red',linestyle='dashed')\n",
        "plt.plot([6,7,8],[3,2,5],marker='*',label='mpg.hwy',color='blue',linestyle='dotted')\n",
        "plt.legend()"
      ]
    },
    {
      "cell_type": "code",
      "execution_count": null,
      "metadata": {
        "id": "LlxUo3BYe_fW",
        "outputId": "dc64cc86-5d02-4ed5-a7d4-a0495f37f475"
      },
      "outputs": [
        {
          "data": {
            "text/plain": [
              "<matplotlib.legend.Legend at 0x7ff272e13d50>"
            ]
          },
          "execution_count": 105,
          "metadata": {},
          "output_type": "execute_result"
        },
        {
          "data": {
            "image/png": "[encoded data removed]",
            "text/plain": [
              "<Figure size 432x288 with 1 Axes>"
            ]
          },
          "metadata": {},
          "output_type": "display_data"
        }
      ],
      "source": [
        "plt.plot([1,2,3],[4,5,6],marker='s',markersize=10,label='mpg.cty',color='red',linestyle='dashed') #마커사이즈도 변경 가능\n",
        "plt.plot([6,7,8],[3,2,5],marker='*',label='mpg.hwy',color='blue',linestyle='dotted')\n",
        "plt.legend()"
      ]
    },
    {
      "cell_type": "markdown",
      "metadata": {
        "id": "CaPwY6yee_fW"
      },
      "source": [
        "### 산점도\n",
        "### 필수과제 4 \n",
        "- 위에 배운 내용을 그대로 적용하여 scatter를 다 그려주세요! ( 해당 인자값들 다 추가하셔야 합니다.)\n",
        "- #scatter, #plot 동일하게 사용되는 것도 있고 다른 것도 있다. 에러가 날 것 -> 구글링해서 scatter 사용하는 인자값으로 바꿔야 한다.\n",
        "- scatter \n",
        "- x와 y의 분포를 볼 때 정말 많이 사용한다.\n",
        "- 데이터 시각화에서 기본적으로 변수관의 관계\n",
        "- 비지도학습시 군집간의 관계, 차원축소 해서 해당 군집이 어떤 식으로 형성되어 있나 볼 때 \n",
        "- 군집화하기전에 기본적으로 분포를 볼 때 사용하고 다양하게 사용된다!"
      ]
    },
    {
      "cell_type": "markdown",
      "metadata": {
        "id": "fvUUPIVqe_fW"
      },
      "source": [
        "### 투명도 설정 "
      ]
    },
    {
      "cell_type": "code",
      "execution_count": null,
      "metadata": {
        "id": "iHTriqrLe_fW"
      },
      "outputs": [],
      "source": [
        "import numpy as np"
      ]
    },
    {
      "cell_type": "code",
      "execution_count": null,
      "metadata": {
        "id": "cmQmOOcze_fX"
      },
      "outputs": [],
      "source": [
        "x = np.random.normal(0,1,5000)\n",
        "y = np.random.normal(0,1,5000)"
      ]
    },
    {
      "cell_type": "code",
      "execution_count": null,
      "metadata": {
        "id": "OeZUB6tSe_fX",
        "outputId": "6402e17c-0909-4ae6-f46a-4d5a2f2b3b70"
      },
      "outputs": [
        {
          "data": {
            "text/plain": [
              "<matplotlib.collections.PathCollection at 0x7ff272f4f7d0>"
            ]
          },
          "execution_count": 111,
          "metadata": {},
          "output_type": "execute_result"
        },
        {
          "data": {
            "image/png": "[encoded data removed]",
            "text/plain": [
              "<Figure size 432x288 with 1 Axes>"
            ]
          },
          "metadata": {},
          "output_type": "display_data"
        }
      ],
      "source": [
        "plt.scatter(x,y, alpha= 0.05)"
      ]
    },
    {
      "cell_type": "code",
      "execution_count": null,
      "metadata": {
        "id": "wcHNxX-ie_fX",
        "outputId": "46120d32-b529-458a-87c8-dd90829fa2d5"
      },
      "outputs": [
        {
          "data": {
            "text/plain": [
              "<matplotlib.collections.PathCollection at 0x7ff273076c90>"
            ]
          },
          "execution_count": 112,
          "metadata": {},
          "output_type": "execute_result"
        },
        {
          "data": {
            "image/png": "[encoded data removed]",
            "text/plain": [
              "<Figure size 432x288 with 1 Axes>"
            ]
          },
          "metadata": {},
          "output_type": "display_data"
        }
      ],
      "source": [
        "plt.scatter(x,y, alpha= 0.5)"
      ]
    },
    {
      "cell_type": "markdown",
      "metadata": {
        "id": "a_JUC64je_fX"
      },
      "source": [
        "- 다음시간부터는 다른 다양한 그래프를 배울 것, 태블로, 반복문을 이용한 시각화"
      ]
    },
    {
      "cell_type": "code",
      "execution_count": null,
      "metadata": {
        "id": "-q03CV0qe_fX"
      },
      "outputs": [],
      "source": []
    }
  ],
  "metadata": {
    "kernelspec": {
      "display_name": "Python 3",
      "language": "python",
      "name": "python3"
    },
    "language_info": {
      "codemirror_mode": {
        "name": "ipython",
        "version": 3
      },
      "file_extension": ".py",
      "mimetype": "text/x-python",
      "name": "python",
      "nbconvert_exporter": "python",
      "pygments_lexer": "ipython3",
      "version": "3.7.6"
    },
    "colab": {
      "provenance": [],
      "include_colab_link": true
    }
  },
  "nbformat": 4,
  "nbformat_minor": 0
}