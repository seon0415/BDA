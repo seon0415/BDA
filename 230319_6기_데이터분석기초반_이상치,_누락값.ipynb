{
  "cells": [
    {
      "cell_type": "markdown",
      "metadata": {
        "id": "view-in-github",
        "colab_type": "text"
      },
      "source": [
        "<a href=\"https://colab.research.google.com/github/seon0415/BPA-/blob/main/230319_6%EA%B8%B0_%EB%8D%B0%EC%9D%B4%ED%84%B0%EB%B6%84%EC%84%9D%EA%B8%B0%EC%B4%88%EB%B0%98_%EC%9D%B4%EC%83%81%EC%B9%98%2C_%EB%88%84%EB%9D%BD%EA%B0%92.ipynb\" target=\"_parent\"><img src=\"https://colab.research.google.com/assets/colab-badge.svg\" alt=\"Open In Colab\"/></a>"
      ]
    },
    {
      "cell_type": "markdown",
      "metadata": {
        "id": "0h1Fd_fiv7gt"
      },
      "source": [
        "## 결측치(missing value)\n",
        "- 누락된 값, 비어있는 값\n",
        "- 왜 결측치가 생겼는가? \n",
        "- 휴먼에러, 진짜 결측일 수 있고, 결측치를 보고 그냥 넘어가기에는 데이터 분석가는 꼭 한 번 생각해야 한다.\n",
        "\n",
        "- NA값으로 빈 값이라 할 수 있는 선택이 2가지 있다.\n",
        "\n",
        "- 1. 날리기 NA날리기 - 그럼 무엇을 기준으로 날릴 것인가? 기준치가 있어야 한다.\n",
        "- 2. NA값 채우기 - 어떻게 채울거야?"
      ]
    },
    {
      "cell_type": "code",
      "execution_count": null,
      "metadata": {
        "id": "HSXpLyMCv7gy"
      },
      "outputs": [],
      "source": [
        "import pandas as pd\n",
        "import numpy as np"
      ]
    },
    {
      "cell_type": "code",
      "execution_count": null,
      "metadata": {
        "id": "Lfh-Xu9sv7g0"
      },
      "outputs": [],
      "source": [
        "df = pd.DataFrame({'이름':['홍길동','김영희','김철수'],\n",
        "                  '성적':[100,80,np.nan],\n",
        "                  '등급':['A',np.nan,'B']})"
      ]
    },
    {
      "cell_type": "code",
      "execution_count": null,
      "metadata": {
        "id": "BgGjsJMav7g1",
        "outputId": "316b7a4c-51ac-4f61-a7d4-e7006e9a26b0"
      },
      "outputs": [
        {
          "data": {
            "text/html": [
              "<div>\n",
              "<style scoped>\n",
              "    .dataframe tbody tr th:only-of-type {\n",
              "        vertical-align: middle;\n",
              "    }\n",
              "\n",
              "    .dataframe tbody tr th {\n",
              "        vertical-align: top;\n",
              "    }\n",
              "\n",
              "    .dataframe thead th {\n",
              "        text-align: right;\n",
              "    }\n",
              "</style>\n",
              "<table border=\"1\" class=\"dataframe\">\n",
              "  <thead>\n",
              "    <tr style=\"text-align: right;\">\n",
              "      <th></th>\n",
              "      <th>이름</th>\n",
              "      <th>성적</th>\n",
              "      <th>등급</th>\n",
              "    </tr>\n",
              "  </thead>\n",
              "  <tbody>\n",
              "    <tr>\n",
              "      <th>0</th>\n",
              "      <td>홍길동</td>\n",
              "      <td>100.0</td>\n",
              "      <td>A</td>\n",
              "    </tr>\n",
              "    <tr>\n",
              "      <th>1</th>\n",
              "      <td>김영희</td>\n",
              "      <td>80.0</td>\n",
              "      <td>NaN</td>\n",
              "    </tr>\n",
              "    <tr>\n",
              "      <th>2</th>\n",
              "      <td>김철수</td>\n",
              "      <td>NaN</td>\n",
              "      <td>B</td>\n",
              "    </tr>\n",
              "  </tbody>\n",
              "</table>\n",
              "</div>"
            ],
            "text/plain": [
              "    이름     성적   등급\n",
              "0  홍길동  100.0    A\n",
              "1  김영희   80.0  NaN\n",
              "2  김철수    NaN    B"
            ]
          },
          "execution_count": 17,
          "metadata": {},
          "output_type": "execute_result"
        }
      ],
      "source": [
        "df"
      ]
    },
    {
      "cell_type": "code",
      "execution_count": null,
      "metadata": {
        "id": "hy7qaObTv7g3",
        "outputId": "ffa2fbfe-b9d9-4628-c855-7d8a2c5a55fa"
      },
      "outputs": [
        {
          "data": {
            "text/plain": [
              "이름    0\n",
              "성적    1\n",
              "dtype: int64"
            ]
          },
          "execution_count": 7,
          "metadata": {},
          "output_type": "execute_result"
        }
      ],
      "source": [
        "#결측치 확인하는 법\n",
        "df.isna().sum()"
      ]
    },
    {
      "cell_type": "markdown",
      "metadata": {
        "id": "mOM_CSzMv7g4"
      },
      "source": [
        "### 결측치를 제거하는 방법은?\n",
        "- df.dropna() 결측치가 있는 행을 제거, subset = 원하는 변수명을 적으면 된다."
      ]
    },
    {
      "cell_type": "code",
      "execution_count": null,
      "metadata": {
        "id": "uwX-kvFZv7g4"
      },
      "outputs": [],
      "source": [
        "df.dropna(subset  = ['성적'], inplace=True) #원본을 바꾸려면 inplace 필수 사용!"
      ]
    },
    {
      "cell_type": "code",
      "execution_count": null,
      "metadata": {
        "id": "nvWN5OcRv7g5",
        "outputId": "186ee44f-3656-4784-f28a-b62892f4e02f"
      },
      "outputs": [
        {
          "data": {
            "text/html": [
              "<div>\n",
              "<style scoped>\n",
              "    .dataframe tbody tr th:only-of-type {\n",
              "        vertical-align: middle;\n",
              "    }\n",
              "\n",
              "    .dataframe tbody tr th {\n",
              "        vertical-align: top;\n",
              "    }\n",
              "\n",
              "    .dataframe thead th {\n",
              "        text-align: right;\n",
              "    }\n",
              "</style>\n",
              "<table border=\"1\" class=\"dataframe\">\n",
              "  <thead>\n",
              "    <tr style=\"text-align: right;\">\n",
              "      <th></th>\n",
              "      <th>이름</th>\n",
              "      <th>성적</th>\n",
              "      <th>등급</th>\n",
              "    </tr>\n",
              "  </thead>\n",
              "  <tbody>\n",
              "    <tr>\n",
              "      <th>0</th>\n",
              "      <td>홍길동</td>\n",
              "      <td>100.0</td>\n",
              "      <td>A</td>\n",
              "    </tr>\n",
              "  </tbody>\n",
              "</table>\n",
              "</div>"
            ],
            "text/plain": [
              "    이름     성적 등급\n",
              "0  홍길동  100.0  A"
            ]
          },
          "execution_count": 19,
          "metadata": {},
          "output_type": "execute_result"
        }
      ],
      "source": [
        "df.dropna() #전체 모든 na 값을 다 제거한다. "
      ]
    },
    {
      "cell_type": "code",
      "execution_count": null,
      "metadata": {
        "id": "u-fwy4TKv7g6",
        "outputId": "6948039d-5600-449a-fa1c-38b34e403b22"
      },
      "outputs": [
        {
          "data": {
            "text/plain": [
              "180.0"
            ]
          },
          "execution_count": 21,
          "metadata": {},
          "output_type": "execute_result"
        }
      ],
      "source": [
        "df.성적.sum() #na값 제외하고 합쳐진다. "
      ]
    },
    {
      "cell_type": "code",
      "execution_count": null,
      "metadata": {
        "id": "ygqWQmNBv7g7",
        "outputId": "27144a73-d38e-46c0-a354-9e5f8713b08f"
      },
      "outputs": [
        {
          "data": {
            "text/html": [
              "<div>\n",
              "<style scoped>\n",
              "    .dataframe tbody tr th:only-of-type {\n",
              "        vertical-align: middle;\n",
              "    }\n",
              "\n",
              "    .dataframe tbody tr th {\n",
              "        vertical-align: top;\n",
              "    }\n",
              "\n",
              "    .dataframe thead th {\n",
              "        text-align: right;\n",
              "    }\n",
              "</style>\n",
              "<table border=\"1\" class=\"dataframe\">\n",
              "  <thead>\n",
              "    <tr style=\"text-align: right;\">\n",
              "      <th></th>\n",
              "      <th>이름</th>\n",
              "      <th>성적</th>\n",
              "      <th>등급</th>\n",
              "    </tr>\n",
              "  </thead>\n",
              "  <tbody>\n",
              "    <tr>\n",
              "      <th>0</th>\n",
              "      <td>홍길동</td>\n",
              "      <td>100.0</td>\n",
              "      <td>A</td>\n",
              "    </tr>\n",
              "    <tr>\n",
              "      <th>1</th>\n",
              "      <td>김영희</td>\n",
              "      <td>80.0</td>\n",
              "      <td>NaN</td>\n",
              "    </tr>\n",
              "    <tr>\n",
              "      <th>2</th>\n",
              "      <td>김철수</td>\n",
              "      <td>NaN</td>\n",
              "      <td>B</td>\n",
              "    </tr>\n",
              "  </tbody>\n",
              "</table>\n",
              "</div>"
            ],
            "text/plain": [
              "    이름     성적   등급\n",
              "0  홍길동  100.0    A\n",
              "1  김영희   80.0  NaN\n",
              "2  김철수    NaN    B"
            ]
          },
          "execution_count": 24,
          "metadata": {},
          "output_type": "execute_result"
        }
      ],
      "source": [
        "df"
      ]
    },
    {
      "cell_type": "code",
      "execution_count": null,
      "metadata": {
        "id": "Wkb5S3Dgv7g8",
        "outputId": "d0130eeb-562d-42e9-a964-cdbf4b1f8ae4"
      },
      "outputs": [
        {
          "data": {
            "text/plain": [
              "0    200.0\n",
              "1    180.0\n",
              "2      NaN\n",
              "Name: 성적, dtype: float64"
            ]
          },
          "execution_count": 23,
          "metadata": {},
          "output_type": "execute_result"
        }
      ],
      "source": [
        "df['성적']+100"
      ]
    },
    {
      "cell_type": "code",
      "execution_count": null,
      "metadata": {
        "id": "KA1HE3gWv7g8",
        "outputId": "45e245ec-b8d5-421b-e72e-dfbc416b66af"
      },
      "outputs": [
        {
          "data": {
            "text/plain": [
              "90.0"
            ]
          },
          "execution_count": 38,
          "metadata": {},
          "output_type": "execute_result"
        }
      ],
      "source": [
        "df.성적.mean() # na값 반영 안 했다.!!"
      ]
    },
    {
      "cell_type": "markdown",
      "metadata": {
        "id": "SMLVNLW7v7g9"
      },
      "source": [
        "- 숫자열 데이터 타입에서 nan 값은 계산 안 되고, 제외하고 계산한다."
      ]
    },
    {
      "cell_type": "code",
      "execution_count": null,
      "metadata": {
        "id": "1Orevm19v7g9",
        "outputId": "45f3f2f6-fa42-42d9-902b-6c0da0edc95a"
      },
      "outputs": [
        {
          "data": {
            "text/plain": [
              "3"
            ]
          },
          "execution_count": 26,
          "metadata": {},
          "output_type": "execute_result"
        }
      ],
      "source": [
        "df.이름.value_counts().sum()"
      ]
    },
    {
      "cell_type": "code",
      "execution_count": null,
      "metadata": {
        "id": "GUtOYGH8v7g9",
        "outputId": "a0a4e8e4-24fd-41f9-da08-46efd5b3e730"
      },
      "outputs": [
        {
          "data": {
            "text/plain": [
              "2"
            ]
          },
          "execution_count": 28,
          "metadata": {},
          "output_type": "execute_result"
        }
      ],
      "source": [
        "df.등급.value_counts().sum() # 문자열데이터, 범주형데이터 NAn 값도 계산이 안 된다."
      ]
    },
    {
      "cell_type": "code",
      "execution_count": null,
      "metadata": {
        "id": "a9yjyG8gv7g-",
        "outputId": "0f6661ae-63f7-4e74-f73d-77d5f18e4e27"
      },
      "outputs": [
        {
          "data": {
            "text/plain": [
              "(3, 3)"
            ]
          },
          "execution_count": 30,
          "metadata": {},
          "output_type": "execute_result"
        }
      ],
      "source": [
        "df.shape # 전체 데이터프레임의 행과 열은 3,3 나오지만 실제 컬럼을 기준으로 들어가서 값을 계산시에는 NA값은 제외한다."
      ]
    },
    {
      "cell_type": "code",
      "execution_count": null,
      "metadata": {
        "id": "BmTEoaWUv7g-"
      },
      "outputs": [],
      "source": [
        "exam = pd.read_csv('exam.csv')"
      ]
    },
    {
      "cell_type": "code",
      "execution_count": null,
      "metadata": {
        "id": "BmifXNdov7g-"
      },
      "outputs": [],
      "source": [
        "exam.loc[[3,8,9,15],['english']] = np.nan #np.nan 넘파이에서 제공하는 함수 nan 값을 na로 바꿀 때 사용해"
      ]
    },
    {
      "cell_type": "code",
      "execution_count": null,
      "metadata": {
        "id": "CVQhQ3jsv7g_",
        "outputId": "6bde39d9-5da8-4649-ddd3-b4bf562aa5e3"
      },
      "outputs": [
        {
          "data": {
            "text/plain": [
              "id         0\n",
              "nclass     0\n",
              "math       0\n",
              "english    4\n",
              "science    0\n",
              "dtype: int64"
            ]
          },
          "execution_count": 46,
          "metadata": {},
          "output_type": "execute_result"
        }
      ],
      "source": [
        "exam.isna().sum()"
      ]
    },
    {
      "cell_type": "code",
      "execution_count": null,
      "metadata": {
        "scrolled": true,
        "id": "vbre1Sj9v7g_",
        "outputId": "12b5aec5-5297-44a1-9b0c-da0883fb9168"
      },
      "outputs": [
        {
          "data": {
            "text/html": [
              "<div>\n",
              "<style scoped>\n",
              "    .dataframe tbody tr th:only-of-type {\n",
              "        vertical-align: middle;\n",
              "    }\n",
              "\n",
              "    .dataframe tbody tr th {\n",
              "        vertical-align: top;\n",
              "    }\n",
              "\n",
              "    .dataframe thead th {\n",
              "        text-align: right;\n",
              "    }\n",
              "</style>\n",
              "<table border=\"1\" class=\"dataframe\">\n",
              "  <thead>\n",
              "    <tr style=\"text-align: right;\">\n",
              "      <th></th>\n",
              "      <th>id</th>\n",
              "      <th>nclass</th>\n",
              "      <th>math</th>\n",
              "      <th>english</th>\n",
              "      <th>science</th>\n",
              "    </tr>\n",
              "  </thead>\n",
              "  <tbody>\n",
              "    <tr>\n",
              "      <th>0</th>\n",
              "      <td>1</td>\n",
              "      <td>1</td>\n",
              "      <td>50</td>\n",
              "      <td>98.0</td>\n",
              "      <td>50</td>\n",
              "    </tr>\n",
              "    <tr>\n",
              "      <th>1</th>\n",
              "      <td>2</td>\n",
              "      <td>1</td>\n",
              "      <td>60</td>\n",
              "      <td>97.0</td>\n",
              "      <td>60</td>\n",
              "    </tr>\n",
              "    <tr>\n",
              "      <th>2</th>\n",
              "      <td>3</td>\n",
              "      <td>1</td>\n",
              "      <td>45</td>\n",
              "      <td>86.0</td>\n",
              "      <td>78</td>\n",
              "    </tr>\n",
              "    <tr>\n",
              "      <th>3</th>\n",
              "      <td>4</td>\n",
              "      <td>1</td>\n",
              "      <td>30</td>\n",
              "      <td>NaN</td>\n",
              "      <td>58</td>\n",
              "    </tr>\n",
              "    <tr>\n",
              "      <th>4</th>\n",
              "      <td>5</td>\n",
              "      <td>2</td>\n",
              "      <td>25</td>\n",
              "      <td>80.0</td>\n",
              "      <td>65</td>\n",
              "    </tr>\n",
              "    <tr>\n",
              "      <th>5</th>\n",
              "      <td>6</td>\n",
              "      <td>2</td>\n",
              "      <td>50</td>\n",
              "      <td>89.0</td>\n",
              "      <td>98</td>\n",
              "    </tr>\n",
              "    <tr>\n",
              "      <th>6</th>\n",
              "      <td>7</td>\n",
              "      <td>2</td>\n",
              "      <td>80</td>\n",
              "      <td>90.0</td>\n",
              "      <td>45</td>\n",
              "    </tr>\n",
              "    <tr>\n",
              "      <th>7</th>\n",
              "      <td>8</td>\n",
              "      <td>2</td>\n",
              "      <td>90</td>\n",
              "      <td>78.0</td>\n",
              "      <td>25</td>\n",
              "    </tr>\n",
              "    <tr>\n",
              "      <th>8</th>\n",
              "      <td>9</td>\n",
              "      <td>3</td>\n",
              "      <td>20</td>\n",
              "      <td>NaN</td>\n",
              "      <td>15</td>\n",
              "    </tr>\n",
              "    <tr>\n",
              "      <th>9</th>\n",
              "      <td>10</td>\n",
              "      <td>3</td>\n",
              "      <td>50</td>\n",
              "      <td>NaN</td>\n",
              "      <td>45</td>\n",
              "    </tr>\n",
              "    <tr>\n",
              "      <th>10</th>\n",
              "      <td>11</td>\n",
              "      <td>3</td>\n",
              "      <td>65</td>\n",
              "      <td>65.0</td>\n",
              "      <td>65</td>\n",
              "    </tr>\n",
              "    <tr>\n",
              "      <th>11</th>\n",
              "      <td>12</td>\n",
              "      <td>3</td>\n",
              "      <td>45</td>\n",
              "      <td>85.0</td>\n",
              "      <td>32</td>\n",
              "    </tr>\n",
              "    <tr>\n",
              "      <th>12</th>\n",
              "      <td>13</td>\n",
              "      <td>4</td>\n",
              "      <td>46</td>\n",
              "      <td>98.0</td>\n",
              "      <td>65</td>\n",
              "    </tr>\n",
              "    <tr>\n",
              "      <th>13</th>\n",
              "      <td>14</td>\n",
              "      <td>4</td>\n",
              "      <td>48</td>\n",
              "      <td>87.0</td>\n",
              "      <td>12</td>\n",
              "    </tr>\n",
              "    <tr>\n",
              "      <th>14</th>\n",
              "      <td>15</td>\n",
              "      <td>4</td>\n",
              "      <td>75</td>\n",
              "      <td>56.0</td>\n",
              "      <td>78</td>\n",
              "    </tr>\n",
              "    <tr>\n",
              "      <th>15</th>\n",
              "      <td>16</td>\n",
              "      <td>4</td>\n",
              "      <td>58</td>\n",
              "      <td>NaN</td>\n",
              "      <td>65</td>\n",
              "    </tr>\n",
              "    <tr>\n",
              "      <th>16</th>\n",
              "      <td>17</td>\n",
              "      <td>5</td>\n",
              "      <td>65</td>\n",
              "      <td>68.0</td>\n",
              "      <td>98</td>\n",
              "    </tr>\n",
              "    <tr>\n",
              "      <th>17</th>\n",
              "      <td>18</td>\n",
              "      <td>5</td>\n",
              "      <td>80</td>\n",
              "      <td>78.0</td>\n",
              "      <td>90</td>\n",
              "    </tr>\n",
              "    <tr>\n",
              "      <th>18</th>\n",
              "      <td>19</td>\n",
              "      <td>5</td>\n",
              "      <td>89</td>\n",
              "      <td>68.0</td>\n",
              "      <td>87</td>\n",
              "    </tr>\n",
              "    <tr>\n",
              "      <th>19</th>\n",
              "      <td>20</td>\n",
              "      <td>5</td>\n",
              "      <td>78</td>\n",
              "      <td>83.0</td>\n",
              "      <td>58</td>\n",
              "    </tr>\n",
              "  </tbody>\n",
              "</table>\n",
              "</div>"
            ],
            "text/plain": [
              "    id  nclass  math  english  science\n",
              "0    1       1    50     98.0       50\n",
              "1    2       1    60     97.0       60\n",
              "2    3       1    45     86.0       78\n",
              "3    4       1    30      NaN       58\n",
              "4    5       2    25     80.0       65\n",
              "5    6       2    50     89.0       98\n",
              "6    7       2    80     90.0       45\n",
              "7    8       2    90     78.0       25\n",
              "8    9       3    20      NaN       15\n",
              "9   10       3    50      NaN       45\n",
              "10  11       3    65     65.0       65\n",
              "11  12       3    45     85.0       32\n",
              "12  13       4    46     98.0       65\n",
              "13  14       4    48     87.0       12\n",
              "14  15       4    75     56.0       78\n",
              "15  16       4    58      NaN       65\n",
              "16  17       5    65     68.0       98\n",
              "17  18       5    80     78.0       90\n",
              "18  19       5    89     68.0       87\n",
              "19  20       5    78     83.0       58"
            ]
          },
          "execution_count": 41,
          "metadata": {},
          "output_type": "execute_result"
        }
      ],
      "source": [
        "exam"
      ]
    },
    {
      "cell_type": "code",
      "execution_count": null,
      "metadata": {
        "id": "D8U72Wg2v7g_",
        "outputId": "a469d393-b311-4b35-a27d-4d88316a5094"
      },
      "outputs": [
        {
          "data": {
            "text/plain": [
              "81.625"
            ]
          },
          "execution_count": 40,
          "metadata": {},
          "output_type": "execute_result"
        }
      ],
      "source": [
        "exam.english.mean() # 이 평균은 ? na값을 반영 안 한거다."
      ]
    },
    {
      "cell_type": "code",
      "execution_count": null,
      "metadata": {
        "scrolled": true,
        "id": "Obp5nzUgv7hA",
        "outputId": "3fc695f3-7a76-4049-d8f1-94cf87233971"
      },
      "outputs": [
        {
          "data": {
            "text/html": [
              "<div>\n",
              "<style scoped>\n",
              "    .dataframe tbody tr th:only-of-type {\n",
              "        vertical-align: middle;\n",
              "    }\n",
              "\n",
              "    .dataframe tbody tr th {\n",
              "        vertical-align: top;\n",
              "    }\n",
              "\n",
              "    .dataframe thead th {\n",
              "        text-align: right;\n",
              "    }\n",
              "</style>\n",
              "<table border=\"1\" class=\"dataframe\">\n",
              "  <thead>\n",
              "    <tr style=\"text-align: right;\">\n",
              "      <th></th>\n",
              "      <th>id</th>\n",
              "      <th>nclass</th>\n",
              "      <th>math</th>\n",
              "      <th>english</th>\n",
              "      <th>science</th>\n",
              "    </tr>\n",
              "  </thead>\n",
              "  <tbody>\n",
              "    <tr>\n",
              "      <th>0</th>\n",
              "      <td>1</td>\n",
              "      <td>1</td>\n",
              "      <td>50</td>\n",
              "      <td>98.0</td>\n",
              "      <td>50</td>\n",
              "    </tr>\n",
              "    <tr>\n",
              "      <th>1</th>\n",
              "      <td>2</td>\n",
              "      <td>1</td>\n",
              "      <td>60</td>\n",
              "      <td>97.0</td>\n",
              "      <td>60</td>\n",
              "    </tr>\n",
              "    <tr>\n",
              "      <th>2</th>\n",
              "      <td>3</td>\n",
              "      <td>1</td>\n",
              "      <td>45</td>\n",
              "      <td>86.0</td>\n",
              "      <td>78</td>\n",
              "    </tr>\n",
              "    <tr>\n",
              "      <th>3</th>\n",
              "      <td>4</td>\n",
              "      <td>1</td>\n",
              "      <td>30</td>\n",
              "      <td>NaN</td>\n",
              "      <td>58</td>\n",
              "    </tr>\n",
              "    <tr>\n",
              "      <th>4</th>\n",
              "      <td>5</td>\n",
              "      <td>2</td>\n",
              "      <td>25</td>\n",
              "      <td>80.0</td>\n",
              "      <td>65</td>\n",
              "    </tr>\n",
              "    <tr>\n",
              "      <th>5</th>\n",
              "      <td>6</td>\n",
              "      <td>2</td>\n",
              "      <td>50</td>\n",
              "      <td>89.0</td>\n",
              "      <td>98</td>\n",
              "    </tr>\n",
              "    <tr>\n",
              "      <th>6</th>\n",
              "      <td>7</td>\n",
              "      <td>2</td>\n",
              "      <td>80</td>\n",
              "      <td>90.0</td>\n",
              "      <td>45</td>\n",
              "    </tr>\n",
              "    <tr>\n",
              "      <th>7</th>\n",
              "      <td>8</td>\n",
              "      <td>2</td>\n",
              "      <td>90</td>\n",
              "      <td>78.0</td>\n",
              "      <td>25</td>\n",
              "    </tr>\n",
              "    <tr>\n",
              "      <th>8</th>\n",
              "      <td>9</td>\n",
              "      <td>3</td>\n",
              "      <td>20</td>\n",
              "      <td>NaN</td>\n",
              "      <td>15</td>\n",
              "    </tr>\n",
              "    <tr>\n",
              "      <th>9</th>\n",
              "      <td>10</td>\n",
              "      <td>3</td>\n",
              "      <td>50</td>\n",
              "      <td>NaN</td>\n",
              "      <td>45</td>\n",
              "    </tr>\n",
              "    <tr>\n",
              "      <th>10</th>\n",
              "      <td>11</td>\n",
              "      <td>3</td>\n",
              "      <td>65</td>\n",
              "      <td>65.0</td>\n",
              "      <td>65</td>\n",
              "    </tr>\n",
              "    <tr>\n",
              "      <th>11</th>\n",
              "      <td>12</td>\n",
              "      <td>3</td>\n",
              "      <td>45</td>\n",
              "      <td>85.0</td>\n",
              "      <td>32</td>\n",
              "    </tr>\n",
              "    <tr>\n",
              "      <th>12</th>\n",
              "      <td>13</td>\n",
              "      <td>4</td>\n",
              "      <td>46</td>\n",
              "      <td>98.0</td>\n",
              "      <td>65</td>\n",
              "    </tr>\n",
              "    <tr>\n",
              "      <th>13</th>\n",
              "      <td>14</td>\n",
              "      <td>4</td>\n",
              "      <td>48</td>\n",
              "      <td>87.0</td>\n",
              "      <td>12</td>\n",
              "    </tr>\n",
              "    <tr>\n",
              "      <th>14</th>\n",
              "      <td>15</td>\n",
              "      <td>4</td>\n",
              "      <td>75</td>\n",
              "      <td>56.0</td>\n",
              "      <td>78</td>\n",
              "    </tr>\n",
              "    <tr>\n",
              "      <th>15</th>\n",
              "      <td>16</td>\n",
              "      <td>4</td>\n",
              "      <td>58</td>\n",
              "      <td>NaN</td>\n",
              "      <td>65</td>\n",
              "    </tr>\n",
              "    <tr>\n",
              "      <th>16</th>\n",
              "      <td>17</td>\n",
              "      <td>5</td>\n",
              "      <td>65</td>\n",
              "      <td>68.0</td>\n",
              "      <td>98</td>\n",
              "    </tr>\n",
              "    <tr>\n",
              "      <th>17</th>\n",
              "      <td>18</td>\n",
              "      <td>5</td>\n",
              "      <td>80</td>\n",
              "      <td>78.0</td>\n",
              "      <td>90</td>\n",
              "    </tr>\n",
              "    <tr>\n",
              "      <th>18</th>\n",
              "      <td>19</td>\n",
              "      <td>5</td>\n",
              "      <td>89</td>\n",
              "      <td>68.0</td>\n",
              "      <td>87</td>\n",
              "    </tr>\n",
              "    <tr>\n",
              "      <th>19</th>\n",
              "      <td>20</td>\n",
              "      <td>5</td>\n",
              "      <td>78</td>\n",
              "      <td>83.0</td>\n",
              "      <td>58</td>\n",
              "    </tr>\n",
              "  </tbody>\n",
              "</table>\n",
              "</div>"
            ],
            "text/plain": [
              "    id  nclass  math  english  science\n",
              "0    1       1    50     98.0       50\n",
              "1    2       1    60     97.0       60\n",
              "2    3       1    45     86.0       78\n",
              "3    4       1    30      NaN       58\n",
              "4    5       2    25     80.0       65\n",
              "5    6       2    50     89.0       98\n",
              "6    7       2    80     90.0       45\n",
              "7    8       2    90     78.0       25\n",
              "8    9       3    20      NaN       15\n",
              "9   10       3    50      NaN       45\n",
              "10  11       3    65     65.0       65\n",
              "11  12       3    45     85.0       32\n",
              "12  13       4    46     98.0       65\n",
              "13  14       4    48     87.0       12\n",
              "14  15       4    75     56.0       78\n",
              "15  16       4    58      NaN       65\n",
              "16  17       5    65     68.0       98\n",
              "17  18       5    80     78.0       90\n",
              "18  19       5    89     68.0       87\n",
              "19  20       5    78     83.0       58"
            ]
          },
          "execution_count": 39,
          "metadata": {},
          "output_type": "execute_result"
        }
      ],
      "source": [
        "exam"
      ]
    },
    {
      "cell_type": "markdown",
      "metadata": {
        "id": "kT2DA8scv7hA"
      },
      "source": [
        "## na값을 대체하는 방법은 fillna()\n",
        "- fillna()를 사용하면 대체하는 값을 넣을 수 있다.\n",
        "\n",
        "- 결측치에 대해서 0을 집어 넣는 경우"
      ]
    },
    {
      "cell_type": "code",
      "execution_count": null,
      "metadata": {
        "id": "v-26kSl8v7hA"
      },
      "outputs": [],
      "source": [
        "exam['english'] = exam['english'].fillna(0)"
      ]
    },
    {
      "cell_type": "code",
      "execution_count": null,
      "metadata": {
        "id": "rrQB9x0zv7hA",
        "outputId": "4f026db8-b47f-49d8-c782-f1c29baed996"
      },
      "outputs": [
        {
          "data": {
            "text/plain": [
              "65.3"
            ]
          },
          "execution_count": 44,
          "metadata": {},
          "output_type": "execute_result"
        }
      ],
      "source": [
        "exam.english.mean()"
      ]
    },
    {
      "cell_type": "markdown",
      "metadata": {
        "id": "AkGP77dsv7hB"
      },
      "source": [
        "- 바로 결측치를 0으로 대체하면 기존 81.625 (na값이 제외) 0으로 대체하면 평균이 65.3\n",
        "- 머신러닝 학습할 때 이 차이만큼 중요도 생각할 수 있다.\n",
        "- 이런 결측치를 대처할 때 도메인 지식과, 분석가의 판단이 필요하다.\n",
        "- exam 영어가 결측치라도 0점은 아닐 것이라 판단\n",
        "- 이 결측치를 최대한 어떻게 대체해서 머신에게 학습하냐에 따라 머신러닝의 평가지표가 달라질 수 있다."
      ]
    },
    {
      "cell_type": "code",
      "execution_count": null,
      "metadata": {
        "id": "IXhk7eSwv7hB"
      },
      "outputs": [],
      "source": [
        "exam['english'] = exam['english'].fillna(81.6)"
      ]
    },
    {
      "cell_type": "code",
      "execution_count": null,
      "metadata": {
        "id": "XaUIv2J5v7hB",
        "outputId": "cb40650f-9d0e-45a9-ac2a-06b783a3963f"
      },
      "outputs": [
        {
          "data": {
            "text/plain": [
              "81.62"
            ]
          },
          "execution_count": 49,
          "metadata": {},
          "output_type": "execute_result"
        }
      ],
      "source": [
        "exam.english.mean()"
      ]
    },
    {
      "cell_type": "markdown",
      "metadata": {
        "id": "rb3y8lKsv7hB"
      },
      "source": [
        "## 이상치 (anomaly)\n",
        "- 이상치도 생각할 때 2가지로 봐야한다.\n",
        "- 진짜 정상적인 이상치일 수 있고\n",
        "- 말도 안되는 논리적으로 봤을 때 말도 안되는 값일 수 있다.\n",
        "\n",
        "- 고객 장바구니 데이터를 보는 데 주문 금액이 마이너스인 경우 , 반품의 경우는 마이너스 일 수 있다.\n",
        "- 이상치도 결국 분석가가 판단을 잘 해야 하는데, 도메인 지식이 정말 중요하다.\n",
        "\n",
        "- 이상치는 무엇을 기준으로 이상치로 보는가?\n",
        "\n",
        "- IQR, 분석가가 직접 특정값은 이상치라고 판단 가능하다.\n",
        "- 이상치 판단은 통계적인 방법은 IQR을 사용한다.\n",
        "- 분석가가 주관적으로 판단하여 이상치를 판단한다."
      ]
    },
    {
      "cell_type": "markdown",
      "metadata": {
        "id": "cftz60r_v7hC"
      },
      "source": [
        "- IQR boxplot 확인하기"
      ]
    },
    {
      "cell_type": "code",
      "execution_count": null,
      "metadata": {
        "id": "ISEUBDSkv7hC"
      },
      "outputs": [],
      "source": [
        "mpg = pd.read_csv('mpg.csv')"
      ]
    },
    {
      "cell_type": "code",
      "execution_count": null,
      "metadata": {
        "id": "H7XefYJ4v7hC",
        "outputId": "a8c93886-73b9-480b-d393-fd8e3dbe637e"
      },
      "outputs": [
        {
          "data": {
            "text/plain": [
              "manufacturer    0\n",
              "model           0\n",
              "displ           0\n",
              "year            0\n",
              "cyl             0\n",
              "trans           0\n",
              "drv             0\n",
              "cty             0\n",
              "hwy             0\n",
              "fl              0\n",
              "category        0\n",
              "dtype: int64"
            ]
          },
          "execution_count": 52,
          "metadata": {},
          "output_type": "execute_result"
        }
      ],
      "source": [
        "mpg.isna().sum()"
      ]
    },
    {
      "cell_type": "code",
      "execution_count": null,
      "metadata": {
        "id": "SN2J0LJsv7hD",
        "outputId": "1010e5f9-e400-43c0-919a-bfbeffbb2f92"
      },
      "outputs": [
        {
          "data": {
            "text/html": [
              "<div>\n",
              "<style scoped>\n",
              "    .dataframe tbody tr th:only-of-type {\n",
              "        vertical-align: middle;\n",
              "    }\n",
              "\n",
              "    .dataframe tbody tr th {\n",
              "        vertical-align: top;\n",
              "    }\n",
              "\n",
              "    .dataframe thead th {\n",
              "        text-align: right;\n",
              "    }\n",
              "</style>\n",
              "<table border=\"1\" class=\"dataframe\">\n",
              "  <thead>\n",
              "    <tr style=\"text-align: right;\">\n",
              "      <th></th>\n",
              "      <th>manufacturer</th>\n",
              "      <th>model</th>\n",
              "      <th>displ</th>\n",
              "      <th>year</th>\n",
              "      <th>cyl</th>\n",
              "      <th>trans</th>\n",
              "      <th>drv</th>\n",
              "      <th>cty</th>\n",
              "      <th>hwy</th>\n",
              "      <th>fl</th>\n",
              "      <th>category</th>\n",
              "    </tr>\n",
              "  </thead>\n",
              "  <tbody>\n",
              "    <tr>\n",
              "      <th>0</th>\n",
              "      <td>audi</td>\n",
              "      <td>a4</td>\n",
              "      <td>1.8</td>\n",
              "      <td>1999</td>\n",
              "      <td>4</td>\n",
              "      <td>auto(l5)</td>\n",
              "      <td>f</td>\n",
              "      <td>18</td>\n",
              "      <td>29</td>\n",
              "      <td>p</td>\n",
              "      <td>compact</td>\n",
              "    </tr>\n",
              "    <tr>\n",
              "      <th>1</th>\n",
              "      <td>audi</td>\n",
              "      <td>a4</td>\n",
              "      <td>1.8</td>\n",
              "      <td>1999</td>\n",
              "      <td>4</td>\n",
              "      <td>manual(m5)</td>\n",
              "      <td>f</td>\n",
              "      <td>21</td>\n",
              "      <td>29</td>\n",
              "      <td>p</td>\n",
              "      <td>compact</td>\n",
              "    </tr>\n",
              "    <tr>\n",
              "      <th>2</th>\n",
              "      <td>audi</td>\n",
              "      <td>a4</td>\n",
              "      <td>2.0</td>\n",
              "      <td>2008</td>\n",
              "      <td>4</td>\n",
              "      <td>manual(m6)</td>\n",
              "      <td>f</td>\n",
              "      <td>20</td>\n",
              "      <td>31</td>\n",
              "      <td>p</td>\n",
              "      <td>compact</td>\n",
              "    </tr>\n",
              "    <tr>\n",
              "      <th>3</th>\n",
              "      <td>audi</td>\n",
              "      <td>a4</td>\n",
              "      <td>2.0</td>\n",
              "      <td>2008</td>\n",
              "      <td>4</td>\n",
              "      <td>auto(av)</td>\n",
              "      <td>f</td>\n",
              "      <td>21</td>\n",
              "      <td>30</td>\n",
              "      <td>p</td>\n",
              "      <td>compact</td>\n",
              "    </tr>\n",
              "    <tr>\n",
              "      <th>4</th>\n",
              "      <td>audi</td>\n",
              "      <td>a4</td>\n",
              "      <td>2.8</td>\n",
              "      <td>1999</td>\n",
              "      <td>6</td>\n",
              "      <td>auto(l5)</td>\n",
              "      <td>f</td>\n",
              "      <td>16</td>\n",
              "      <td>26</td>\n",
              "      <td>p</td>\n",
              "      <td>compact</td>\n",
              "    </tr>\n",
              "    <tr>\n",
              "      <th>...</th>\n",
              "      <td>...</td>\n",
              "      <td>...</td>\n",
              "      <td>...</td>\n",
              "      <td>...</td>\n",
              "      <td>...</td>\n",
              "      <td>...</td>\n",
              "      <td>...</td>\n",
              "      <td>...</td>\n",
              "      <td>...</td>\n",
              "      <td>...</td>\n",
              "      <td>...</td>\n",
              "    </tr>\n",
              "    <tr>\n",
              "      <th>229</th>\n",
              "      <td>volkswagen</td>\n",
              "      <td>passat</td>\n",
              "      <td>2.0</td>\n",
              "      <td>2008</td>\n",
              "      <td>4</td>\n",
              "      <td>auto(s6)</td>\n",
              "      <td>f</td>\n",
              "      <td>19</td>\n",
              "      <td>28</td>\n",
              "      <td>p</td>\n",
              "      <td>midsize</td>\n",
              "    </tr>\n",
              "    <tr>\n",
              "      <th>230</th>\n",
              "      <td>volkswagen</td>\n",
              "      <td>passat</td>\n",
              "      <td>2.0</td>\n",
              "      <td>2008</td>\n",
              "      <td>4</td>\n",
              "      <td>manual(m6)</td>\n",
              "      <td>f</td>\n",
              "      <td>21</td>\n",
              "      <td>29</td>\n",
              "      <td>p</td>\n",
              "      <td>midsize</td>\n",
              "    </tr>\n",
              "    <tr>\n",
              "      <th>231</th>\n",
              "      <td>volkswagen</td>\n",
              "      <td>passat</td>\n",
              "      <td>2.8</td>\n",
              "      <td>1999</td>\n",
              "      <td>6</td>\n",
              "      <td>auto(l5)</td>\n",
              "      <td>f</td>\n",
              "      <td>16</td>\n",
              "      <td>26</td>\n",
              "      <td>p</td>\n",
              "      <td>midsize</td>\n",
              "    </tr>\n",
              "    <tr>\n",
              "      <th>232</th>\n",
              "      <td>volkswagen</td>\n",
              "      <td>passat</td>\n",
              "      <td>2.8</td>\n",
              "      <td>1999</td>\n",
              "      <td>6</td>\n",
              "      <td>manual(m5)</td>\n",
              "      <td>f</td>\n",
              "      <td>18</td>\n",
              "      <td>26</td>\n",
              "      <td>p</td>\n",
              "      <td>midsize</td>\n",
              "    </tr>\n",
              "    <tr>\n",
              "      <th>233</th>\n",
              "      <td>volkswagen</td>\n",
              "      <td>passat</td>\n",
              "      <td>3.6</td>\n",
              "      <td>2008</td>\n",
              "      <td>6</td>\n",
              "      <td>auto(s6)</td>\n",
              "      <td>f</td>\n",
              "      <td>17</td>\n",
              "      <td>26</td>\n",
              "      <td>p</td>\n",
              "      <td>midsize</td>\n",
              "    </tr>\n",
              "  </tbody>\n",
              "</table>\n",
              "<p>234 rows × 11 columns</p>\n",
              "</div>"
            ],
            "text/plain": [
              "    manufacturer   model  displ  year  cyl       trans drv  cty  hwy fl  \\\n",
              "0           audi      a4    1.8  1999    4    auto(l5)   f   18   29  p   \n",
              "1           audi      a4    1.8  1999    4  manual(m5)   f   21   29  p   \n",
              "2           audi      a4    2.0  2008    4  manual(m6)   f   20   31  p   \n",
              "3           audi      a4    2.0  2008    4    auto(av)   f   21   30  p   \n",
              "4           audi      a4    2.8  1999    6    auto(l5)   f   16   26  p   \n",
              "..           ...     ...    ...   ...  ...         ...  ..  ...  ... ..   \n",
              "229   volkswagen  passat    2.0  2008    4    auto(s6)   f   19   28  p   \n",
              "230   volkswagen  passat    2.0  2008    4  manual(m6)   f   21   29  p   \n",
              "231   volkswagen  passat    2.8  1999    6    auto(l5)   f   16   26  p   \n",
              "232   volkswagen  passat    2.8  1999    6  manual(m5)   f   18   26  p   \n",
              "233   volkswagen  passat    3.6  2008    6    auto(s6)   f   17   26  p   \n",
              "\n",
              "    category  \n",
              "0    compact  \n",
              "1    compact  \n",
              "2    compact  \n",
              "3    compact  \n",
              "4    compact  \n",
              "..       ...  \n",
              "229  midsize  \n",
              "230  midsize  \n",
              "231  midsize  \n",
              "232  midsize  \n",
              "233  midsize  \n",
              "\n",
              "[234 rows x 11 columns]"
            ]
          },
          "execution_count": 53,
          "metadata": {},
          "output_type": "execute_result"
        }
      ],
      "source": [
        "mpg"
      ]
    },
    {
      "cell_type": "code",
      "execution_count": null,
      "metadata": {
        "id": "lakOKW6wv7hD"
      },
      "outputs": [],
      "source": [
        "import seaborn as sns"
      ]
    },
    {
      "cell_type": "code",
      "execution_count": null,
      "metadata": {
        "id": "ek40fh9ev7hD",
        "outputId": "bb40e58a-7d95-4422-ce07-326c3622ca37"
      },
      "outputs": [
        {
          "data": {
            "text/plain": [
              "<matplotlib.axes._subplots.AxesSubplot at 0x7f98a57cddd0>"
            ]
          },
          "execution_count": 56,
          "metadata": {},
          "output_type": "execute_result"
        },
        {
          "data": {
            "image/png": "[encoded data removed]",
            "text/plain": [
              "<Figure size 432x288 with 1 Axes>"
            ]
          },
          "metadata": {
            "needs_background": "light"
          },
          "output_type": "display_data"
        }
      ],
      "source": [
        "sns.boxplot(data=mpg,y='cty') #숫자형데이터만 확인이 가능하다."
      ]
    },
    {
      "cell_type": "markdown",
      "metadata": {
        "id": "5MbQQbZDv7hD"
      },
      "source": [
        "- 상자 아래 세로선 극단치 경계 (이상치를 판단하는 기준)\n",
        "- 그 위에 l 아랫수염 0~25% 내에 해당하는 값\n",
        "- 네모난 상자의 밑면 1사분위수 Q1 (하위 25% 위치 값)\n",
        "- 네모난 상자 안의 선은 2사분위수 Q2( 중앙값 50%)\n",
        "- 네모난 상자 위의 면은 3사분위수 Q3( 하위 75% 값)\n",
        "- 윗수염은 75~100% 위치하는 값\n",
        "- 극단치 경계 맨 위 기준\n",
        "- 상자 밖의 점들이 극단치  ( Q1, Q3 밖 1.5 IQR 넘어간 값)"
      ]
    },
    {
      "cell_type": "markdown",
      "metadata": {
        "id": "PW_AyETWv7hE"
      },
      "source": [
        "### IQR 극단치 기준값 구해보기!\n",
        "- 분위수를 만들어야 함\n",
        "- quantile() 사용"
      ]
    },
    {
      "cell_type": "code",
      "execution_count": null,
      "metadata": {
        "id": "rD1zSSmwv7hE"
      },
      "outputs": [],
      "source": [
        "p25 = mpg['cty'].quantile(0.25)"
      ]
    },
    {
      "cell_type": "code",
      "execution_count": null,
      "metadata": {
        "id": "cPStW1S4v7hE",
        "outputId": "521f06c1-e407-4abf-9fc3-3253e40477c5"
      },
      "outputs": [
        {
          "data": {
            "text/plain": [
              "14.0"
            ]
          },
          "execution_count": 58,
          "metadata": {},
          "output_type": "execute_result"
        }
      ],
      "source": [
        "p25"
      ]
    },
    {
      "cell_type": "code",
      "execution_count": null,
      "metadata": {
        "id": "CeVP5Y85v7hE"
      },
      "outputs": [],
      "source": [
        "p75 = mpg['cty'].quantile(0.75)"
      ]
    },
    {
      "cell_type": "code",
      "execution_count": null,
      "metadata": {
        "id": "TfKaJG5ov7hF",
        "outputId": "3c81612f-5b1c-4d1f-8129-3346c806e7d8"
      },
      "outputs": [
        {
          "data": {
            "text/plain": [
              "19.0"
            ]
          },
          "execution_count": 60,
          "metadata": {},
          "output_type": "execute_result"
        }
      ],
      "source": [
        "p75"
      ]
    },
    {
      "cell_type": "markdown",
      "metadata": {
        "id": "XOwiPPNgv7hF"
      },
      "source": [
        "iqr은 1사분위수와 3사분위수의 거리를 나타낸 것 "
      ]
    },
    {
      "cell_type": "code",
      "execution_count": null,
      "metadata": {
        "id": "kf_ufklQv7hF"
      },
      "outputs": [],
      "source": [
        "iqr = p75- p25 "
      ]
    },
    {
      "cell_type": "code",
      "execution_count": null,
      "metadata": {
        "id": "RflsI19xv7hF",
        "outputId": "56a60fc9-7611-44d0-e2f1-364737cf8790"
      },
      "outputs": [
        {
          "data": {
            "text/plain": [
              "5.0"
            ]
          },
          "execution_count": 62,
          "metadata": {},
          "output_type": "execute_result"
        }
      ],
      "source": [
        "iqr"
      ]
    },
    {
      "cell_type": "markdown",
      "metadata": {
        "id": "nCYbPhOxv7hF"
      },
      "source": [
        "- IQR이 나오는 공식\n",
        "- Q1, Q3 이용해서 만든다.\n",
        "\n",
        "- 아래 하한선은 p25 - 1.5*iqr\n",
        "- 위의 상한선은 p75 + 1.5*iqr"
      ]
    },
    {
      "cell_type": "code",
      "execution_count": null,
      "metadata": {
        "id": "Lr2tQCFjv7hG",
        "outputId": "0a0413e4-fb77-4341-d462-0c9139133830"
      },
      "outputs": [
        {
          "data": {
            "text/plain": [
              "6.5"
            ]
          },
          "execution_count": 63,
          "metadata": {},
          "output_type": "execute_result"
        }
      ],
      "source": [
        "p25 - 1.5*iqr # 아래 하한선"
      ]
    },
    {
      "cell_type": "code",
      "execution_count": null,
      "metadata": {
        "id": "6G8ki6x9v7hG",
        "outputId": "164facee-a9f8-4b42-be4b-a1b73b895621"
      },
      "outputs": [
        {
          "data": {
            "text/plain": [
              "26.5"
            ]
          },
          "execution_count": 65,
          "metadata": {},
          "output_type": "execute_result"
        }
      ],
      "source": [
        "p75 + 1.5*iqr # 위의 상한선"
      ]
    },
    {
      "cell_type": "code",
      "execution_count": null,
      "metadata": {
        "id": "BXxeYDmKv7hG",
        "outputId": "3cc182b5-380d-4272-b11f-3430b4e54898"
      },
      "outputs": [
        {
          "data": {
            "text/plain": [
              "(array([ 99, 196, 212, 221, 222]),)"
            ]
          },
          "execution_count": 66,
          "metadata": {},
          "output_type": "execute_result"
        }
      ],
      "source": [
        "np.where((mpg['cty'] <6.5)| (mpg['cty']>26.5))"
      ]
    },
    {
      "cell_type": "code",
      "execution_count": null,
      "metadata": {
        "id": "BNmJFrhrv7hG"
      },
      "outputs": [],
      "source": [
        "mpg['cty']=np.where((mpg['cty'] <6.5)| (mpg['cty']>26.5), np.nan, mpg['cty'])"
      ]
    },
    {
      "cell_type": "code",
      "execution_count": null,
      "metadata": {
        "id": "y7Ns9L0-v7hG",
        "outputId": "655cff00-091d-45dc-d583-f1ba7b5e934e"
      },
      "outputs": [
        {
          "data": {
            "text/plain": [
              "manufacturer    0\n",
              "model           0\n",
              "displ           0\n",
              "year            0\n",
              "cyl             0\n",
              "trans           0\n",
              "drv             0\n",
              "cty             5\n",
              "hwy             0\n",
              "fl              0\n",
              "category        0\n",
              "dtype: int64"
            ]
          },
          "execution_count": 70,
          "metadata": {},
          "output_type": "execute_result"
        }
      ],
      "source": [
        "mpg.isna().sum()"
      ]
    },
    {
      "cell_type": "code",
      "execution_count": null,
      "metadata": {
        "id": "OUgZC0G1v7hH"
      },
      "outputs": [],
      "source": [
        "mpg_1=mpg.dropna()"
      ]
    },
    {
      "cell_type": "code",
      "execution_count": null,
      "metadata": {
        "id": "bto_X7wfv7hH",
        "outputId": "a658a2fa-a123-41d6-c3e4-9ebd92f20b83"
      },
      "outputs": [
        {
          "data": {
            "text/plain": [
              "manufacturer    0\n",
              "model           0\n",
              "displ           0\n",
              "year            0\n",
              "cyl             0\n",
              "trans           0\n",
              "drv             0\n",
              "cty             0\n",
              "hwy             0\n",
              "fl              0\n",
              "category        0\n",
              "dtype: int64"
            ]
          },
          "execution_count": 73,
          "metadata": {},
          "output_type": "execute_result"
        }
      ],
      "source": [
        "mpg_1.isna().sum()"
      ]
    },
    {
      "cell_type": "code",
      "execution_count": null,
      "metadata": {
        "id": "t32pCYLMv7hH",
        "outputId": "135bef83-6736-4c48-f4a5-61857bd8f85f"
      },
      "outputs": [
        {
          "data": {
            "text/plain": [
              "<matplotlib.axes._subplots.AxesSubplot at 0x7f98a58e9790>"
            ]
          },
          "execution_count": 74,
          "metadata": {},
          "output_type": "execute_result"
        },
        {
          "data": {
            "image/png": "[encoded data removed]",
            "text/plain": [
              "<Figure size 432x288 with 1 Axes>"
            ]
          },
          "metadata": {
            "needs_background": "light"
          },
          "output_type": "display_data"
        }
      ],
      "source": [
        "sns.boxplot(data=mpg_1,y='cty')"
      ]
    },
    {
      "cell_type": "code",
      "execution_count": null,
      "metadata": {
        "id": "AIRXdjXvv7hH",
        "outputId": "667c04a9-8417-4d71-c9e0-795cd62ebaed"
      },
      "outputs": [
        {
          "data": {
            "text/plain": [
              "16.558951965065503"
            ]
          },
          "execution_count": 76,
          "metadata": {},
          "output_type": "execute_result"
        }
      ],
      "source": [
        "mpg_1.cty.mean() #이상치 제거 후"
      ]
    },
    {
      "cell_type": "code",
      "execution_count": null,
      "metadata": {
        "id": "HdbZWe3Qv7hH",
        "outputId": "604b3118-5006-4a2d-b006-b693d7746638"
      },
      "outputs": [
        {
          "data": {
            "text/plain": [
              "16.858974358974358"
            ]
          },
          "execution_count": 78,
          "metadata": {},
          "output_type": "execute_result"
        }
      ],
      "source": [
        "mpg.cty.mean() #이상치 제거 전"
      ]
    },
    {
      "cell_type": "markdown",
      "metadata": {
        "id": "QKR6qYeev7hI"
      },
      "source": [
        "- 전처리를 다 진행한 후에 모델링을 진행할 때 이런 작은 차이들이 실제 모델링에서는 큰 영향을 줄 수 있다.\n",
        "- 스케일링 등의 진행을 하는 이유도 -> 데이터에 대한 편차를 최소화해서 모델에게 학습시키 위함"
      ]
    },
    {
      "cell_type": "markdown",
      "metadata": {
        "id": "37cP_lL2v7hI"
      },
      "source": [
        "### loc iloc\n",
        "- 기존에 배울 때 컬럼을 이용해서 추출"
      ]
    },
    {
      "cell_type": "code",
      "execution_count": null,
      "metadata": {
        "id": "bdeVKH3Lv7hI",
        "outputId": "7351c48c-e935-4ab6-c138-22600465cc3f"
      },
      "outputs": [
        {
          "data": {
            "text/plain": [
              "0      18\n",
              "1      21\n",
              "2      20\n",
              "3      21\n",
              "4      16\n",
              "       ..\n",
              "229    19\n",
              "230    21\n",
              "231    16\n",
              "232    18\n",
              "233    17\n",
              "Name: cty, Length: 234, dtype: int64"
            ]
          },
          "execution_count": 79,
          "metadata": {},
          "output_type": "execute_result"
        }
      ],
      "source": [
        "mpg['cty'] #컬럼을 이용해서 추출"
      ]
    },
    {
      "cell_type": "markdown",
      "metadata": {
        "id": "XULwTOUdv7hI"
      },
      "source": [
        "### 행단위 추출을 할 경우?\n",
        "- query는 조건문을 이용해서 추출하는 것\n",
        "- loc, iloc은 인덱스 기준으로 추출하는 것\n",
        "\n",
        "- loc : 인덱스 기준으로 행 데이터 추출\n",
        "- iloc : 행 번호 기준으로 행 데이터 추출"
      ]
    },
    {
      "cell_type": "code",
      "execution_count": null,
      "metadata": {
        "id": "lNxi4rH2v7hI",
        "outputId": "aeaf2cad-bc31-47b5-84de-674d3266d726"
      },
      "outputs": [
        {
          "data": {
            "text/html": [
              "<div>\n",
              "<style scoped>\n",
              "    .dataframe tbody tr th:only-of-type {\n",
              "        vertical-align: middle;\n",
              "    }\n",
              "\n",
              "    .dataframe tbody tr th {\n",
              "        vertical-align: top;\n",
              "    }\n",
              "\n",
              "    .dataframe thead th {\n",
              "        text-align: right;\n",
              "    }\n",
              "</style>\n",
              "<table border=\"1\" class=\"dataframe\">\n",
              "  <thead>\n",
              "    <tr style=\"text-align: right;\">\n",
              "      <th></th>\n",
              "      <th>manufacturer</th>\n",
              "      <th>model</th>\n",
              "      <th>displ</th>\n",
              "      <th>year</th>\n",
              "      <th>cyl</th>\n",
              "      <th>trans</th>\n",
              "      <th>drv</th>\n",
              "      <th>cty</th>\n",
              "      <th>hwy</th>\n",
              "      <th>fl</th>\n",
              "      <th>category</th>\n",
              "    </tr>\n",
              "  </thead>\n",
              "  <tbody>\n",
              "    <tr>\n",
              "      <th>0</th>\n",
              "      <td>audi</td>\n",
              "      <td>a4</td>\n",
              "      <td>1.8</td>\n",
              "      <td>1999</td>\n",
              "      <td>4</td>\n",
              "      <td>auto(l5)</td>\n",
              "      <td>f</td>\n",
              "      <td>18</td>\n",
              "      <td>29</td>\n",
              "      <td>p</td>\n",
              "      <td>compact</td>\n",
              "    </tr>\n",
              "    <tr>\n",
              "      <th>1</th>\n",
              "      <td>audi</td>\n",
              "      <td>a4</td>\n",
              "      <td>1.8</td>\n",
              "      <td>1999</td>\n",
              "      <td>4</td>\n",
              "      <td>manual(m5)</td>\n",
              "      <td>f</td>\n",
              "      <td>21</td>\n",
              "      <td>29</td>\n",
              "      <td>p</td>\n",
              "      <td>compact</td>\n",
              "    </tr>\n",
              "    <tr>\n",
              "      <th>2</th>\n",
              "      <td>audi</td>\n",
              "      <td>a4</td>\n",
              "      <td>2.0</td>\n",
              "      <td>2008</td>\n",
              "      <td>4</td>\n",
              "      <td>manual(m6)</td>\n",
              "      <td>f</td>\n",
              "      <td>20</td>\n",
              "      <td>31</td>\n",
              "      <td>p</td>\n",
              "      <td>compact</td>\n",
              "    </tr>\n",
              "    <tr>\n",
              "      <th>3</th>\n",
              "      <td>audi</td>\n",
              "      <td>a4</td>\n",
              "      <td>2.0</td>\n",
              "      <td>2008</td>\n",
              "      <td>4</td>\n",
              "      <td>auto(av)</td>\n",
              "      <td>f</td>\n",
              "      <td>21</td>\n",
              "      <td>30</td>\n",
              "      <td>p</td>\n",
              "      <td>compact</td>\n",
              "    </tr>\n",
              "    <tr>\n",
              "      <th>4</th>\n",
              "      <td>audi</td>\n",
              "      <td>a4</td>\n",
              "      <td>2.8</td>\n",
              "      <td>1999</td>\n",
              "      <td>6</td>\n",
              "      <td>auto(l5)</td>\n",
              "      <td>f</td>\n",
              "      <td>16</td>\n",
              "      <td>26</td>\n",
              "      <td>p</td>\n",
              "      <td>compact</td>\n",
              "    </tr>\n",
              "    <tr>\n",
              "      <th>...</th>\n",
              "      <td>...</td>\n",
              "      <td>...</td>\n",
              "      <td>...</td>\n",
              "      <td>...</td>\n",
              "      <td>...</td>\n",
              "      <td>...</td>\n",
              "      <td>...</td>\n",
              "      <td>...</td>\n",
              "      <td>...</td>\n",
              "      <td>...</td>\n",
              "      <td>...</td>\n",
              "    </tr>\n",
              "    <tr>\n",
              "      <th>229</th>\n",
              "      <td>volkswagen</td>\n",
              "      <td>passat</td>\n",
              "      <td>2.0</td>\n",
              "      <td>2008</td>\n",
              "      <td>4</td>\n",
              "      <td>auto(s6)</td>\n",
              "      <td>f</td>\n",
              "      <td>19</td>\n",
              "      <td>28</td>\n",
              "      <td>p</td>\n",
              "      <td>midsize</td>\n",
              "    </tr>\n",
              "    <tr>\n",
              "      <th>230</th>\n",
              "      <td>volkswagen</td>\n",
              "      <td>passat</td>\n",
              "      <td>2.0</td>\n",
              "      <td>2008</td>\n",
              "      <td>4</td>\n",
              "      <td>manual(m6)</td>\n",
              "      <td>f</td>\n",
              "      <td>21</td>\n",
              "      <td>29</td>\n",
              "      <td>p</td>\n",
              "      <td>midsize</td>\n",
              "    </tr>\n",
              "    <tr>\n",
              "      <th>231</th>\n",
              "      <td>volkswagen</td>\n",
              "      <td>passat</td>\n",
              "      <td>2.8</td>\n",
              "      <td>1999</td>\n",
              "      <td>6</td>\n",
              "      <td>auto(l5)</td>\n",
              "      <td>f</td>\n",
              "      <td>16</td>\n",
              "      <td>26</td>\n",
              "      <td>p</td>\n",
              "      <td>midsize</td>\n",
              "    </tr>\n",
              "    <tr>\n",
              "      <th>232</th>\n",
              "      <td>volkswagen</td>\n",
              "      <td>passat</td>\n",
              "      <td>2.8</td>\n",
              "      <td>1999</td>\n",
              "      <td>6</td>\n",
              "      <td>manual(m5)</td>\n",
              "      <td>f</td>\n",
              "      <td>18</td>\n",
              "      <td>26</td>\n",
              "      <td>p</td>\n",
              "      <td>midsize</td>\n",
              "    </tr>\n",
              "    <tr>\n",
              "      <th>233</th>\n",
              "      <td>volkswagen</td>\n",
              "      <td>passat</td>\n",
              "      <td>3.6</td>\n",
              "      <td>2008</td>\n",
              "      <td>6</td>\n",
              "      <td>auto(s6)</td>\n",
              "      <td>f</td>\n",
              "      <td>17</td>\n",
              "      <td>26</td>\n",
              "      <td>p</td>\n",
              "      <td>midsize</td>\n",
              "    </tr>\n",
              "  </tbody>\n",
              "</table>\n",
              "<p>234 rows × 11 columns</p>\n",
              "</div>"
            ],
            "text/plain": [
              "    manufacturer   model  displ  year  cyl       trans drv  cty  hwy fl  \\\n",
              "0           audi      a4    1.8  1999    4    auto(l5)   f   18   29  p   \n",
              "1           audi      a4    1.8  1999    4  manual(m5)   f   21   29  p   \n",
              "2           audi      a4    2.0  2008    4  manual(m6)   f   20   31  p   \n",
              "3           audi      a4    2.0  2008    4    auto(av)   f   21   30  p   \n",
              "4           audi      a4    2.8  1999    6    auto(l5)   f   16   26  p   \n",
              "..           ...     ...    ...   ...  ...         ...  ..  ...  ... ..   \n",
              "229   volkswagen  passat    2.0  2008    4    auto(s6)   f   19   28  p   \n",
              "230   volkswagen  passat    2.0  2008    4  manual(m6)   f   21   29  p   \n",
              "231   volkswagen  passat    2.8  1999    6    auto(l5)   f   16   26  p   \n",
              "232   volkswagen  passat    2.8  1999    6  manual(m5)   f   18   26  p   \n",
              "233   volkswagen  passat    3.6  2008    6    auto(s6)   f   17   26  p   \n",
              "\n",
              "    category  \n",
              "0    compact  \n",
              "1    compact  \n",
              "2    compact  \n",
              "3    compact  \n",
              "4    compact  \n",
              "..       ...  \n",
              "229  midsize  \n",
              "230  midsize  \n",
              "231  midsize  \n",
              "232  midsize  \n",
              "233  midsize  \n",
              "\n",
              "[234 rows x 11 columns]"
            ]
          },
          "execution_count": 81,
          "metadata": {},
          "output_type": "execute_result"
        }
      ],
      "source": [
        "mpg"
      ]
    },
    {
      "cell_type": "code",
      "execution_count": null,
      "metadata": {
        "id": "-Tl-CvhTv7hI",
        "outputId": "29b15ec0-8e50-49dc-bc92-8bfb6278187a"
      },
      "outputs": [
        {
          "data": {
            "text/plain": [
              "manufacturer        audi\n",
              "model                 a4\n",
              "displ                1.8\n",
              "year                1999\n",
              "cyl                    4\n",
              "trans           auto(l5)\n",
              "drv                    f\n",
              "cty                   18\n",
              "hwy                   29\n",
              "fl                     p\n",
              "category         compact\n",
              "Name: 0, dtype: object"
            ]
          },
          "execution_count": 80,
          "metadata": {},
          "output_type": "execute_result"
        }
      ],
      "source": [
        "mpg.loc[0] #인덱스기준 값 추출"
      ]
    },
    {
      "cell_type": "code",
      "execution_count": null,
      "metadata": {
        "id": "QTlZpb5bv7hJ",
        "outputId": "76252f81-aca4-4a49-b4cd-a14e8bd35707"
      },
      "outputs": [
        {
          "data": {
            "text/html": [
              "<div>\n",
              "<style scoped>\n",
              "    .dataframe tbody tr th:only-of-type {\n",
              "        vertical-align: middle;\n",
              "    }\n",
              "\n",
              "    .dataframe tbody tr th {\n",
              "        vertical-align: top;\n",
              "    }\n",
              "\n",
              "    .dataframe thead th {\n",
              "        text-align: right;\n",
              "    }\n",
              "</style>\n",
              "<table border=\"1\" class=\"dataframe\">\n",
              "  <thead>\n",
              "    <tr style=\"text-align: right;\">\n",
              "      <th></th>\n",
              "      <th>manufacturer</th>\n",
              "      <th>model</th>\n",
              "      <th>displ</th>\n",
              "      <th>year</th>\n",
              "      <th>cyl</th>\n",
              "      <th>trans</th>\n",
              "      <th>drv</th>\n",
              "      <th>cty</th>\n",
              "      <th>hwy</th>\n",
              "      <th>fl</th>\n",
              "      <th>category</th>\n",
              "    </tr>\n",
              "  </thead>\n",
              "  <tbody>\n",
              "    <tr>\n",
              "      <th>0</th>\n",
              "      <td>audi</td>\n",
              "      <td>a4</td>\n",
              "      <td>1.8</td>\n",
              "      <td>1999</td>\n",
              "      <td>4</td>\n",
              "      <td>auto(l5)</td>\n",
              "      <td>f</td>\n",
              "      <td>18</td>\n",
              "      <td>29</td>\n",
              "      <td>p</td>\n",
              "      <td>compact</td>\n",
              "    </tr>\n",
              "    <tr>\n",
              "      <th>1</th>\n",
              "      <td>audi</td>\n",
              "      <td>a4</td>\n",
              "      <td>1.8</td>\n",
              "      <td>1999</td>\n",
              "      <td>4</td>\n",
              "      <td>manual(m5)</td>\n",
              "      <td>f</td>\n",
              "      <td>21</td>\n",
              "      <td>29</td>\n",
              "      <td>p</td>\n",
              "      <td>compact</td>\n",
              "    </tr>\n",
              "    <tr>\n",
              "      <th>2</th>\n",
              "      <td>audi</td>\n",
              "      <td>a4</td>\n",
              "      <td>2.0</td>\n",
              "      <td>2008</td>\n",
              "      <td>4</td>\n",
              "      <td>manual(m6)</td>\n",
              "      <td>f</td>\n",
              "      <td>20</td>\n",
              "      <td>31</td>\n",
              "      <td>p</td>\n",
              "      <td>compact</td>\n",
              "    </tr>\n",
              "  </tbody>\n",
              "</table>\n",
              "</div>"
            ],
            "text/plain": [
              "  manufacturer model  displ  year  cyl       trans drv  cty  hwy fl category\n",
              "0         audi    a4    1.8  1999    4    auto(l5)   f   18   29  p  compact\n",
              "1         audi    a4    1.8  1999    4  manual(m5)   f   21   29  p  compact\n",
              "2         audi    a4    2.0  2008    4  manual(m6)   f   20   31  p  compact"
            ]
          },
          "execution_count": 82,
          "metadata": {},
          "output_type": "execute_result"
        }
      ],
      "source": [
        "mpg.loc[[0,1,2]]"
      ]
    },
    {
      "cell_type": "markdown",
      "metadata": {
        "id": "chsLaaznv7hJ"
      },
      "source": [
        "- iloc은?"
      ]
    },
    {
      "cell_type": "code",
      "execution_count": null,
      "metadata": {
        "id": "kh1jLE1xv7hJ",
        "outputId": "df4dc62f-9e45-40b4-d50d-d258da74c75c"
      },
      "outputs": [
        {
          "data": {
            "text/plain": [
              "manufacturer        audi\n",
              "model                 a4\n",
              "displ                1.8\n",
              "year                1999\n",
              "cyl                    4\n",
              "trans           auto(l5)\n",
              "drv                    f\n",
              "cty                   18\n",
              "hwy                   29\n",
              "fl                     p\n",
              "category         compact\n",
              "Name: 0, dtype: object"
            ]
          },
          "execution_count": 83,
          "metadata": {},
          "output_type": "execute_result"
        }
      ],
      "source": [
        "mpg.iloc[0]"
      ]
    },
    {
      "cell_type": "code",
      "execution_count": null,
      "metadata": {
        "id": "-KqUIOgnv7hJ",
        "outputId": "6431a082-5f3d-41d9-afad-237bc52be47f"
      },
      "outputs": [
        {
          "data": {
            "text/html": [
              "<div>\n",
              "<style scoped>\n",
              "    .dataframe tbody tr th:only-of-type {\n",
              "        vertical-align: middle;\n",
              "    }\n",
              "\n",
              "    .dataframe tbody tr th {\n",
              "        vertical-align: top;\n",
              "    }\n",
              "\n",
              "    .dataframe thead th {\n",
              "        text-align: right;\n",
              "    }\n",
              "</style>\n",
              "<table border=\"1\" class=\"dataframe\">\n",
              "  <thead>\n",
              "    <tr style=\"text-align: right;\">\n",
              "      <th></th>\n",
              "      <th>manufacturer</th>\n",
              "      <th>model</th>\n",
              "      <th>displ</th>\n",
              "      <th>year</th>\n",
              "      <th>cyl</th>\n",
              "      <th>trans</th>\n",
              "      <th>drv</th>\n",
              "      <th>cty</th>\n",
              "      <th>hwy</th>\n",
              "      <th>fl</th>\n",
              "      <th>category</th>\n",
              "    </tr>\n",
              "  </thead>\n",
              "  <tbody>\n",
              "    <tr>\n",
              "      <th>0</th>\n",
              "      <td>audi</td>\n",
              "      <td>a4</td>\n",
              "      <td>1.8</td>\n",
              "      <td>1999</td>\n",
              "      <td>4</td>\n",
              "      <td>auto(l5)</td>\n",
              "      <td>f</td>\n",
              "      <td>18</td>\n",
              "      <td>29</td>\n",
              "      <td>p</td>\n",
              "      <td>compact</td>\n",
              "    </tr>\n",
              "    <tr>\n",
              "      <th>1</th>\n",
              "      <td>audi</td>\n",
              "      <td>a4</td>\n",
              "      <td>1.8</td>\n",
              "      <td>1999</td>\n",
              "      <td>4</td>\n",
              "      <td>manual(m5)</td>\n",
              "      <td>f</td>\n",
              "      <td>21</td>\n",
              "      <td>29</td>\n",
              "      <td>p</td>\n",
              "      <td>compact</td>\n",
              "    </tr>\n",
              "    <tr>\n",
              "      <th>2</th>\n",
              "      <td>audi</td>\n",
              "      <td>a4</td>\n",
              "      <td>2.0</td>\n",
              "      <td>2008</td>\n",
              "      <td>4</td>\n",
              "      <td>manual(m6)</td>\n",
              "      <td>f</td>\n",
              "      <td>20</td>\n",
              "      <td>31</td>\n",
              "      <td>p</td>\n",
              "      <td>compact</td>\n",
              "    </tr>\n",
              "  </tbody>\n",
              "</table>\n",
              "</div>"
            ],
            "text/plain": [
              "  manufacturer model  displ  year  cyl       trans drv  cty  hwy fl category\n",
              "0         audi    a4    1.8  1999    4    auto(l5)   f   18   29  p  compact\n",
              "1         audi    a4    1.8  1999    4  manual(m5)   f   21   29  p  compact\n",
              "2         audi    a4    2.0  2008    4  manual(m6)   f   20   31  p  compact"
            ]
          },
          "execution_count": 84,
          "metadata": {},
          "output_type": "execute_result"
        }
      ],
      "source": [
        "mpg.iloc[[0,1,2]]"
      ]
    },
    {
      "cell_type": "markdown",
      "metadata": {
        "id": "_6Lcj6glv7hK"
      },
      "source": [
        "loc과 iloc 비교"
      ]
    },
    {
      "cell_type": "code",
      "execution_count": null,
      "metadata": {
        "id": "1a1m4J93v7hK"
      },
      "outputs": [],
      "source": [
        "mpg_sp =mpg.loc[[0,2,4,6,8]]"
      ]
    },
    {
      "cell_type": "code",
      "execution_count": null,
      "metadata": {
        "id": "Cl0Uy6sKv7hK",
        "outputId": "8ff3f7cd-1c93-4aac-e08b-8a299c1c8728"
      },
      "outputs": [
        {
          "data": {
            "text/html": [
              "<div>\n",
              "<style scoped>\n",
              "    .dataframe tbody tr th:only-of-type {\n",
              "        vertical-align: middle;\n",
              "    }\n",
              "\n",
              "    .dataframe tbody tr th {\n",
              "        vertical-align: top;\n",
              "    }\n",
              "\n",
              "    .dataframe thead th {\n",
              "        text-align: right;\n",
              "    }\n",
              "</style>\n",
              "<table border=\"1\" class=\"dataframe\">\n",
              "  <thead>\n",
              "    <tr style=\"text-align: right;\">\n",
              "      <th></th>\n",
              "      <th>manufacturer</th>\n",
              "      <th>model</th>\n",
              "      <th>displ</th>\n",
              "      <th>year</th>\n",
              "      <th>cyl</th>\n",
              "      <th>trans</th>\n",
              "      <th>drv</th>\n",
              "      <th>cty</th>\n",
              "      <th>hwy</th>\n",
              "      <th>fl</th>\n",
              "      <th>category</th>\n",
              "    </tr>\n",
              "  </thead>\n",
              "  <tbody>\n",
              "    <tr>\n",
              "      <th>0</th>\n",
              "      <td>audi</td>\n",
              "      <td>a4</td>\n",
              "      <td>1.8</td>\n",
              "      <td>1999</td>\n",
              "      <td>4</td>\n",
              "      <td>auto(l5)</td>\n",
              "      <td>f</td>\n",
              "      <td>18</td>\n",
              "      <td>29</td>\n",
              "      <td>p</td>\n",
              "      <td>compact</td>\n",
              "    </tr>\n",
              "    <tr>\n",
              "      <th>2</th>\n",
              "      <td>audi</td>\n",
              "      <td>a4</td>\n",
              "      <td>2.0</td>\n",
              "      <td>2008</td>\n",
              "      <td>4</td>\n",
              "      <td>manual(m6)</td>\n",
              "      <td>f</td>\n",
              "      <td>20</td>\n",
              "      <td>31</td>\n",
              "      <td>p</td>\n",
              "      <td>compact</td>\n",
              "    </tr>\n",
              "    <tr>\n",
              "      <th>4</th>\n",
              "      <td>audi</td>\n",
              "      <td>a4</td>\n",
              "      <td>2.8</td>\n",
              "      <td>1999</td>\n",
              "      <td>6</td>\n",
              "      <td>auto(l5)</td>\n",
              "      <td>f</td>\n",
              "      <td>16</td>\n",
              "      <td>26</td>\n",
              "      <td>p</td>\n",
              "      <td>compact</td>\n",
              "    </tr>\n",
              "    <tr>\n",
              "      <th>6</th>\n",
              "      <td>audi</td>\n",
              "      <td>a4</td>\n",
              "      <td>3.1</td>\n",
              "      <td>2008</td>\n",
              "      <td>6</td>\n",
              "      <td>auto(av)</td>\n",
              "      <td>f</td>\n",
              "      <td>18</td>\n",
              "      <td>27</td>\n",
              "      <td>p</td>\n",
              "      <td>compact</td>\n",
              "    </tr>\n",
              "    <tr>\n",
              "      <th>8</th>\n",
              "      <td>audi</td>\n",
              "      <td>a4 quattro</td>\n",
              "      <td>1.8</td>\n",
              "      <td>1999</td>\n",
              "      <td>4</td>\n",
              "      <td>auto(l5)</td>\n",
              "      <td>4</td>\n",
              "      <td>16</td>\n",
              "      <td>25</td>\n",
              "      <td>p</td>\n",
              "      <td>compact</td>\n",
              "    </tr>\n",
              "  </tbody>\n",
              "</table>\n",
              "</div>"
            ],
            "text/plain": [
              "  manufacturer       model  displ  year  cyl       trans drv  cty  hwy fl  \\\n",
              "0         audi          a4    1.8  1999    4    auto(l5)   f   18   29  p   \n",
              "2         audi          a4    2.0  2008    4  manual(m6)   f   20   31  p   \n",
              "4         audi          a4    2.8  1999    6    auto(l5)   f   16   26  p   \n",
              "6         audi          a4    3.1  2008    6    auto(av)   f   18   27  p   \n",
              "8         audi  a4 quattro    1.8  1999    4    auto(l5)   4   16   25  p   \n",
              "\n",
              "  category  \n",
              "0  compact  \n",
              "2  compact  \n",
              "4  compact  \n",
              "6  compact  \n",
              "8  compact  "
            ]
          },
          "execution_count": 88,
          "metadata": {},
          "output_type": "execute_result"
        }
      ],
      "source": [
        "mpg_sp"
      ]
    },
    {
      "cell_type": "code",
      "execution_count": null,
      "metadata": {
        "scrolled": true,
        "id": "GiQRejehv7hK",
        "outputId": "7cb1141d-e1fa-4e02-88fe-3f67f62e55ba"
      },
      "outputs": [
        {
          "data": {
            "text/plain": [
              "manufacturer        audi\n",
              "model                 a4\n",
              "displ                2.8\n",
              "year                1999\n",
              "cyl                    6\n",
              "trans           auto(l5)\n",
              "drv                    f\n",
              "cty                   16\n",
              "hwy                   26\n",
              "fl                     p\n",
              "category         compact\n",
              "Name: 4, dtype: object"
            ]
          },
          "execution_count": 91,
          "metadata": {},
          "output_type": "execute_result"
        }
      ],
      "source": [
        "mpg_sp.loc[4] #인덱스기준 \n",
        "# loc은 인덱스의 값을 기준으로 지정할 수 있다. \n",
        "# loc 지정된 인덱스 번호 기준으로 가져온다."
      ]
    },
    {
      "cell_type": "code",
      "execution_count": null,
      "metadata": {
        "id": "2T52AyYav7hL",
        "outputId": "3d5003cb-7970-498f-f7eb-901cbda93a4a"
      },
      "outputs": [
        {
          "data": {
            "text/html": [
              "<div>\n",
              "<style scoped>\n",
              "    .dataframe tbody tr th:only-of-type {\n",
              "        vertical-align: middle;\n",
              "    }\n",
              "\n",
              "    .dataframe tbody tr th {\n",
              "        vertical-align: top;\n",
              "    }\n",
              "\n",
              "    .dataframe thead th {\n",
              "        text-align: right;\n",
              "    }\n",
              "</style>\n",
              "<table border=\"1\" class=\"dataframe\">\n",
              "  <thead>\n",
              "    <tr style=\"text-align: right;\">\n",
              "      <th></th>\n",
              "      <th>manufacturer</th>\n",
              "      <th>model</th>\n",
              "      <th>displ</th>\n",
              "      <th>year</th>\n",
              "      <th>cyl</th>\n",
              "      <th>trans</th>\n",
              "      <th>drv</th>\n",
              "      <th>cty</th>\n",
              "      <th>hwy</th>\n",
              "      <th>fl</th>\n",
              "      <th>category</th>\n",
              "    </tr>\n",
              "  </thead>\n",
              "  <tbody>\n",
              "    <tr>\n",
              "      <th>0</th>\n",
              "      <td>audi</td>\n",
              "      <td>a4</td>\n",
              "      <td>1.8</td>\n",
              "      <td>1999</td>\n",
              "      <td>4</td>\n",
              "      <td>auto(l5)</td>\n",
              "      <td>f</td>\n",
              "      <td>18</td>\n",
              "      <td>29</td>\n",
              "      <td>p</td>\n",
              "      <td>compact</td>\n",
              "    </tr>\n",
              "    <tr>\n",
              "      <th>2</th>\n",
              "      <td>audi</td>\n",
              "      <td>a4</td>\n",
              "      <td>2.0</td>\n",
              "      <td>2008</td>\n",
              "      <td>4</td>\n",
              "      <td>manual(m6)</td>\n",
              "      <td>f</td>\n",
              "      <td>20</td>\n",
              "      <td>31</td>\n",
              "      <td>p</td>\n",
              "      <td>compact</td>\n",
              "    </tr>\n",
              "    <tr>\n",
              "      <th>4</th>\n",
              "      <td>audi</td>\n",
              "      <td>a4</td>\n",
              "      <td>2.8</td>\n",
              "      <td>1999</td>\n",
              "      <td>6</td>\n",
              "      <td>auto(l5)</td>\n",
              "      <td>f</td>\n",
              "      <td>16</td>\n",
              "      <td>26</td>\n",
              "      <td>p</td>\n",
              "      <td>compact</td>\n",
              "    </tr>\n",
              "    <tr>\n",
              "      <th>6</th>\n",
              "      <td>audi</td>\n",
              "      <td>a4</td>\n",
              "      <td>3.1</td>\n",
              "      <td>2008</td>\n",
              "      <td>6</td>\n",
              "      <td>auto(av)</td>\n",
              "      <td>f</td>\n",
              "      <td>18</td>\n",
              "      <td>27</td>\n",
              "      <td>p</td>\n",
              "      <td>compact</td>\n",
              "    </tr>\n",
              "    <tr>\n",
              "      <th>8</th>\n",
              "      <td>audi</td>\n",
              "      <td>a4 quattro</td>\n",
              "      <td>1.8</td>\n",
              "      <td>1999</td>\n",
              "      <td>4</td>\n",
              "      <td>auto(l5)</td>\n",
              "      <td>4</td>\n",
              "      <td>16</td>\n",
              "      <td>25</td>\n",
              "      <td>p</td>\n",
              "      <td>compact</td>\n",
              "    </tr>\n",
              "  </tbody>\n",
              "</table>\n",
              "</div>"
            ],
            "text/plain": [
              "  manufacturer       model  displ  year  cyl       trans drv  cty  hwy fl  \\\n",
              "0         audi          a4    1.8  1999    4    auto(l5)   f   18   29  p   \n",
              "2         audi          a4    2.0  2008    4  manual(m6)   f   20   31  p   \n",
              "4         audi          a4    2.8  1999    6    auto(l5)   f   16   26  p   \n",
              "6         audi          a4    3.1  2008    6    auto(av)   f   18   27  p   \n",
              "8         audi  a4 quattro    1.8  1999    4    auto(l5)   4   16   25  p   \n",
              "\n",
              "  category  \n",
              "0  compact  \n",
              "2  compact  \n",
              "4  compact  \n",
              "6  compact  \n",
              "8  compact  "
            ]
          },
          "execution_count": 93,
          "metadata": {},
          "output_type": "execute_result"
        }
      ],
      "source": [
        "mpg_sp"
      ]
    },
    {
      "cell_type": "code",
      "execution_count": null,
      "metadata": {
        "scrolled": true,
        "id": "pp0ySK8Iv7hL",
        "outputId": "772a014c-7edd-423a-ec2d-0c4bda3dee75"
      },
      "outputs": [
        {
          "ename": "IndexError",
          "evalue": "single positional indexer is out-of-bounds",
          "output_type": "error",
          "traceback": [
            "\u001b[0;31m---------------------------------------------------------------------------\u001b[0m",
            "\u001b[0;31mIndexError\u001b[0m                                Traceback (most recent call last)",
            "\u001b[0;32m<ipython-input-98-25fd3480fefe>\u001b[0m in \u001b[0;36m<module>\u001b[0;34m\u001b[0m\n\u001b[0;32m----> 1\u001b[0;31m \u001b[0mmpg_sp\u001b[0m\u001b[0;34m.\u001b[0m\u001b[0miloc\u001b[0m\u001b[0;34m[\u001b[0m\u001b[0;36m6\u001b[0m\u001b[0;34m]\u001b[0m\u001b[0;34m\u001b[0m\u001b[0;34m\u001b[0m\u001b[0m\n\u001b[0m",
            "\u001b[0;32m/opt/anaconda3/lib/python3.7/site-packages/pandas/core/indexing.py\u001b[0m in \u001b[0;36m__getitem__\u001b[0;34m(self, key)\u001b[0m\n\u001b[1;32m    929\u001b[0m \u001b[0;34m\u001b[0m\u001b[0m\n\u001b[1;32m    930\u001b[0m             \u001b[0mmaybe_callable\u001b[0m \u001b[0;34m=\u001b[0m \u001b[0mcom\u001b[0m\u001b[0;34m.\u001b[0m\u001b[0mapply_if_callable\u001b[0m\u001b[0;34m(\u001b[0m\u001b[0mkey\u001b[0m\u001b[0;34m,\u001b[0m \u001b[0mself\u001b[0m\u001b[0;34m.\u001b[0m\u001b[0mobj\u001b[0m\u001b[0;34m)\u001b[0m\u001b[0;34m\u001b[0m\u001b[0;34m\u001b[0m\u001b[0m\n\u001b[0;32m--> 931\u001b[0;31m             \u001b[0;32mreturn\u001b[0m \u001b[0mself\u001b[0m\u001b[0;34m.\u001b[0m\u001b[0m_getitem_axis\u001b[0m\u001b[0;34m(\u001b[0m\u001b[0mmaybe_callable\u001b[0m\u001b[0;34m,\u001b[0m \u001b[0maxis\u001b[0m\u001b[0;34m=\u001b[0m\u001b[0maxis\u001b[0m\u001b[0;34m)\u001b[0m\u001b[0;34m\u001b[0m\u001b[0;34m\u001b[0m\u001b[0m\n\u001b[0m\u001b[1;32m    932\u001b[0m \u001b[0;34m\u001b[0m\u001b[0m\n\u001b[1;32m    933\u001b[0m     \u001b[0;32mdef\u001b[0m \u001b[0m_is_scalar_access\u001b[0m\u001b[0;34m(\u001b[0m\u001b[0mself\u001b[0m\u001b[0;34m,\u001b[0m \u001b[0mkey\u001b[0m\u001b[0;34m:\u001b[0m \u001b[0mtuple\u001b[0m\u001b[0;34m)\u001b[0m\u001b[0;34m:\u001b[0m\u001b[0;34m\u001b[0m\u001b[0;34m\u001b[0m\u001b[0m\n",
            "\u001b[0;32m/opt/anaconda3/lib/python3.7/site-packages/pandas/core/indexing.py\u001b[0m in \u001b[0;36m_getitem_axis\u001b[0;34m(self, key, axis)\u001b[0m\n\u001b[1;32m   1564\u001b[0m \u001b[0;34m\u001b[0m\u001b[0m\n\u001b[1;32m   1565\u001b[0m             \u001b[0;31m# validate the location\u001b[0m\u001b[0;34m\u001b[0m\u001b[0;34m\u001b[0m\u001b[0;34m\u001b[0m\u001b[0m\n\u001b[0;32m-> 1566\u001b[0;31m             \u001b[0mself\u001b[0m\u001b[0;34m.\u001b[0m\u001b[0m_validate_integer\u001b[0m\u001b[0;34m(\u001b[0m\u001b[0mkey\u001b[0m\u001b[0;34m,\u001b[0m \u001b[0maxis\u001b[0m\u001b[0;34m)\u001b[0m\u001b[0;34m\u001b[0m\u001b[0;34m\u001b[0m\u001b[0m\n\u001b[0m\u001b[1;32m   1567\u001b[0m \u001b[0;34m\u001b[0m\u001b[0m\n\u001b[1;32m   1568\u001b[0m             \u001b[0;32mreturn\u001b[0m \u001b[0mself\u001b[0m\u001b[0;34m.\u001b[0m\u001b[0mobj\u001b[0m\u001b[0;34m.\u001b[0m\u001b[0m_ixs\u001b[0m\u001b[0;34m(\u001b[0m\u001b[0mkey\u001b[0m\u001b[0;34m,\u001b[0m \u001b[0maxis\u001b[0m\u001b[0;34m=\u001b[0m\u001b[0maxis\u001b[0m\u001b[0;34m)\u001b[0m\u001b[0;34m\u001b[0m\u001b[0;34m\u001b[0m\u001b[0m\n",
            "\u001b[0;32m/opt/anaconda3/lib/python3.7/site-packages/pandas/core/indexing.py\u001b[0m in \u001b[0;36m_validate_integer\u001b[0;34m(self, key, axis)\u001b[0m\n\u001b[1;32m   1498\u001b[0m         \u001b[0mlen_axis\u001b[0m \u001b[0;34m=\u001b[0m \u001b[0mlen\u001b[0m\u001b[0;34m(\u001b[0m\u001b[0mself\u001b[0m\u001b[0;34m.\u001b[0m\u001b[0mobj\u001b[0m\u001b[0;34m.\u001b[0m\u001b[0m_get_axis\u001b[0m\u001b[0;34m(\u001b[0m\u001b[0maxis\u001b[0m\u001b[0;34m)\u001b[0m\u001b[0;34m)\u001b[0m\u001b[0;34m\u001b[0m\u001b[0;34m\u001b[0m\u001b[0m\n\u001b[1;32m   1499\u001b[0m         \u001b[0;32mif\u001b[0m \u001b[0mkey\u001b[0m \u001b[0;34m>=\u001b[0m \u001b[0mlen_axis\u001b[0m \u001b[0;32mor\u001b[0m \u001b[0mkey\u001b[0m \u001b[0;34m<\u001b[0m \u001b[0;34m-\u001b[0m\u001b[0mlen_axis\u001b[0m\u001b[0;34m:\u001b[0m\u001b[0;34m\u001b[0m\u001b[0;34m\u001b[0m\u001b[0m\n\u001b[0;32m-> 1500\u001b[0;31m             \u001b[0;32mraise\u001b[0m \u001b[0mIndexError\u001b[0m\u001b[0;34m(\u001b[0m\u001b[0;34m\"single positional indexer is out-of-bounds\"\u001b[0m\u001b[0;34m)\u001b[0m\u001b[0;34m\u001b[0m\u001b[0;34m\u001b[0m\u001b[0m\n\u001b[0m\u001b[1;32m   1501\u001b[0m \u001b[0;34m\u001b[0m\u001b[0m\n\u001b[1;32m   1502\u001b[0m     \u001b[0;31m# -------------------------------------------------------------------\u001b[0m\u001b[0;34m\u001b[0m\u001b[0;34m\u001b[0m\u001b[0;34m\u001b[0m\u001b[0m\n",
            "\u001b[0;31mIndexError\u001b[0m: single positional indexer is out-of-bounds"
          ]
        }
      ],
      "source": [
        "mpg_sp.iloc[6] #iloc 행 번호 순서를 넘어가면 안 된다."
      ]
    },
    {
      "cell_type": "markdown",
      "metadata": {
        "id": "Tdw7o0eJv7hL"
      },
      "source": [
        "- 현재 데이터프레임에 순서를 기반으로 ( 행 순서 기반으로 출력된다. )"
      ]
    },
    {
      "cell_type": "code",
      "execution_count": null,
      "metadata": {
        "id": "bZiIYqKUv7hL",
        "outputId": "15968fb6-b2ef-40e5-acd8-d4eb9f472cde"
      },
      "outputs": [
        {
          "data": {
            "text/plain": [
              "manufacturer        audi\n",
              "model                 a4\n",
              "displ                3.1\n",
              "year                2008\n",
              "cyl                    6\n",
              "trans           auto(av)\n",
              "drv                    f\n",
              "cty                   18\n",
              "hwy                   27\n",
              "fl                     p\n",
              "category         compact\n",
              "Name: 6, dtype: object"
            ]
          },
          "execution_count": 99,
          "metadata": {},
          "output_type": "execute_result"
        }
      ],
      "source": [
        "mpg_sp.loc[6]"
      ]
    },
    {
      "cell_type": "code",
      "execution_count": null,
      "metadata": {
        "id": "hnLBPvXiv7hL",
        "outputId": "9a635f5a-570d-4b2c-98f1-3522e529c45b"
      },
      "outputs": [
        {
          "name": "stdout",
          "output_type": "stream",
          "text": [
            "manufacturer        audi\n",
            "model                 a4\n",
            "displ                1.8\n",
            "year                1999\n",
            "cyl                    4\n",
            "trans           auto(l5)\n",
            "drv                    f\n",
            "cty                   18\n",
            "hwy                   29\n",
            "fl                     p\n",
            "category         compact\n",
            "Name: 0, dtype: object\n",
            "manufacturer          audi\n",
            "model                   a4\n",
            "displ                  1.8\n",
            "year                  1999\n",
            "cyl                      4\n",
            "trans           manual(m5)\n",
            "drv                      f\n",
            "cty                     21\n",
            "hwy                     29\n",
            "fl                       p\n",
            "category           compact\n",
            "Name: 1, dtype: object\n",
            "manufacturer          audi\n",
            "model                   a4\n",
            "displ                  2.0\n",
            "year                  2008\n",
            "cyl                      4\n",
            "trans           manual(m6)\n",
            "drv                      f\n",
            "cty                     20\n",
            "hwy                     31\n",
            "fl                       p\n",
            "category           compact\n",
            "Name: 2, dtype: object\n",
            "manufacturer        audi\n",
            "model                 a4\n",
            "displ                2.0\n",
            "year                2008\n",
            "cyl                    4\n",
            "trans           auto(av)\n",
            "drv                    f\n",
            "cty                   21\n",
            "hwy                   30\n",
            "fl                     p\n",
            "category         compact\n",
            "Name: 3, dtype: object\n",
            "manufacturer        audi\n",
            "model                 a4\n",
            "displ                2.8\n",
            "year                1999\n",
            "cyl                    6\n",
            "trans           auto(l5)\n",
            "drv                    f\n",
            "cty                   16\n",
            "hwy                   26\n",
            "fl                     p\n",
            "category         compact\n",
            "Name: 4, dtype: object\n",
            "manufacturer          audi\n",
            "model                   a4\n",
            "displ                  2.8\n",
            "year                  1999\n",
            "cyl                      6\n",
            "trans           manual(m5)\n",
            "drv                      f\n",
            "cty                     18\n",
            "hwy                     26\n",
            "fl                       p\n",
            "category           compact\n",
            "Name: 5, dtype: object\n",
            "manufacturer        audi\n",
            "model                 a4\n",
            "displ                3.1\n",
            "year                2008\n",
            "cyl                    6\n",
            "trans           auto(av)\n",
            "drv                    f\n",
            "cty                   18\n",
            "hwy                   27\n",
            "fl                     p\n",
            "category         compact\n",
            "Name: 6, dtype: object\n",
            "manufacturer          audi\n",
            "model           a4 quattro\n",
            "displ                  1.8\n",
            "year                  1999\n",
            "cyl                      4\n",
            "trans           manual(m5)\n",
            "drv                      4\n",
            "cty                     18\n",
            "hwy                     26\n",
            "fl                       p\n",
            "category           compact\n",
            "Name: 7, dtype: object\n",
            "manufacturer          audi\n",
            "model           a4 quattro\n",
            "displ                  1.8\n",
            "year                  1999\n",
            "cyl                      4\n",
            "trans             auto(l5)\n",
            "drv                      4\n",
            "cty                     16\n",
            "hwy                     25\n",
            "fl                       p\n",
            "category           compact\n",
            "Name: 8, dtype: object\n",
            "manufacturer          audi\n",
            "model           a4 quattro\n",
            "displ                  2.0\n",
            "year                  2008\n",
            "cyl                      4\n",
            "trans           manual(m6)\n",
            "drv                      4\n",
            "cty                     20\n",
            "hwy                     28\n",
            "fl                       p\n",
            "category           compact\n",
            "Name: 9, dtype: object\n"
          ]
        }
      ],
      "source": [
        "for i in range(10):\n",
        "    print(mpg.loc[i])"
      ]
    },
    {
      "cell_type": "markdown",
      "metadata": {
        "id": "sH392jo8v7hM"
      },
      "source": [
        "### 필수과제 1\n",
        "- 타이타닉 데이터를 가지고 IQR 값을 계산해 주시고, 제거 전과 후에 대한 통계치를 비교 분석해 주세요.\n",
        "- IQR을 사용하려면 수치형데이터\n",
        "\n",
        "### 복습과제는 mpg, exam 데이터를 가지고 진행"
      ]
    },
    {
      "cell_type": "markdown",
      "metadata": {
        "id": "LoFnYrC5v7hM"
      },
      "source": [
        "sns"
      ]
    },
    {
      "cell_type": "code",
      "execution_count": null,
      "metadata": {
        "id": "vlRbZ8DVv7hM"
      },
      "outputs": [],
      "source": []
    }
  ],
  "metadata": {
    "kernelspec": {
      "display_name": "Python 3",
      "language": "python",
      "name": "python3"
    },
    "language_info": {
      "codemirror_mode": {
        "name": "ipython",
        "version": 3
      },
      "file_extension": ".py",
      "mimetype": "text/x-python",
      "name": "python",
      "nbconvert_exporter": "python",
      "pygments_lexer": "ipython3",
      "version": "3.7.6"
    },
    "colab": {
      "provenance": [],
      "include_colab_link": true
    }
  },
  "nbformat": 4,
  "nbformat_minor": 0
}