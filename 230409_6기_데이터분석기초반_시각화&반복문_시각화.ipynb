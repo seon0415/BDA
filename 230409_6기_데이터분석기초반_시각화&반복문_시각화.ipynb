{
  "cells": [
    {
      "cell_type": "markdown",
      "metadata": {
        "id": "view-in-github",
        "colab_type": "text"
      },
      "source": [
        "<a href=\"https://colab.research.google.com/github/seon0415/BDA/blob/main/230409_6%E1%84%80%E1%85%B5_%E1%84%83%E1%85%A6%E1%84%8B%E1%85%B5%E1%84%90%E1%85%A5%E1%84%87%E1%85%AE%E1%86%AB%E1%84%89%E1%85%A5%E1%86%A8%E1%84%80%E1%85%B5%E1%84%8E%E1%85%A9%E1%84%87%E1%85%A1%E1%86%AB_%E1%84%89%E1%85%B5%E1%84%80%E1%85%A1%E1%86%A8%E1%84%92%E1%85%AA%26%E1%84%87%E1%85%A1%E1%86%AB%E1%84%87%E1%85%A9%E1%86%A8%E1%84%86%E1%85%AE%E1%86%AB_%E1%84%89%E1%85%B5%E1%84%80%E1%85%A1%E1%86%A8%E1%84%92%E1%85%AA.ipynb\" target=\"_parent\"><img src=\"https://colab.research.google.com/assets/colab-badge.svg\" alt=\"Open In Colab\"/></a>"
      ]
    },
    {
      "cell_type": "code",
      "execution_count": null,
      "metadata": {
        "id": "FEDqiIRe9oH9"
      },
      "outputs": [],
      "source": [
        "import pandas as pd\n",
        "import numpy as np\n",
        "import matplotlib.pyplot as plt\n",
        "import seaborn as sns"
      ]
    },
    {
      "cell_type": "markdown",
      "metadata": {
        "id": "ifoTBHvs9oIB"
      },
      "source": [
        "### 막대 그래프 \n",
        "- 막대 형식으로 보여주는 그래프"
      ]
    },
    {
      "cell_type": "code",
      "execution_count": null,
      "metadata": {
        "id": "hEtsHD8c9oIC",
        "outputId": "710ce95d-59a1-457b-810a-b2804bae6ae9"
      },
      "outputs": [
        {
          "data": {
            "text/plain": [
              "<BarContainer object of 5 artists>"
            ]
          },
          "execution_count": 3,
          "metadata": {},
          "output_type": "execute_result"
        },
        {
          "data": {
            "image/png": "[encoded data removed]",
            "text/plain": [
              "<Figure size 432x288 with 1 Axes>"
            ]
          },
          "metadata": {
            "needs_background": "light"
          },
          "output_type": "display_data"
        }
      ],
      "source": [
        "plt.bar(range(5),[10,20,30,40,50]) \n",
        "# bar 막대그래프 "
      ]
    },
    {
      "cell_type": "markdown",
      "metadata": {
        "id": "0uHRDFPH9oID"
      },
      "source": [
        "### 눈금값 설정 "
      ]
    },
    {
      "cell_type": "code",
      "execution_count": null,
      "metadata": {
        "id": "-_L7HjYJ9oIE",
        "outputId": "823983ff-8b5f-41de-b7c6-5fe74f5b2373"
      },
      "outputs": [
        {
          "data": {
            "text/plain": [
              "([<matplotlib.axis.XTick at 0x7f78b2604a90>,\n",
              "  <matplotlib.axis.XTick at 0x7f78b2604710>,\n",
              "  <matplotlib.axis.XTick at 0x7f78b2604510>,\n",
              "  <matplotlib.axis.XTick at 0x7f78b26a49d0>,\n",
              "  <matplotlib.axis.XTick at 0x7f78b26a4f10>],\n",
              " <a list of 5 Text xticklabel objects>)"
            ]
          },
          "execution_count": 5,
          "metadata": {},
          "output_type": "execute_result"
        },
        {
          "data": {
            "image/png": "[encoded data removed]",
            "text/plain": [
              "<Figure size 432x288 with 1 Axes>"
            ]
          },
          "metadata": {
            "needs_background": "light"
          },
          "output_type": "display_data"
        }
      ],
      "source": [
        "plt.bar(range(5),[10,20,30,40,50]) \n",
        "plt.xticks(range(5),['a','b','c','d','e'])"
      ]
    },
    {
      "cell_type": "markdown",
      "metadata": {
        "id": "1qv2nH909oIE"
      },
      "source": [
        "### 스타일 설정"
      ]
    },
    {
      "cell_type": "code",
      "execution_count": null,
      "metadata": {
        "id": "jAMK7OyP9oIF",
        "outputId": "b46d1a63-8d2e-42c7-92bd-8a5ea5444ddc"
      },
      "outputs": [
        {
          "data": {
            "text/plain": [
              "([<matplotlib.axis.XTick at 0x7f78b28717d0>,\n",
              "  <matplotlib.axis.XTick at 0x7f78b2871710>,\n",
              "  <matplotlib.axis.XTick at 0x7f78b2871610>,\n",
              "  <matplotlib.axis.XTick at 0x7f78b2913b90>,\n",
              "  <matplotlib.axis.XTick at 0x7f78b2913cd0>],\n",
              " <a list of 5 Text xticklabel objects>)"
            ]
          },
          "execution_count": 8,
          "metadata": {},
          "output_type": "execute_result"
        },
        {
          "data": {
            "image/png": "[encoded data removed]",
            "text/plain": [
              "<Figure size 432x288 with 1 Axes>"
            ]
          },
          "metadata": {
            "needs_background": "light"
          },
          "output_type": "display_data"
        }
      ],
      "source": [
        "plt.bar(range(5),[10,20,30,40,50], color = 'red', width=0.6, linewidth= 2) \n",
        "plt.xticks(range(5),['a','b','c','d','e'])"
      ]
    },
    {
      "cell_type": "code",
      "execution_count": null,
      "metadata": {
        "id": "9950ePJU9oIF",
        "outputId": "0bbb7410-7873-4142-9f98-750252c41afa"
      },
      "outputs": [
        {
          "data": {
            "text/plain": [
              "([<matplotlib.axis.XTick at 0x7f78b2948a50>,\n",
              "  <matplotlib.axis.XTick at 0x7f78b293e5d0>,\n",
              "  <matplotlib.axis.XTick at 0x7f78b293eed0>,\n",
              "  <matplotlib.axis.XTick at 0x7f78b297c550>,\n",
              "  <matplotlib.axis.XTick at 0x7f78b297ca90>],\n",
              " <a list of 5 Text xticklabel objects>)"
            ]
          },
          "execution_count": 9,
          "metadata": {},
          "output_type": "execute_result"
        },
        {
          "data": {
            "image/png": "[encoded data removed]",
            "text/plain": [
              "<Figure size 432x288 with 1 Axes>"
            ]
          },
          "metadata": {
            "needs_background": "light"
          },
          "output_type": "display_data"
        }
      ],
      "source": [
        "plt.bar(range(5),[10,20,30,40,50], color = ['red','red','blue','orange','green'], width=0.6, linewidth= 2) \n",
        "plt.xticks(range(5),['a','b','c','d','e'])"
      ]
    },
    {
      "cell_type": "markdown",
      "metadata": {
        "id": "vmOgfbFX9oIG"
      },
      "source": [
        "### 박스플롯\n",
        "- 이상치를 한 눈에 볼 수 있음\n",
        "- iqr 개념을 찾아서 boxplot 찾아보기!"
      ]
    },
    {
      "cell_type": "code",
      "execution_count": null,
      "metadata": {
        "id": "iHgYiJeT9oIG"
      },
      "outputs": [],
      "source": [
        "x = np.random.normal(2,5,100)\n",
        "y = np.random.normal(1,6,100)"
      ]
    },
    {
      "cell_type": "code",
      "execution_count": null,
      "metadata": {
        "id": "bduRmNb79oIH",
        "outputId": "b877c486-1040-4e8b-d532-5c37d384b725"
      },
      "outputs": [
        {
          "data": {
            "text/plain": [
              "{'whiskers': [<matplotlib.lines.Line2D at 0x7f78b2dc0890>,\n",
              "  <matplotlib.lines.Line2D at 0x7f78b2dc8a90>],\n",
              " 'caps': [<matplotlib.lines.Line2D at 0x7f78b2dc8f90>,\n",
              "  <matplotlib.lines.Line2D at 0x7f78b2dd04d0>],\n",
              " 'boxes': [<matplotlib.lines.Line2D at 0x7f78b2dc0850>],\n",
              " 'medians': [<matplotlib.lines.Line2D at 0x7f78b2dd0a10>],\n",
              " 'fliers': [<matplotlib.lines.Line2D at 0x7f78b2dd0f10>],\n",
              " 'means': []}"
            ]
          },
          "execution_count": 14,
          "metadata": {},
          "output_type": "execute_result"
        },
        {
          "data": {
            "image/png": "[encoded data removed]",
            "text/plain": [
              "<Figure size 432x288 with 1 Axes>"
            ]
          },
          "metadata": {
            "needs_background": "light"
          },
          "output_type": "display_data"
        }
      ],
      "source": [
        "plt.boxplot(x)"
      ]
    },
    {
      "cell_type": "code",
      "execution_count": null,
      "metadata": {
        "id": "Swp-Kwub9oIH",
        "outputId": "cfca37ba-a972-4b5b-8433-5e376e869a0f"
      },
      "outputs": [
        {
          "data": {
            "text/plain": [
              "{'whiskers': [<matplotlib.lines.Line2D at 0x7f78b2e91a50>,\n",
              "  <matplotlib.lines.Line2D at 0x7f78b2e9ac50>,\n",
              "  <matplotlib.lines.Line2D at 0x7f78b2ea8b50>,\n",
              "  <matplotlib.lines.Line2D at 0x7f78b2ea1c50>],\n",
              " 'caps': [<matplotlib.lines.Line2D at 0x7f78b292e310>,\n",
              "  <matplotlib.lines.Line2D at 0x7f78b2ea1690>,\n",
              "  <matplotlib.lines.Line2D at 0x7f78b2eb2550>,\n",
              "  <matplotlib.lines.Line2D at 0x7f78b2eb2a50>],\n",
              " 'boxes': [<matplotlib.lines.Line2D at 0x7f78b2e91a10>,\n",
              "  <matplotlib.lines.Line2D at 0x7f78b2ea8610>],\n",
              " 'medians': [<matplotlib.lines.Line2D at 0x7f78b2ea1bd0>,\n",
              "  <matplotlib.lines.Line2D at 0x7f78b2eb2f50>],\n",
              " 'fliers': [<matplotlib.lines.Line2D at 0x7f78b2e9acd0>,\n",
              "  <matplotlib.lines.Line2D at 0x7f78b2ebb490>],\n",
              " 'means': []}"
            ]
          },
          "execution_count": 15,
          "metadata": {},
          "output_type": "execute_result"
        },
        {
          "data": {
            "image/png": "[encoded data removed]",
            "text/plain": [
              "<Figure size 432x288 with 1 Axes>"
            ]
          },
          "metadata": {
            "needs_background": "light"
          },
          "output_type": "display_data"
        }
      ],
      "source": [
        "plt.boxplot([x,y])"
      ]
    },
    {
      "cell_type": "code",
      "execution_count": null,
      "metadata": {
        "id": "Z-7fpR7h9oIH",
        "outputId": "f20e0aad-3c27-42b1-9088-461f47e98041"
      },
      "outputs": [
        {
          "data": {
            "text/plain": [
              "([<matplotlib.axis.XTick at 0x7f78b2eeb850>,\n",
              "  <matplotlib.axis.XTick at 0x7f78b2eeb190>],\n",
              " <a list of 2 Text xticklabel objects>)"
            ]
          },
          "execution_count": 16,
          "metadata": {},
          "output_type": "execute_result"
        },
        {
          "data": {
            "image/png": "[encoded data removed]",
            "text/plain": [
              "<Figure size 432x288 with 1 Axes>"
            ]
          },
          "metadata": {
            "needs_background": "light"
          },
          "output_type": "display_data"
        }
      ],
      "source": [
        "plt.boxplot([x,y])\n",
        "plt.xticks([1,2],['A','B'])"
      ]
    },
    {
      "cell_type": "markdown",
      "metadata": {
        "id": "GlJW-G799oII"
      },
      "source": [
        "### 히스토그램\n",
        "- 도수분포표를 시각화 한 것\n",
        "### 필수과제1\n",
        "- 도수분포표의 개념 설명과\n",
        "- 도수분포표의 예시 코드를 통해 시각화 설명하기!"
      ]
    },
    {
      "cell_type": "code",
      "execution_count": null,
      "metadata": {
        "id": "fGIy4E1w9oII"
      },
      "outputs": [],
      "source": [
        "x = np.random.normal(5,10,100)"
      ]
    },
    {
      "cell_type": "markdown",
      "metadata": {
        "id": "BAyOsaP69oII"
      },
      "source": [
        "### 도수분포표는 hist "
      ]
    },
    {
      "cell_type": "code",
      "execution_count": null,
      "metadata": {
        "id": "NBldqwUW9oIJ",
        "outputId": "6f51562d-529e-43ff-8968-b2fb50ed54e3"
      },
      "outputs": [
        {
          "data": {
            "text/plain": [
              "(array([ 5.,  2., 14., 15., 17., 19., 14., 12.,  1.,  1.]),\n",
              " array([-16.36299892, -11.8246639 ,  -7.28632888,  -2.74799387,\n",
              "          1.79034115,   6.32867616,  10.86701118,  15.4053462 ,\n",
              "         19.94368121,  24.48201623,  29.02035124]),\n",
              " <a list of 10 Patch objects>)"
            ]
          },
          "execution_count": 19,
          "metadata": {},
          "output_type": "execute_result"
        },
        {
          "data": {
            "image/png": "[encoded data removed]",
            "text/plain": [
              "<Figure size 432x288 with 1 Axes>"
            ]
          },
          "metadata": {
            "needs_background": "light"
          },
          "output_type": "display_data"
        }
      ],
      "source": [
        "plt.hist(x)"
      ]
    },
    {
      "cell_type": "markdown",
      "metadata": {
        "id": "YqHUp6m79oIJ"
      },
      "source": [
        "### 히스토그램의 경우 bins를 통해 구간 개수를 설정할 수 있다."
      ]
    },
    {
      "cell_type": "code",
      "execution_count": null,
      "metadata": {
        "id": "z3K1nH4C9oIJ",
        "outputId": "63ec7809-5475-42ab-b5de-1c76f44e0335"
      },
      "outputs": [
        {
          "data": {
            "text/plain": [
              "(array([ 4.,  2.,  1., 10.,  9., 10.,  9., 13., 14., 11.,  5., 10.,  1.,\n",
              "         0.,  1.]),\n",
              " array([-16.36299892, -13.33744224, -10.31188556,  -7.28632888,\n",
              "         -4.26077221,  -1.23521553,   1.79034115,   4.81589783,\n",
              "          7.8414545 ,  10.86701118,  13.89256786,  16.91812453,\n",
              "         19.94368121,  22.96923789,  25.99479457,  29.02035124]),\n",
              " <a list of 15 Patch objects>)"
            ]
          },
          "execution_count": 20,
          "metadata": {},
          "output_type": "execute_result"
        },
        {
          "data": {
            "image/png": "[encoded data removed]",
            "text/plain": [
              "<Figure size 432x288 with 1 Axes>"
            ]
          },
          "metadata": {
            "needs_background": "light"
          },
          "output_type": "display_data"
        }
      ],
      "source": [
        "plt.hist(x, bins=15)"
      ]
    },
    {
      "cell_type": "code",
      "execution_count": null,
      "metadata": {
        "id": "pX6iP8vX9oIJ",
        "outputId": "fd63581e-8b00-47e6-a986-623ba3d71ab1"
      },
      "outputs": [
        {
          "data": {
            "text/plain": [
              "(array([ 1.,  3.,  1.,  1.,  0.,  1.,  4.,  6.,  4.,  5.,  4.,  6.,  5.,\n",
              "         4.,  8.,  5.,  4., 10.,  5.,  6.,  3.,  2.,  4.,  6.,  0.,  1.,\n",
              "         0.,  0.,  0.,  1.]),\n",
              " array([-16.36299892, -14.85022058, -13.33744224, -11.8246639 ,\n",
              "        -10.31188556,  -8.79910722,  -7.28632888,  -5.77355055,\n",
              "         -4.26077221,  -2.74799387,  -1.23521553,   0.27756281,\n",
              "          1.79034115,   3.30311949,   4.81589783,   6.32867616,\n",
              "          7.8414545 ,   9.35423284,  10.86701118,  12.37978952,\n",
              "         13.89256786,  15.4053462 ,  16.91812453,  18.43090287,\n",
              "         19.94368121,  21.45645955,  22.96923789,  24.48201623,\n",
              "         25.99479457,  27.5075729 ,  29.02035124]),\n",
              " <a list of 30 Patch objects>)"
            ]
          },
          "execution_count": 21,
          "metadata": {},
          "output_type": "execute_result"
        },
        {
          "data": {
            "image/png": "[encoded data removed]",
            "text/plain": [
              "<Figure size 432x288 with 1 Axes>"
            ]
          },
          "metadata": {
            "needs_background": "light"
          },
          "output_type": "display_data"
        }
      ],
      "source": [
        "plt.hist(x, bins=30)"
      ]
    },
    {
      "cell_type": "markdown",
      "metadata": {
        "id": "FkcvKGGS9oIK"
      },
      "source": [
        "- 데이터의 분포에 대한 왜곡을 시킬 수 있다. \n",
        "- bins는 신중하게 선택을 해야 한다.\n",
        "- 15~20개 미만 "
      ]
    },
    {
      "cell_type": "code",
      "execution_count": null,
      "metadata": {
        "id": "M31gwc4S9oIK",
        "outputId": "fa044b5f-5e71-4d35-8a2d-da4dd39b3f2b"
      },
      "outputs": [
        {
          "data": {
            "text/plain": [
              "(array([ 7., 29., 36., 26.,  2.]),\n",
              " array([-16.36299892,  -7.28632888,   1.79034115,  10.86701118,\n",
              "         19.94368121,  29.02035124]),\n",
              " <a list of 5 Patch objects>)"
            ]
          },
          "execution_count": 22,
          "metadata": {},
          "output_type": "execute_result"
        },
        {
          "data": {
            "image/png": "[encoded data removed]",
            "text/plain": [
              "<Figure size 432x288 with 1 Axes>"
            ]
          },
          "metadata": {
            "needs_background": "light"
          },
          "output_type": "display_data"
        }
      ],
      "source": [
        "plt.hist(x, bins=5)"
      ]
    },
    {
      "cell_type": "markdown",
      "metadata": {
        "id": "aMa_5aU99oIK"
      },
      "source": [
        "### 히트맵\n",
        "\n",
        "- 2차원배열로 각 요소의 색상을 시각화는 것 \n",
        "- 상관계수 표현할 때와 비슷한"
      ]
    },
    {
      "cell_type": "code",
      "execution_count": null,
      "metadata": {
        "id": "nnkNrBLi9oIK"
      },
      "outputs": [],
      "source": [
        "data = pd.DataFrame({'DA':[50,70,80],'PG':[10,20,30]},\n",
        "                   index= ['A','B','C'])"
      ]
    },
    {
      "cell_type": "code",
      "execution_count": null,
      "metadata": {
        "id": "krCzIPKG9oIL",
        "outputId": "4067f417-f0be-41c9-c76d-21ea80926e45"
      },
      "outputs": [
        {
          "data": {
            "text/html": [
              "<div>\n",
              "<style scoped>\n",
              "    .dataframe tbody tr th:only-of-type {\n",
              "        vertical-align: middle;\n",
              "    }\n",
              "\n",
              "    .dataframe tbody tr th {\n",
              "        vertical-align: top;\n",
              "    }\n",
              "\n",
              "    .dataframe thead th {\n",
              "        text-align: right;\n",
              "    }\n",
              "</style>\n",
              "<table border=\"1\" class=\"dataframe\">\n",
              "  <thead>\n",
              "    <tr style=\"text-align: right;\">\n",
              "      <th></th>\n",
              "      <th>DA</th>\n",
              "      <th>PG</th>\n",
              "    </tr>\n",
              "  </thead>\n",
              "  <tbody>\n",
              "    <tr>\n",
              "      <th>A</th>\n",
              "      <td>50</td>\n",
              "      <td>10</td>\n",
              "    </tr>\n",
              "    <tr>\n",
              "      <th>B</th>\n",
              "      <td>70</td>\n",
              "      <td>20</td>\n",
              "    </tr>\n",
              "    <tr>\n",
              "      <th>C</th>\n",
              "      <td>80</td>\n",
              "      <td>30</td>\n",
              "    </tr>\n",
              "  </tbody>\n",
              "</table>\n",
              "</div>"
            ],
            "text/plain": [
              "   DA  PG\n",
              "A  50  10\n",
              "B  70  20\n",
              "C  80  30"
            ]
          },
          "execution_count": 29,
          "metadata": {},
          "output_type": "execute_result"
        }
      ],
      "source": [
        "data"
      ]
    },
    {
      "cell_type": "code",
      "execution_count": null,
      "metadata": {
        "id": "ri_d3IZo9oIL",
        "outputId": "757d690e-0019-4bc7-d084-69b9284b4063"
      },
      "outputs": [
        {
          "data": {
            "text/plain": [
              "<matplotlib.axes._subplots.AxesSubplot at 0x7f78b34fe2d0>"
            ]
          },
          "execution_count": 28,
          "metadata": {},
          "output_type": "execute_result"
        },
        {
          "data": {
            "image/png": "[encoded data removed]",
            "text/plain": [
              "<Figure size 432x288 with 2 Axes>"
            ]
          },
          "metadata": {
            "needs_background": "light"
          },
          "output_type": "display_data"
        }
      ],
      "source": [
        "sns.heatmap(data)\n",
        "#눈금값 설정 동일"
      ]
    },
    {
      "cell_type": "code",
      "execution_count": null,
      "metadata": {
        "id": "xebNjkKb9oIM",
        "outputId": "0a6b929f-a8c5-4885-be19-6d14fcc5fcca"
      },
      "outputs": [
        {
          "data": {
            "text/plain": [
              "<matplotlib.axes._subplots.AxesSubplot at 0x7f78b3733950>"
            ]
          },
          "execution_count": 30,
          "metadata": {},
          "output_type": "execute_result"
        },
        {
          "data": {
            "image/png": "[encoded data removed]",
            "text/plain": [
              "<Figure size 432x288 with 2 Axes>"
            ]
          },
          "metadata": {
            "needs_background": "light"
          },
          "output_type": "display_data"
        }
      ],
      "source": [
        "sns.heatmap(data, annot=True, fmt='d') # d는 정수 표시 , annot는 박스 대응 데이터 표시 \n"
      ]
    },
    {
      "cell_type": "code",
      "execution_count": null,
      "metadata": {
        "id": "p0bkPdxi9oIM",
        "outputId": "d59366f9-3a21-4d91-a85f-2166d58dd7b0"
      },
      "outputs": [
        {
          "data": {
            "text/plain": [
              "<matplotlib.axes._subplots.AxesSubplot at 0x7f78b3ac7ad0>"
            ]
          },
          "execution_count": 33,
          "metadata": {},
          "output_type": "execute_result"
        },
        {
          "data": {
            "image/png": "[encoded data removed]",
            "text/plain": [
              "<Figure size 432x288 with 2 Axes>"
            ]
          },
          "metadata": {
            "needs_background": "light"
          },
          "output_type": "display_data"
        }
      ],
      "source": [
        "sns.heatmap(data, annot=True, fmt='d', linewidth=10,linecolor='white')"
      ]
    },
    {
      "cell_type": "code",
      "execution_count": null,
      "metadata": {
        "id": "r8bZ9YcT9oIN",
        "outputId": "3f6bb1a4-b4b3-48f4-da03-2b8c925f7b68"
      },
      "outputs": [
        {
          "data": {
            "text/plain": [
              "<matplotlib.axes._subplots.AxesSubplot at 0x7f78b3c95410>"
            ]
          },
          "execution_count": 36,
          "metadata": {},
          "output_type": "execute_result"
        },
        {
          "data": {
            "image/png": "[encoded data removed]",
            "text/plain": [
              "<Figure size 432x288 with 2 Axes>"
            ]
          },
          "metadata": {
            "needs_background": "light"
          },
          "output_type": "display_data"
        }
      ],
      "source": [
        "sns.heatmap(data, annot=True, fmt='d', linewidth=10,linecolor='white', cmap='Greys')"
      ]
    },
    {
      "cell_type": "markdown",
      "metadata": {
        "id": "mgeo94XM9oIN"
      },
      "source": [
        "## 여러 개 그래프 그리기!"
      ]
    },
    {
      "cell_type": "markdown",
      "metadata": {
        "id": "oVN_iAi59oIN"
      },
      "source": [
        "- kind =  어떤 그래프를 그릴 것이닞 설정할 수 있다.\n",
        "- line, bar, hist, box, scatter 등 "
      ]
    },
    {
      "cell_type": "code",
      "execution_count": null,
      "metadata": {
        "scrolled": true,
        "id": "ioPLQbId9oIN"
      },
      "outputs": [],
      "source": [
        "df_dw=pd.read_csv('재무제표샘플_대원미디어.csv', encoding='euc-kr')"
      ]
    },
    {
      "cell_type": "code",
      "execution_count": null,
      "metadata": {
        "id": "lQwbXTd-9oIN",
        "outputId": "feecd078-16b0-4111-b07b-69100ea81d52"
      },
      "outputs": [
        {
          "data": {
            "text/html": [
              "<div>\n",
              "<style scoped>\n",
              "    .dataframe tbody tr th:only-of-type {\n",
              "        vertical-align: middle;\n",
              "    }\n",
              "\n",
              "    .dataframe tbody tr th {\n",
              "        vertical-align: top;\n",
              "    }\n",
              "\n",
              "    .dataframe thead th {\n",
              "        text-align: right;\n",
              "    }\n",
              "</style>\n",
              "<table border=\"1\" class=\"dataframe\">\n",
              "  <thead>\n",
              "    <tr style=\"text-align: right;\">\n",
              "      <th></th>\n",
              "      <th>연도</th>\n",
              "      <th>자산총계</th>\n",
              "      <th>부채총계</th>\n",
              "      <th>자본총계</th>\n",
              "      <th>매출액</th>\n",
              "      <th>영업이익</th>\n",
              "      <th>당기순이익</th>\n",
              "      <th>부채비율</th>\n",
              "    </tr>\n",
              "  </thead>\n",
              "  <tbody>\n",
              "    <tr>\n",
              "      <th>0</th>\n",
              "      <td>2016</td>\n",
              "      <td>9.776068e+10</td>\n",
              "      <td>23419492827</td>\n",
              "      <td>7.434119e+10</td>\n",
              "      <td>9.499312e+10</td>\n",
              "      <td>2379822965</td>\n",
              "      <td>480426339</td>\n",
              "      <td>76.044057</td>\n",
              "    </tr>\n",
              "    <tr>\n",
              "      <th>1</th>\n",
              "      <td>2017</td>\n",
              "      <td>1.043490e+11</td>\n",
              "      <td>23398872100</td>\n",
              "      <td>8.095035e+10</td>\n",
              "      <td>1.207350e+11</td>\n",
              "      <td>6987071352</td>\n",
              "      <td>7797097354</td>\n",
              "      <td>77.576381</td>\n",
              "    </tr>\n",
              "    <tr>\n",
              "      <th>2</th>\n",
              "      <td>2018</td>\n",
              "      <td>1.255730e+11</td>\n",
              "      <td>24027374437</td>\n",
              "      <td>1.015450e+11</td>\n",
              "      <td>1.633750e+11</td>\n",
              "      <td>6412992156</td>\n",
              "      <td>4153603488</td>\n",
              "      <td>80.865781</td>\n",
              "    </tr>\n",
              "    <tr>\n",
              "      <th>3</th>\n",
              "      <td>2019</td>\n",
              "      <td>1.361390e+11</td>\n",
              "      <td>34941404675</td>\n",
              "      <td>1.011980e+11</td>\n",
              "      <td>1.915460e+11</td>\n",
              "      <td>3664066464</td>\n",
              "      <td>3181392223</td>\n",
              "      <td>74.334031</td>\n",
              "    </tr>\n",
              "    <tr>\n",
              "      <th>4</th>\n",
              "      <td>2020</td>\n",
              "      <td>1.446900e+11</td>\n",
              "      <td>35459747467</td>\n",
              "      <td>1.092300e+11</td>\n",
              "      <td>2.662270e+11</td>\n",
              "      <td>7227983716</td>\n",
              "      <td>6501208590</td>\n",
              "      <td>75.492644</td>\n",
              "    </tr>\n",
              "  </tbody>\n",
              "</table>\n",
              "</div>"
            ],
            "text/plain": [
              "     연도          자산총계         부채총계          자본총계           매출액        영업이익  \\\n",
              "0  2016  9.776068e+10  23419492827  7.434119e+10  9.499312e+10  2379822965   \n",
              "1  2017  1.043490e+11  23398872100  8.095035e+10  1.207350e+11  6987071352   \n",
              "2  2018  1.255730e+11  24027374437  1.015450e+11  1.633750e+11  6412992156   \n",
              "3  2019  1.361390e+11  34941404675  1.011980e+11  1.915460e+11  3664066464   \n",
              "4  2020  1.446900e+11  35459747467  1.092300e+11  2.662270e+11  7227983716   \n",
              "\n",
              "        당기순이익       부채비율  \n",
              "0   480426339  76.044057  \n",
              "1  7797097354  77.576381  \n",
              "2  4153603488  80.865781  \n",
              "3  3181392223  74.334031  \n",
              "4  6501208590  75.492644  "
            ]
          },
          "execution_count": 40,
          "metadata": {},
          "output_type": "execute_result"
        }
      ],
      "source": [
        "df_dw"
      ]
    },
    {
      "cell_type": "markdown",
      "metadata": {
        "id": "Mq45pRoi9oIO"
      },
      "source": [
        "plot을 기반으로 다양한 데이터를 비교해 보자!"
      ]
    },
    {
      "cell_type": "code",
      "execution_count": null,
      "metadata": {
        "scrolled": true,
        "id": "flU0ysK99oIO",
        "outputId": "c851a32b-f95c-4417-bcaa-64d1b4e40bff"
      },
      "outputs": [
        {
          "data": {
            "text/plain": [
              "<matplotlib.axes._subplots.AxesSubplot at 0x7f78b4366f10>"
            ]
          },
          "execution_count": 43,
          "metadata": {},
          "output_type": "execute_result"
        },
        {
          "name": "stderr",
          "output_type": "stream",
          "text": [
            "/opt/anaconda3/lib/python3.7/site-packages/matplotlib/backends/backend_agg.py:211: RuntimeWarning: Glyph 50672 missing from current font.\n",
            "  font.set_text(s, 0.0, flags=flags)\n",
            "/opt/anaconda3/lib/python3.7/site-packages/matplotlib/backends/backend_agg.py:211: RuntimeWarning: Glyph 46020 missing from current font.\n",
            "  font.set_text(s, 0.0, flags=flags)\n",
            "/opt/anaconda3/lib/python3.7/site-packages/matplotlib/backends/backend_agg.py:180: RuntimeWarning: Glyph 50672 missing from current font.\n",
            "  font.set_text(s, 0, flags=flags)\n",
            "/opt/anaconda3/lib/python3.7/site-packages/matplotlib/backends/backend_agg.py:180: RuntimeWarning: Glyph 46020 missing from current font.\n",
            "  font.set_text(s, 0, flags=flags)\n",
            "/opt/anaconda3/lib/python3.7/site-packages/matplotlib/backends/backend_agg.py:211: RuntimeWarning: Glyph 50689 missing from current font.\n",
            "  font.set_text(s, 0.0, flags=flags)\n",
            "/opt/anaconda3/lib/python3.7/site-packages/matplotlib/backends/backend_agg.py:211: RuntimeWarning: Glyph 50629 missing from current font.\n",
            "  font.set_text(s, 0.0, flags=flags)\n",
            "/opt/anaconda3/lib/python3.7/site-packages/matplotlib/backends/backend_agg.py:211: RuntimeWarning: Glyph 51060 missing from current font.\n",
            "  font.set_text(s, 0.0, flags=flags)\n",
            "/opt/anaconda3/lib/python3.7/site-packages/matplotlib/backends/backend_agg.py:211: RuntimeWarning: Glyph 51061 missing from current font.\n",
            "  font.set_text(s, 0.0, flags=flags)\n",
            "/opt/anaconda3/lib/python3.7/site-packages/matplotlib/backends/backend_agg.py:211: RuntimeWarning: Glyph 45817 missing from current font.\n",
            "  font.set_text(s, 0.0, flags=flags)\n",
            "/opt/anaconda3/lib/python3.7/site-packages/matplotlib/backends/backend_agg.py:211: RuntimeWarning: Glyph 44592 missing from current font.\n",
            "  font.set_text(s, 0.0, flags=flags)\n",
            "/opt/anaconda3/lib/python3.7/site-packages/matplotlib/backends/backend_agg.py:211: RuntimeWarning: Glyph 49692 missing from current font.\n",
            "  font.set_text(s, 0.0, flags=flags)\n",
            "/opt/anaconda3/lib/python3.7/site-packages/matplotlib/backends/backend_agg.py:180: RuntimeWarning: Glyph 50689 missing from current font.\n",
            "  font.set_text(s, 0, flags=flags)\n",
            "/opt/anaconda3/lib/python3.7/site-packages/matplotlib/backends/backend_agg.py:180: RuntimeWarning: Glyph 50629 missing from current font.\n",
            "  font.set_text(s, 0, flags=flags)\n",
            "/opt/anaconda3/lib/python3.7/site-packages/matplotlib/backends/backend_agg.py:180: RuntimeWarning: Glyph 51060 missing from current font.\n",
            "  font.set_text(s, 0, flags=flags)\n",
            "/opt/anaconda3/lib/python3.7/site-packages/matplotlib/backends/backend_agg.py:180: RuntimeWarning: Glyph 51061 missing from current font.\n",
            "  font.set_text(s, 0, flags=flags)\n",
            "/opt/anaconda3/lib/python3.7/site-packages/matplotlib/backends/backend_agg.py:180: RuntimeWarning: Glyph 45817 missing from current font.\n",
            "  font.set_text(s, 0, flags=flags)\n",
            "/opt/anaconda3/lib/python3.7/site-packages/matplotlib/backends/backend_agg.py:180: RuntimeWarning: Glyph 44592 missing from current font.\n",
            "  font.set_text(s, 0, flags=flags)\n",
            "/opt/anaconda3/lib/python3.7/site-packages/matplotlib/backends/backend_agg.py:180: RuntimeWarning: Glyph 49692 missing from current font.\n",
            "  font.set_text(s, 0, flags=flags)\n"
          ]
        },
        {
          "data": {
            "image/png": "[encoded data removed]",
            "text/plain": [
              "<Figure size 432x288 with 1 Axes>"
            ]
          },
          "metadata": {
            "needs_background": "light"
          },
          "output_type": "display_data"
        }
      ],
      "source": [
        "df_dw.plot(kind='line', x='연도',y=['영업이익','당기순이익'])"
      ]
    },
    {
      "cell_type": "code",
      "execution_count": null,
      "metadata": {
        "scrolled": true,
        "id": "gs7LrEsU9oIP",
        "outputId": "97a30da7-ad82-460f-c589-d8a98b1d42c4"
      },
      "outputs": [
        {
          "data": {
            "text/plain": [
              "<matplotlib.axes._subplots.AxesSubplot at 0x7f78b43e4690>"
            ]
          },
          "execution_count": 44,
          "metadata": {},
          "output_type": "execute_result"
        },
        {
          "data": {
            "image/png": "[encoded data removed]",
            "text/plain": [
              "<Figure size 720x504 with 1 Axes>"
            ]
          },
          "metadata": {
            "needs_background": "light"
          },
          "output_type": "display_data"
        }
      ],
      "source": [
        "df_dw.plot(kind='bar', x='연도',y=['영업이익','당기순이익'],figsize=(10,7))"
      ]
    },
    {
      "cell_type": "code",
      "execution_count": null,
      "metadata": {
        "id": "sOx6kHr59oIP"
      },
      "outputs": [],
      "source": [
        "mpg= pd.read_csv('mpg.csv')"
      ]
    },
    {
      "cell_type": "code",
      "execution_count": null,
      "metadata": {
        "id": "GKDcCR-Q9oIP",
        "outputId": "27c45ba9-5fe4-42a1-b166-bd5a2b52821e"
      },
      "outputs": [
        {
          "data": {
            "text/html": [
              "<div>\n",
              "<style scoped>\n",
              "    .dataframe tbody tr th:only-of-type {\n",
              "        vertical-align: middle;\n",
              "    }\n",
              "\n",
              "    .dataframe tbody tr th {\n",
              "        vertical-align: top;\n",
              "    }\n",
              "\n",
              "    .dataframe thead th {\n",
              "        text-align: right;\n",
              "    }\n",
              "</style>\n",
              "<table border=\"1\" class=\"dataframe\">\n",
              "  <thead>\n",
              "    <tr style=\"text-align: right;\">\n",
              "      <th></th>\n",
              "      <th>manufacturer</th>\n",
              "      <th>model</th>\n",
              "      <th>displ</th>\n",
              "      <th>year</th>\n",
              "      <th>cyl</th>\n",
              "      <th>trans</th>\n",
              "      <th>drv</th>\n",
              "      <th>cty</th>\n",
              "      <th>hwy</th>\n",
              "      <th>fl</th>\n",
              "      <th>category</th>\n",
              "    </tr>\n",
              "  </thead>\n",
              "  <tbody>\n",
              "    <tr>\n",
              "      <th>0</th>\n",
              "      <td>audi</td>\n",
              "      <td>a4</td>\n",
              "      <td>1.8</td>\n",
              "      <td>1999</td>\n",
              "      <td>4</td>\n",
              "      <td>auto(l5)</td>\n",
              "      <td>f</td>\n",
              "      <td>18</td>\n",
              "      <td>29</td>\n",
              "      <td>p</td>\n",
              "      <td>compact</td>\n",
              "    </tr>\n",
              "    <tr>\n",
              "      <th>1</th>\n",
              "      <td>audi</td>\n",
              "      <td>a4</td>\n",
              "      <td>1.8</td>\n",
              "      <td>1999</td>\n",
              "      <td>4</td>\n",
              "      <td>manual(m5)</td>\n",
              "      <td>f</td>\n",
              "      <td>21</td>\n",
              "      <td>29</td>\n",
              "      <td>p</td>\n",
              "      <td>compact</td>\n",
              "    </tr>\n",
              "    <tr>\n",
              "      <th>2</th>\n",
              "      <td>audi</td>\n",
              "      <td>a4</td>\n",
              "      <td>2.0</td>\n",
              "      <td>2008</td>\n",
              "      <td>4</td>\n",
              "      <td>manual(m6)</td>\n",
              "      <td>f</td>\n",
              "      <td>20</td>\n",
              "      <td>31</td>\n",
              "      <td>p</td>\n",
              "      <td>compact</td>\n",
              "    </tr>\n",
              "    <tr>\n",
              "      <th>3</th>\n",
              "      <td>audi</td>\n",
              "      <td>a4</td>\n",
              "      <td>2.0</td>\n",
              "      <td>2008</td>\n",
              "      <td>4</td>\n",
              "      <td>auto(av)</td>\n",
              "      <td>f</td>\n",
              "      <td>21</td>\n",
              "      <td>30</td>\n",
              "      <td>p</td>\n",
              "      <td>compact</td>\n",
              "    </tr>\n",
              "    <tr>\n",
              "      <th>4</th>\n",
              "      <td>audi</td>\n",
              "      <td>a4</td>\n",
              "      <td>2.8</td>\n",
              "      <td>1999</td>\n",
              "      <td>6</td>\n",
              "      <td>auto(l5)</td>\n",
              "      <td>f</td>\n",
              "      <td>16</td>\n",
              "      <td>26</td>\n",
              "      <td>p</td>\n",
              "      <td>compact</td>\n",
              "    </tr>\n",
              "    <tr>\n",
              "      <th>...</th>\n",
              "      <td>...</td>\n",
              "      <td>...</td>\n",
              "      <td>...</td>\n",
              "      <td>...</td>\n",
              "      <td>...</td>\n",
              "      <td>...</td>\n",
              "      <td>...</td>\n",
              "      <td>...</td>\n",
              "      <td>...</td>\n",
              "      <td>...</td>\n",
              "      <td>...</td>\n",
              "    </tr>\n",
              "    <tr>\n",
              "      <th>229</th>\n",
              "      <td>volkswagen</td>\n",
              "      <td>passat</td>\n",
              "      <td>2.0</td>\n",
              "      <td>2008</td>\n",
              "      <td>4</td>\n",
              "      <td>auto(s6)</td>\n",
              "      <td>f</td>\n",
              "      <td>19</td>\n",
              "      <td>28</td>\n",
              "      <td>p</td>\n",
              "      <td>midsize</td>\n",
              "    </tr>\n",
              "    <tr>\n",
              "      <th>230</th>\n",
              "      <td>volkswagen</td>\n",
              "      <td>passat</td>\n",
              "      <td>2.0</td>\n",
              "      <td>2008</td>\n",
              "      <td>4</td>\n",
              "      <td>manual(m6)</td>\n",
              "      <td>f</td>\n",
              "      <td>21</td>\n",
              "      <td>29</td>\n",
              "      <td>p</td>\n",
              "      <td>midsize</td>\n",
              "    </tr>\n",
              "    <tr>\n",
              "      <th>231</th>\n",
              "      <td>volkswagen</td>\n",
              "      <td>passat</td>\n",
              "      <td>2.8</td>\n",
              "      <td>1999</td>\n",
              "      <td>6</td>\n",
              "      <td>auto(l5)</td>\n",
              "      <td>f</td>\n",
              "      <td>16</td>\n",
              "      <td>26</td>\n",
              "      <td>p</td>\n",
              "      <td>midsize</td>\n",
              "    </tr>\n",
              "    <tr>\n",
              "      <th>232</th>\n",
              "      <td>volkswagen</td>\n",
              "      <td>passat</td>\n",
              "      <td>2.8</td>\n",
              "      <td>1999</td>\n",
              "      <td>6</td>\n",
              "      <td>manual(m5)</td>\n",
              "      <td>f</td>\n",
              "      <td>18</td>\n",
              "      <td>26</td>\n",
              "      <td>p</td>\n",
              "      <td>midsize</td>\n",
              "    </tr>\n",
              "    <tr>\n",
              "      <th>233</th>\n",
              "      <td>volkswagen</td>\n",
              "      <td>passat</td>\n",
              "      <td>3.6</td>\n",
              "      <td>2008</td>\n",
              "      <td>6</td>\n",
              "      <td>auto(s6)</td>\n",
              "      <td>f</td>\n",
              "      <td>17</td>\n",
              "      <td>26</td>\n",
              "      <td>p</td>\n",
              "      <td>midsize</td>\n",
              "    </tr>\n",
              "  </tbody>\n",
              "</table>\n",
              "<p>234 rows × 11 columns</p>\n",
              "</div>"
            ],
            "text/plain": [
              "    manufacturer   model  displ  year  cyl       trans drv  cty  hwy fl  \\\n",
              "0           audi      a4    1.8  1999    4    auto(l5)   f   18   29  p   \n",
              "1           audi      a4    1.8  1999    4  manual(m5)   f   21   29  p   \n",
              "2           audi      a4    2.0  2008    4  manual(m6)   f   20   31  p   \n",
              "3           audi      a4    2.0  2008    4    auto(av)   f   21   30  p   \n",
              "4           audi      a4    2.8  1999    6    auto(l5)   f   16   26  p   \n",
              "..           ...     ...    ...   ...  ...         ...  ..  ...  ... ..   \n",
              "229   volkswagen  passat    2.0  2008    4    auto(s6)   f   19   28  p   \n",
              "230   volkswagen  passat    2.0  2008    4  manual(m6)   f   21   29  p   \n",
              "231   volkswagen  passat    2.8  1999    6    auto(l5)   f   16   26  p   \n",
              "232   volkswagen  passat    2.8  1999    6  manual(m5)   f   18   26  p   \n",
              "233   volkswagen  passat    3.6  2008    6    auto(s6)   f   17   26  p   \n",
              "\n",
              "    category  \n",
              "0    compact  \n",
              "1    compact  \n",
              "2    compact  \n",
              "3    compact  \n",
              "4    compact  \n",
              "..       ...  \n",
              "229  midsize  \n",
              "230  midsize  \n",
              "231  midsize  \n",
              "232  midsize  \n",
              "233  midsize  \n",
              "\n",
              "[234 rows x 11 columns]"
            ]
          },
          "execution_count": 46,
          "metadata": {},
          "output_type": "execute_result"
        }
      ],
      "source": [
        "mpg"
      ]
    },
    {
      "cell_type": "code",
      "execution_count": null,
      "metadata": {
        "id": "DodWgBOL9oIP",
        "outputId": "0166866e-7cec-49d2-8ad7-dfb6e26f4ebb"
      },
      "outputs": [
        {
          "data": {
            "text/plain": [
              "<matplotlib.axes._subplots.AxesSubplot at 0x7f7895011ed0>"
            ]
          },
          "execution_count": 50,
          "metadata": {},
          "output_type": "execute_result"
        },
        {
          "data": {
            "image/png": "[encoded data removed]",
            "text/plain": [
              "<Figure size 720x504 with 1 Axes>"
            ]
          },
          "metadata": {
            "needs_background": "light"
          },
          "output_type": "display_data"
        }
      ],
      "source": [
        "mpg.plot(kind='line', x='year',y=['cty','hwy'],figsize=(10,7))"
      ]
    },
    {
      "cell_type": "markdown",
      "metadata": {
        "id": "PWDvO1ti9oIQ"
      },
      "source": [
        "## 필수과제2\n",
        "- mpg, 타이타닉 데이터를 groupby 등으로 깔끔하게 정리한 데이터를 비교 시각화 진행해 주세요.\n",
        "- 최소 시각화는 5개 이상을 해주시고 ( 우리가 배웠던 다양한 그래프는 필수적으로 1개 이상씩은 진행해 주셔야 합니다. )\n"
      ]
    },
    {
      "cell_type": "markdown",
      "metadata": {
        "id": "WNO54vN99oIQ"
      },
      "source": [
        "## 다양한 시각화 그래프 여러 개 그리기!"
      ]
    },
    {
      "cell_type": "markdown",
      "metadata": {
        "id": "Bnk1TrMm9oIQ"
      },
      "source": [
        "- subplots을 통해서 그래프를 여러 개 그릴 수 있다.\n",
        "- 원리를 이해하면\n",
        "\n",
        "1. fig 도화지의 개념 그림의 밑바탕을 그리는 것\n",
        "2. 실제 그림을 그리는 것은 axis ax를 통해서 그림을 그린다"
      ]
    },
    {
      "cell_type": "code",
      "execution_count": null,
      "metadata": {
        "id": "1OhzKA369oIQ",
        "outputId": "29a8a779-0259-4c70-978c-3fcd6345f17d"
      },
      "outputs": [
        {
          "data": {
            "image/png": "[encoded data removed]",
            "text/plain": [
              "<Figure size 720x576 with 2 Axes>"
            ]
          },
          "metadata": {
            "needs_background": "light"
          },
          "output_type": "display_data"
        }
      ],
      "source": [
        "fig, (ax1, ax2) = plt.subplots(nrows=1, ncols=2, figsize=(10,8))"
      ]
    },
    {
      "cell_type": "code",
      "execution_count": null,
      "metadata": {
        "id": "UpDehTeI9oIQ",
        "outputId": "91ad32b0-69e1-42a7-bea3-f6599ed027d7"
      },
      "outputs": [
        {
          "data": {
            "image/png": "[encoded data removed]",
            "text/plain": [
              "<Figure size 720x576 with 3 Axes>"
            ]
          },
          "metadata": {
            "needs_background": "light"
          },
          "output_type": "display_data"
        }
      ],
      "source": [
        "fig, (ax1, ax2, ax3) = plt.subplots(nrows=1, ncols=3, figsize=(10,8))"
      ]
    },
    {
      "cell_type": "code",
      "execution_count": null,
      "metadata": {
        "id": "iXskJE6w9oIQ",
        "outputId": "59aaea53-1fae-4308-fb38-d10fe28412f0"
      },
      "outputs": [
        {
          "data": {
            "image/png": "[encoded data removed]",
            "text/plain": [
              "<Figure size 720x576 with 4 Axes>"
            ]
          },
          "metadata": {
            "needs_background": "light"
          },
          "output_type": "display_data"
        }
      ],
      "source": [
        "fig, (ax1, ax2, ax3, ax4) = plt.subplots(nrows=1, ncols=4, figsize=(10,8))"
      ]
    },
    {
      "cell_type": "code",
      "execution_count": null,
      "metadata": {
        "id": "eVv5syd_9oIQ",
        "outputId": "2b4c989a-01a2-44e2-86aa-9075845370ce"
      },
      "outputs": [
        {
          "data": {
            "text/plain": [
              "(array([1., 4., 4., 6., 5., 9., 3., 4., 1., 1.]),\n",
              " array([ 2. ,  2.9,  3.8,  4.7,  5.6,  6.5,  7.4,  8.3,  9.2, 10.1, 11. ]),\n",
              " <a list of 10 Patch objects>)"
            ]
          },
          "execution_count": 59,
          "metadata": {},
          "output_type": "execute_result"
        },
        {
          "data": {
            "image/png": "[encoded data removed]",
            "text/plain": [
              "<Figure size 720x576 with 2 Axes>"
            ]
          },
          "metadata": {
            "needs_background": "light"
          },
          "output_type": "display_data"
        }
      ],
      "source": [
        "fig, ax = plt.subplots(nrows=1, ncols=2, figsize=(10,8))\n",
        "# ax로만하고 row, col 지정해주면 알아서 매핑이 된다.\n",
        "ax[0].plot(mpg['cty'])\n",
        "ax[1].hist(mpg['model'].value_counts(), facecolor='red')"
      ]
    },
    {
      "cell_type": "markdown",
      "metadata": {
        "id": "k-un9Efd9oIR"
      },
      "source": [
        "### 필수과제 3\n",
        "- 1차원에 대한 시각화인데\n",
        "- 2차원, 2x2 3x3 의 시각화를 그려주세요.\n",
        "- mpg, titanic을 이용해서 각 컬럼에 대한 정리 또는 raw 데이터를 시각화하여 \n",
        "- 4,9개 정도로 그림을 그려 주세요!\n",
        "- 필수적으로 2차원 2개이상 그려주셔야 합니다!"
      ]
    },
    {
      "cell_type": "markdown",
      "metadata": {
        "id": "QDcyCQjR9oIR"
      },
      "source": [
        "### 반복문을 통한 다양한 그래프 그리기!"
      ]
    },
    {
      "cell_type": "code",
      "execution_count": null,
      "metadata": {
        "id": "o1fJDdjp9oIR",
        "outputId": "487da123-21d1-48f7-ee73-6f79f2ee3f84"
      },
      "outputs": [
        {
          "data": {
            "text/html": [
              "<div>\n",
              "<style scoped>\n",
              "    .dataframe tbody tr th:only-of-type {\n",
              "        vertical-align: middle;\n",
              "    }\n",
              "\n",
              "    .dataframe tbody tr th {\n",
              "        vertical-align: top;\n",
              "    }\n",
              "\n",
              "    .dataframe thead th {\n",
              "        text-align: right;\n",
              "    }\n",
              "</style>\n",
              "<table border=\"1\" class=\"dataframe\">\n",
              "  <thead>\n",
              "    <tr style=\"text-align: right;\">\n",
              "      <th></th>\n",
              "      <th>manufacturer</th>\n",
              "      <th>model</th>\n",
              "      <th>displ</th>\n",
              "      <th>year</th>\n",
              "      <th>cyl</th>\n",
              "      <th>trans</th>\n",
              "      <th>drv</th>\n",
              "      <th>cty</th>\n",
              "      <th>hwy</th>\n",
              "      <th>fl</th>\n",
              "      <th>category</th>\n",
              "    </tr>\n",
              "  </thead>\n",
              "  <tbody>\n",
              "    <tr>\n",
              "      <th>0</th>\n",
              "      <td>audi</td>\n",
              "      <td>a4</td>\n",
              "      <td>1.8</td>\n",
              "      <td>1999</td>\n",
              "      <td>4</td>\n",
              "      <td>auto(l5)</td>\n",
              "      <td>f</td>\n",
              "      <td>18</td>\n",
              "      <td>29</td>\n",
              "      <td>p</td>\n",
              "      <td>compact</td>\n",
              "    </tr>\n",
              "    <tr>\n",
              "      <th>1</th>\n",
              "      <td>audi</td>\n",
              "      <td>a4</td>\n",
              "      <td>1.8</td>\n",
              "      <td>1999</td>\n",
              "      <td>4</td>\n",
              "      <td>manual(m5)</td>\n",
              "      <td>f</td>\n",
              "      <td>21</td>\n",
              "      <td>29</td>\n",
              "      <td>p</td>\n",
              "      <td>compact</td>\n",
              "    </tr>\n",
              "    <tr>\n",
              "      <th>2</th>\n",
              "      <td>audi</td>\n",
              "      <td>a4</td>\n",
              "      <td>2.0</td>\n",
              "      <td>2008</td>\n",
              "      <td>4</td>\n",
              "      <td>manual(m6)</td>\n",
              "      <td>f</td>\n",
              "      <td>20</td>\n",
              "      <td>31</td>\n",
              "      <td>p</td>\n",
              "      <td>compact</td>\n",
              "    </tr>\n",
              "    <tr>\n",
              "      <th>3</th>\n",
              "      <td>audi</td>\n",
              "      <td>a4</td>\n",
              "      <td>2.0</td>\n",
              "      <td>2008</td>\n",
              "      <td>4</td>\n",
              "      <td>auto(av)</td>\n",
              "      <td>f</td>\n",
              "      <td>21</td>\n",
              "      <td>30</td>\n",
              "      <td>p</td>\n",
              "      <td>compact</td>\n",
              "    </tr>\n",
              "    <tr>\n",
              "      <th>4</th>\n",
              "      <td>audi</td>\n",
              "      <td>a4</td>\n",
              "      <td>2.8</td>\n",
              "      <td>1999</td>\n",
              "      <td>6</td>\n",
              "      <td>auto(l5)</td>\n",
              "      <td>f</td>\n",
              "      <td>16</td>\n",
              "      <td>26</td>\n",
              "      <td>p</td>\n",
              "      <td>compact</td>\n",
              "    </tr>\n",
              "    <tr>\n",
              "      <th>...</th>\n",
              "      <td>...</td>\n",
              "      <td>...</td>\n",
              "      <td>...</td>\n",
              "      <td>...</td>\n",
              "      <td>...</td>\n",
              "      <td>...</td>\n",
              "      <td>...</td>\n",
              "      <td>...</td>\n",
              "      <td>...</td>\n",
              "      <td>...</td>\n",
              "      <td>...</td>\n",
              "    </tr>\n",
              "    <tr>\n",
              "      <th>229</th>\n",
              "      <td>volkswagen</td>\n",
              "      <td>passat</td>\n",
              "      <td>2.0</td>\n",
              "      <td>2008</td>\n",
              "      <td>4</td>\n",
              "      <td>auto(s6)</td>\n",
              "      <td>f</td>\n",
              "      <td>19</td>\n",
              "      <td>28</td>\n",
              "      <td>p</td>\n",
              "      <td>midsize</td>\n",
              "    </tr>\n",
              "    <tr>\n",
              "      <th>230</th>\n",
              "      <td>volkswagen</td>\n",
              "      <td>passat</td>\n",
              "      <td>2.0</td>\n",
              "      <td>2008</td>\n",
              "      <td>4</td>\n",
              "      <td>manual(m6)</td>\n",
              "      <td>f</td>\n",
              "      <td>21</td>\n",
              "      <td>29</td>\n",
              "      <td>p</td>\n",
              "      <td>midsize</td>\n",
              "    </tr>\n",
              "    <tr>\n",
              "      <th>231</th>\n",
              "      <td>volkswagen</td>\n",
              "      <td>passat</td>\n",
              "      <td>2.8</td>\n",
              "      <td>1999</td>\n",
              "      <td>6</td>\n",
              "      <td>auto(l5)</td>\n",
              "      <td>f</td>\n",
              "      <td>16</td>\n",
              "      <td>26</td>\n",
              "      <td>p</td>\n",
              "      <td>midsize</td>\n",
              "    </tr>\n",
              "    <tr>\n",
              "      <th>232</th>\n",
              "      <td>volkswagen</td>\n",
              "      <td>passat</td>\n",
              "      <td>2.8</td>\n",
              "      <td>1999</td>\n",
              "      <td>6</td>\n",
              "      <td>manual(m5)</td>\n",
              "      <td>f</td>\n",
              "      <td>18</td>\n",
              "      <td>26</td>\n",
              "      <td>p</td>\n",
              "      <td>midsize</td>\n",
              "    </tr>\n",
              "    <tr>\n",
              "      <th>233</th>\n",
              "      <td>volkswagen</td>\n",
              "      <td>passat</td>\n",
              "      <td>3.6</td>\n",
              "      <td>2008</td>\n",
              "      <td>6</td>\n",
              "      <td>auto(s6)</td>\n",
              "      <td>f</td>\n",
              "      <td>17</td>\n",
              "      <td>26</td>\n",
              "      <td>p</td>\n",
              "      <td>midsize</td>\n",
              "    </tr>\n",
              "  </tbody>\n",
              "</table>\n",
              "<p>234 rows × 11 columns</p>\n",
              "</div>"
            ],
            "text/plain": [
              "    manufacturer   model  displ  year  cyl       trans drv  cty  hwy fl  \\\n",
              "0           audi      a4    1.8  1999    4    auto(l5)   f   18   29  p   \n",
              "1           audi      a4    1.8  1999    4  manual(m5)   f   21   29  p   \n",
              "2           audi      a4    2.0  2008    4  manual(m6)   f   20   31  p   \n",
              "3           audi      a4    2.0  2008    4    auto(av)   f   21   30  p   \n",
              "4           audi      a4    2.8  1999    6    auto(l5)   f   16   26  p   \n",
              "..           ...     ...    ...   ...  ...         ...  ..  ...  ... ..   \n",
              "229   volkswagen  passat    2.0  2008    4    auto(s6)   f   19   28  p   \n",
              "230   volkswagen  passat    2.0  2008    4  manual(m6)   f   21   29  p   \n",
              "231   volkswagen  passat    2.8  1999    6    auto(l5)   f   16   26  p   \n",
              "232   volkswagen  passat    2.8  1999    6  manual(m5)   f   18   26  p   \n",
              "233   volkswagen  passat    3.6  2008    6    auto(s6)   f   17   26  p   \n",
              "\n",
              "    category  \n",
              "0    compact  \n",
              "1    compact  \n",
              "2    compact  \n",
              "3    compact  \n",
              "4    compact  \n",
              "..       ...  \n",
              "229  midsize  \n",
              "230  midsize  \n",
              "231  midsize  \n",
              "232  midsize  \n",
              "233  midsize  \n",
              "\n",
              "[234 rows x 11 columns]"
            ]
          },
          "execution_count": 60,
          "metadata": {},
          "output_type": "execute_result"
        }
      ],
      "source": [
        "mpg"
      ]
    },
    {
      "cell_type": "code",
      "execution_count": null,
      "metadata": {
        "id": "rmHTSqWu9oIR",
        "outputId": "06b18c62-e590-4432-ebec-a445d9e1ce43"
      },
      "outputs": [
        {
          "data": {
            "image/png": "[encoded data removed]",
            "text/plain": [
              "<Figure size 1152x720 with 4 Axes>"
            ]
          },
          "metadata": {
            "needs_background": "light"
          },
          "output_type": "display_data"
        }
      ],
      "source": [
        "# 반복문을 하기 위해서는 도화지가 필요하다.\n",
        "# 도화지 몇 개 할지를 정해야 한다. \n",
        "# 도화지를 2x2로 하겠다. 4개의 그림을 그릴 준비를 해야 한다.\n",
        "\n",
        "#gridspec 라이브러리를 이용해서 만들어 보자!\n",
        "\n",
        "import matplotlib.gridspec as gridspec\n",
        "grid = gridspec.GridSpec(2,2) #그래프 4가지를 그리겠다. \n",
        "plt.figure(figsize=(16,10))\n",
        "plt.subplots_adjust(wspace= 0.5, hspace= 0.4) #여러 개 그래프가 그려질 것이니 서로 충돌하지 않게 간격 조절\n",
        "\n",
        "mpg_features = ['manufacturer','model','category','drv']\n",
        "\n",
        "## 4가지 모두 다 문자열 데이터이므로 count에 대한 시각화를 진행해야 한다.\n",
        "\n",
        "\n",
        "#sns 카운트 플랏을 그려보겠다.\n",
        "\n",
        "for idx, feature in enumerate(mpg_features):\n",
        "    ax = plt.subplot(grid[idx])\n",
        "    \n",
        "    sns.countplot(x=feature,\n",
        "                 data= mpg,\n",
        "                 hue='drv',\n",
        "                 palette = 'pastel' , #색상조절하기\n",
        "                  ax = ax) \n",
        "    ax.set_title(f'{feature} Distribution')"
      ]
    },
    {
      "cell_type": "markdown",
      "metadata": {
        "id": "YF9MNpvC9oIR"
      },
      "source": [
        "### 필수과제 4\n",
        "- 제공한 데이터를 가지고 시각화를 진행해 주세요!\n",
        "- 시각화의 경우는 하나의 그래프를 그리는 것이 아닌 \n",
        "- 문자열데이터와 수치형데이터를 나눠서 그래프를 그려주세요!\n",
        "- 학습이 목적이기 때문에 모든 컬럼을 다 그래프로 그려주세요!\n",
        "- 단 그래프로 그릴 때 설명할 수 있는 그래프로 만들어 주셔야 합니다.\n",
        "- 데이터가 많아지면 문자열 끼리 겹치는 경우가 있다. 그래프의 축에 내용들이 겹치지 않게 진행해 주세요. \n",
        "- x의 값을 각도를 조절해도 되고, x, y 축반전해도 된다. \n",
        "- 해당 그래프를 통해서 누구나 다 쉽게 이해할 수 있게 정리 부탁드립니다.\n",
        "\n",
        "\n",
        "- 시각화를 통한 비교 분석도 진행해 주세요!\n",
        "- 데이터를 드릴 때 class 또는 정답이 있을 것이다.\n",
        "- 이진 분류면 1, 0 등 class의 값에 따른 피처의 분포가 어떻게 되는지 시각화를 통해서 확인하고\n",
        "- 그걸 통해서 이진분류, 또는 다중분류의 경우 건 y 값의 따른 피처들의 분포가 어떻게 다른지를 꼭 정리해 주셔야 합니다.\n",
        "- 대충 글만 적고 소팅하고 개수만 말하는 건 인정하지 않습니다.(주관적이지만 성의없는 건 value_counts해서 몇 개가 많다 끝 이런 건 인정하지 않습니다.)\n",
        "- 비교분석과 y 값에 대한 패턴을 잘 나타내야 합니다.\n",
        "\n",
        "- 시각화를 통한 컬럼의 정규분포를 검정해주세요.\n",
        "- shapiro, 등을 통해 정규성을 검정하고 실제로 시각화 그래프와 실제 정규성 검정을 한 것이 어떻게 나오는지도 비교 분석 부탁드립니다."
      ]
    },
    {
      "cell_type": "markdown",
      "metadata": {
        "id": "y0i66HuQ9oIS"
      },
      "source": [
        "- 과제 데드라인 공유\n",
        "- 복습은 동일하게 적용 ( 예외가 없습니다. )\n",
        "- 이번 필수과제는 시험기간 끝난 후 ( 휴회기간 끝나고 첫 수업 진행 되기 전까지 ) 첫 수업 진행 전까지 제출\n",
        "- 팀으로 하셔도 되고, 개인 하셔도 됩니다. \n",
        "- 네이버카페에 올려주시는 (자율) 분은 동일하게 조별과제의 개념으로 점수 산정이 될 것"
      ]
    },
    {
      "cell_type": "code",
      "execution_count": null,
      "metadata": {
        "id": "xeZMxkTQ9oIS",
        "outputId": "bd4659ce-a4d3-41eb-f675-1035d9f50847"
      },
      "outputs": [
        {
          "name": "stdout",
          "output_type": "stream",
          "text": [
            "<class 'pandas.core.frame.DataFrame'>\n",
            "RangeIndex: 234 entries, 0 to 233\n",
            "Data columns (total 11 columns):\n",
            " #   Column        Non-Null Count  Dtype  \n",
            "---  ------        --------------  -----  \n",
            " 0   manufacturer  234 non-null    object \n",
            " 1   model         234 non-null    object \n",
            " 2   displ         234 non-null    float64\n",
            " 3   year          234 non-null    int64  \n",
            " 4   cyl           234 non-null    int64  \n",
            " 5   trans         234 non-null    object \n",
            " 6   drv           234 non-null    object \n",
            " 7   cty           234 non-null    int64  \n",
            " 8   hwy           234 non-null    int64  \n",
            " 9   fl            234 non-null    object \n",
            " 10  category      234 non-null    object \n",
            "dtypes: float64(1), int64(4), object(6)\n",
            "memory usage: 20.2+ KB\n"
          ]
        }
      ],
      "source": [
        "mpg.info()"
      ]
    },
    {
      "cell_type": "code",
      "execution_count": null,
      "metadata": {
        "id": "zEV5wrN39oIS"
      },
      "outputs": [],
      "source": []
    }
  ],
  "metadata": {
    "kernelspec": {
      "display_name": "Python 3",
      "language": "python",
      "name": "python3"
    },
    "language_info": {
      "codemirror_mode": {
        "name": "ipython",
        "version": 3
      },
      "file_extension": ".py",
      "mimetype": "text/x-python",
      "name": "python",
      "nbconvert_exporter": "python",
      "pygments_lexer": "ipython3",
      "version": "3.7.6"
    },
    "colab": {
      "provenance": [],
      "include_colab_link": true
    }
  },
  "nbformat": 4,
  "nbformat_minor": 0
}